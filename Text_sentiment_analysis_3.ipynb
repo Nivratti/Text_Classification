{
  "nbformat": 4,
  "nbformat_minor": 0,
  "metadata": {
    "colab": {
      "name": "Text-sentiment-analysis-3.ipynb",
      "provenance": [],
      "collapsed_sections": [
        "pmeqyLde51XU",
        "YvHXIZAD55pc"
      ],
      "include_colab_link": true
    },
    "kernelspec": {
      "name": "python3",
      "display_name": "Python 3"
    },
    "accelerator": "GPU"
  },
  "cells": [
    {
      "cell_type": "markdown",
      "metadata": {
        "id": "view-in-github",
        "colab_type": "text"
      },
      "source": [
        "<a href=\"https://colab.research.google.com/github/Nivratti/Text_Classification/blob/master/Text_sentiment_analysis_3.ipynb\" target=\"_parent\"><img src=\"https://colab.research.google.com/assets/colab-badge.svg\" alt=\"Open In Colab\"/></a>"
      ]
    },
    {
      "cell_type": "markdown",
      "metadata": {
        "id": "P0RyGlWpct5y",
        "colab_type": "text"
      },
      "source": [
        "# Text sentiment analysis on twitter US airline sentiment"
      ]
    },
    {
      "cell_type": "markdown",
      "metadata": {
        "id": "nzu4UWqO3iH8",
        "colab_type": "text"
      },
      "source": [
        "# Connect Google Colab with Google Drive"
      ]
    },
    {
      "cell_type": "code",
      "metadata": {
        "id": "3G64KSaO3ju9",
        "colab_type": "code",
        "colab": {
          "base_uri": "https://localhost:8080/",
          "height": 35
        },
        "outputId": "48854b7c-4469-4175-859b-62b61cdfc411"
      },
      "source": [
        "from google.colab import drive"
      ],
      "execution_count": 159,
      "outputs": [
        {
          "output_type": "stream",
          "text": [
            "time: 1.31 ms\n"
          ],
          "name": "stdout"
        }
      ]
    },
    {
      "cell_type": "code",
      "metadata": {
        "id": "VJcNFwSE3ns1",
        "colab_type": "code",
        "outputId": "9d93ab00-f43c-42dc-de66-b2c4c63e5165",
        "colab": {
          "base_uri": "https://localhost:8080/",
          "height": 53
        }
      },
      "source": [
        "drive.mount('/content/gdrive')"
      ],
      "execution_count": 160,
      "outputs": [
        {
          "output_type": "stream",
          "text": [
            "Drive already mounted at /content/gdrive; to attempt to forcibly remount, call drive.mount(\"/content/gdrive\", force_remount=True).\n",
            "time: 2.19 ms\n"
          ],
          "name": "stdout"
        }
      ]
    },
    {
      "cell_type": "markdown",
      "metadata": {
        "id": "iNUnBH5GjYRA",
        "colab_type": "text"
      },
      "source": [
        "## prevent-google-colab-from-disconnecting"
      ]
    },
    {
      "cell_type": "markdown",
      "metadata": {
        "id": "kPlKxvxLivvd",
        "colab_type": "text"
      },
      "source": [
        "Google Colab notebooks have an idle timeout of 90 minutes and absolute timeout of 12 hours. This means, if user does not interact with his Google Colab notebook for more than 90 minutes, its instance is automatically terminated. Also, maximum lifetime of a Colab instance is 12 hours.\n",
        "\n",
        "Solution:\n",
        "\n",
        "Set a javascript interval to click on the connect button every 60 seconds. Open developer-settings (in your web-browser) with Ctrl+Shift+I then click on console tab and type this on the console prompt. (for mac press Option+Command+I)\n",
        "\n",
        "inser below code on console\n",
        "\n",
        "```\n",
        "function ConnectButton(){\n",
        "    console.log(\"Connect pushed\"); \n",
        "    document.querySelector(\"#top-toolbar > colab-connect-button\").shadowRoot.querySelector(\"#connect\").click() \n",
        "}\n",
        "setInterval(ConnectButton, 1000);\n",
        "```\n",
        "\n",
        "\n"
      ]
    },
    {
      "cell_type": "markdown",
      "metadata": {
        "id": "47BMevlphFtj",
        "colab_type": "text"
      },
      "source": [
        "# Execution Time"
      ]
    },
    {
      "cell_type": "code",
      "metadata": {
        "id": "B6s_b71thFF3",
        "colab_type": "code",
        "outputId": "7d367b65-ecdb-4214-b320-1d4873ccb364",
        "colab": {
          "base_uri": "https://localhost:8080/",
          "height": 89
        }
      },
      "source": [
        "!pip install ipython-autotime\n",
        "\n",
        "%load_ext autotime"
      ],
      "execution_count": 161,
      "outputs": [
        {
          "output_type": "stream",
          "text": [
            "Requirement already satisfied: ipython-autotime in /usr/local/lib/python3.6/dist-packages (0.1)\n",
            "The autotime extension is already loaded. To reload it, use:\n",
            "  %reload_ext autotime\n",
            "time: 11.8 s\n"
          ],
          "name": "stdout"
        }
      ]
    },
    {
      "cell_type": "markdown",
      "metadata": {
        "id": "nR8lB67Y4NsF",
        "colab_type": "text"
      },
      "source": [
        "# Tensorflow with GPU -- For faster training"
      ]
    },
    {
      "cell_type": "markdown",
      "metadata": {
        "id": "4kJQBOgL4aVT",
        "colab_type": "text"
      },
      "source": [
        "Enabling and testing the GPU"
      ]
    },
    {
      "cell_type": "markdown",
      "metadata": {
        "id": "7WWt4C1h4d7L",
        "colab_type": "text"
      },
      "source": [
        "First, you'll need to enable GPUs for the notebook:\n",
        "\n",
        "Navigate to Edit→Notebook Settings\n",
        "select GPU from the Hardware Accelerator drop-down\n",
        "Next, we'll confirm that we can connect to the GPU with tensorflow:"
      ]
    },
    {
      "cell_type": "code",
      "metadata": {
        "id": "WqrHWhM74Q8X",
        "colab_type": "code",
        "outputId": "303f6a20-5cf3-407e-d89e-82422581ff89",
        "colab": {
          "base_uri": "https://localhost:8080/",
          "height": 53
        }
      },
      "source": [
        "%tensorflow_version 1.x\n",
        "import tensorflow as tf\n",
        "device_name = tf.test.gpu_device_name()\n",
        "if device_name != '/device:GPU:0':\n",
        "  raise SystemError('GPU device not found')\n",
        "print('Found GPU at: {}'.format(device_name))"
      ],
      "execution_count": 162,
      "outputs": [
        {
          "output_type": "stream",
          "text": [
            "Found GPU at: /device:GPU:0\n",
            "time: 14.1 ms\n"
          ],
          "name": "stdout"
        }
      ]
    },
    {
      "cell_type": "markdown",
      "metadata": {
        "id": "zyI5VRJj4vX-",
        "colab_type": "text"
      },
      "source": [
        "# Global vars"
      ]
    },
    {
      "cell_type": "code",
      "metadata": {
        "id": "qWXwvsSpax-T",
        "colab_type": "code",
        "colab": {
          "base_uri": "https://localhost:8080/",
          "height": 35
        },
        "outputId": "849de881-da61-4930-f6e5-ecf650097aae"
      },
      "source": [
        "import os\n",
        "\n",
        "# project folder on rive containing dataset, trained model and other files\n",
        "DRIVE_PROJECT_BASE_DIR = \"/content/gdrive/My Drive/deep_learning/text_sentiment_analysis/\"\n",
        "\n",
        "BASE_DATASET_DIR = os.path.join(\n",
        "    DRIVE_PROJECT_BASE_DIR , \"dataset\"\n",
        ")\n",
        "\n",
        "input_csv_path = os.path.join(\n",
        "    BASE_DATASET_DIR , \"modified-twitter-us-airline-sentiment.csv\"\n",
        ")"
      ],
      "execution_count": 163,
      "outputs": [
        {
          "output_type": "stream",
          "text": [
            "time: 4.46 ms\n"
          ],
          "name": "stdout"
        }
      ]
    },
    {
      "cell_type": "markdown",
      "metadata": {
        "id": "pmeqyLde51XU",
        "colab_type": "text"
      },
      "source": [
        "#  utils"
      ]
    },
    {
      "cell_type": "markdown",
      "metadata": {
        "id": "YvHXIZAD55pc",
        "colab_type": "text"
      },
      "source": [
        "## Pandas utils"
      ]
    },
    {
      "cell_type": "code",
      "metadata": {
        "id": "qB7mE6oa6DHr",
        "colab_type": "code",
        "colab": {
          "base_uri": "https://localhost:8080/",
          "height": 0
        },
        "outputId": "5116448e-43f4-4131-ae9e-24285c84d135"
      },
      "source": [
        "import pandas as pd\n",
        "import os\n",
        "import sys\n",
        "\n",
        "\n",
        "def read_file_as_df(file__path):\n",
        "    \"\"\"\n",
        "    read file data using pandas\n",
        "    \n",
        "    Arguments:\n",
        "        file__path {string} -- File with path\n",
        "    \n",
        "    Returns:\n",
        "        DataFrame -- pandas.core.frame.DataFrame\n",
        "    \"\"\"\n",
        "    # file__path -- file with path(double underscore)\n",
        "    if os.path.exists(file__path):\n",
        "        file_name, extension = os.path.splitext(\n",
        "            file__path\n",
        "        )\n",
        "        if extension in [\".xlsx\", \".xls\"]:\n",
        "            df = pd.read_excel(file__path)\n",
        "\n",
        "        elif extension in [\".csv\"]:\n",
        "            df = pd.read_csv(file__path)\n",
        "\n",
        "        else:\n",
        "            error_msg = f\"\"\"\n",
        "                Error .. Unsupported file type\n",
        "                {extension} to read_file_data()\n",
        "            \"\"\"\n",
        "            print(error_msg)\n",
        "            return False\n",
        "\n",
        "        return df\n",
        "    else:\n",
        "        error_msg = f\"\"\"\n",
        "            Error ... File not exists with\n",
        "            path {file__path}\n",
        "        \"\"\"\n",
        "        print(error_msg)\n",
        "        sys.exit(error_msg)\n",
        "\n",
        "def is_columns_exists(df, columns):\n",
        "    \"\"\"\n",
        "    check is columns exists in dataframe\n",
        "    \n",
        "    Arguments:\n",
        "        df {[type]} -- [description]\n",
        "        columns {[type]} -- [description]\n",
        "    \"\"\"\n",
        "    all_exists = True\n",
        "    for column in columns:\n",
        "        if column in df.columns:\n",
        "            pass\n",
        "        else:\n",
        "            all_exists = False\n",
        "            print(\n",
        "                f\"Column not exists in dataframe\"\n",
        "            )\n",
        "    return all_exists\n",
        "\n",
        "def keep_only_req_columns(df, columns):\n",
        "    \"\"\"\n",
        "    Keeping only the necessary/required columns\n",
        "    \n",
        "    Arguments:\n",
        "        df {[type]} -- [description]\n",
        "        columns {list} -- ['text','sentiment']\n",
        "    \n",
        "    Returns:\n",
        "        [type] -- [description]\n",
        "    \"\"\"\n",
        "    return df[columns]\n",
        "\n",
        "def filter_dataframe_rows(data_frame, row_rules):\n",
        "    \"\"\"\n",
        "    filter dataframe row data\n",
        "    data_frame (diffrent name taken for argument because it is mutable\n",
        "    changable type)\n",
        "    \n",
        "    Arguments:\n",
        "        data_frame {[type]} -- [description]\n",
        "        row_rules {[type]} -- [description]\n",
        "    \n",
        "    Returns:\n",
        "        dataFrame -- modified dataframe\n",
        "\n",
        "    input examples:\n",
        "        row_rules = [{\n",
        "            \"rule\" : 'keep_row_if_column_text_not_equal_to',\n",
        "            \"column_name\": \"text\",\n",
        "            \"text\": \"Neutral\"\n",
        "        },\n",
        "        {\n",
        "            \"rule\" : 'drop_if_column_value_null',\n",
        "            \"column_name\": \"text\",\n",
        "            \"drop\": True\n",
        "        }]\n",
        "    \"\"\"\n",
        "    for rule_item in row_rules:\n",
        "        rule = rule_item.get(\"rule\")\n",
        "        if 'keep_row_if_column_text_not_equal_to' == rule:\n",
        "            column = rule_item['column_name']\n",
        "            text = rule_item['text']\n",
        "            \n",
        "            data_frame = data_frame[\n",
        "                data_frame[column] != text\n",
        "            ]\n",
        "        \n",
        "        if 'drop_if_column_value_null' == rule:\n",
        "            column = rule_item['column_name']\n",
        "            data_frame = data_frame[\n",
        "                data_frame[column].str.strip().astype(bool)\n",
        "            ]\n",
        "            \n",
        "    return data_frame\n",
        "\n",
        "def generate_df_from_mongo_cursor(cursor, remove_id=False):\n",
        "    \"\"\"\n",
        "    [summary]\n",
        "    \n",
        "    Arguments:\n",
        "        cursor {[type]} -- Result of record fetching\n",
        "    \"\"\"\n",
        "    df = pd.DataFrame(\n",
        "        list(cursor)\n",
        "    )\n",
        "    if remove_id:\n",
        "        # delete the _id\n",
        "        del df['_id']\n",
        "    return df\n"
      ],
      "execution_count": 164,
      "outputs": [
        {
          "output_type": "stream",
          "text": [
            "time: 44.9 ms\n"
          ],
          "name": "stdout"
        }
      ]
    },
    {
      "cell_type": "markdown",
      "metadata": {
        "id": "KDhu4lg2hvvU",
        "colab_type": "text"
      },
      "source": [
        "# Load Packages"
      ]
    },
    {
      "cell_type": "code",
      "metadata": {
        "id": "mre7XMqbhxX9",
        "colab_type": "code",
        "outputId": "6b841b10-94c6-4c4b-e677-c3ad9d040749",
        "colab": {
          "base_uri": "https://localhost:8080/",
          "height": 35
        }
      },
      "source": [
        "import matplotlib.pyplot as plt\n",
        "from tensorflow.python.keras import models, layers, optimizers\n",
        "import tensorflow\n",
        "from tensorflow.keras.preprocessing.text import Tokenizer, text_to_word_sequence\n",
        "from tensorflow.keras.preprocessing.sequence import pad_sequences\n",
        "import bz2\n",
        "from sklearn.metrics import f1_score, roc_auc_score, accuracy_score\n",
        "import re\n",
        "import numpy as np\n",
        "%matplotlib inline\n"
      ],
      "execution_count": 165,
      "outputs": [
        {
          "output_type": "stream",
          "text": [
            "time: 5.35 ms\n"
          ],
          "name": "stdout"
        }
      ]
    },
    {
      "cell_type": "markdown",
      "metadata": {
        "id": "snZLATCWqbst",
        "colab_type": "text"
      },
      "source": [
        "# Read dataset and view its metadata"
      ]
    },
    {
      "cell_type": "markdown",
      "metadata": {
        "id": "KtOxHtc9reHT",
        "colab_type": "text"
      },
      "source": [
        "## Read dataset"
      ]
    },
    {
      "cell_type": "code",
      "metadata": {
        "id": "Qa-ZquHvrgBv",
        "colab_type": "code",
        "colab": {
          "base_uri": "https://localhost:8080/",
          "height": 35
        },
        "outputId": "c9582f69-b629-420c-b581-6e16ed2594f5"
      },
      "source": [
        "#load data as dataframe\n",
        "dataset = read_file_as_df(input_csv_path)"
      ],
      "execution_count": 166,
      "outputs": [
        {
          "output_type": "stream",
          "text": [
            "time: 42.4 ms\n"
          ],
          "name": "stdout"
        }
      ]
    },
    {
      "cell_type": "markdown",
      "metadata": {
        "id": "9ArdWBXhrrxQ",
        "colab_type": "text"
      },
      "source": [
        "## View info about dataframe"
      ]
    },
    {
      "cell_type": "markdown",
      "metadata": {
        "id": "KO_nPTQh7Otg",
        "colab_type": "text"
      },
      "source": [
        "Number of rows and columns of data"
      ]
    },
    {
      "cell_type": "code",
      "metadata": {
        "id": "but5FISnr6gX",
        "colab_type": "code",
        "outputId": "e6076977-d326-4757-e61a-3871708ab9ef",
        "colab": {
          "base_uri": "https://localhost:8080/",
          "height": 53
        }
      },
      "source": [
        "print(f\"Dataframe shape  : { dataset.shape }\")"
      ],
      "execution_count": 167,
      "outputs": [
        {
          "output_type": "stream",
          "text": [
            "Dataframe shape  : (14640, 3)\n",
            "time: 2.39 ms\n"
          ],
          "name": "stdout"
        }
      ]
    },
    {
      "cell_type": "markdown",
      "metadata": {
        "id": "NpH1q08asw8b",
        "colab_type": "text"
      },
      "source": [
        "Columns"
      ]
    },
    {
      "cell_type": "code",
      "metadata": {
        "id": "9vWtSJqwr-Xq",
        "colab_type": "code",
        "outputId": "bcec3880-b38d-4676-ace5-08755e3cbd4b",
        "colab": {
          "base_uri": "https://localhost:8080/",
          "height": 71
        }
      },
      "source": [
        "print(f\"Dataframe columns : \\n{dataset.columns }\")"
      ],
      "execution_count": 168,
      "outputs": [
        {
          "output_type": "stream",
          "text": [
            "Dataframe columns : \n",
            "Index(['Unnamed: 0', 'sentiment', 'text'], dtype='object')\n",
            "time: 1.93 ms\n"
          ],
          "name": "stdout"
        }
      ]
    },
    {
      "cell_type": "markdown",
      "metadata": {
        "id": "rC62DYo3s1Jy",
        "colab_type": "text"
      },
      "source": [
        "Look at first 5 rows"
      ]
    },
    {
      "cell_type": "code",
      "metadata": {
        "id": "VGDaHJeDs1u4",
        "colab_type": "code",
        "outputId": "97b468c0-736b-44b6-a693-ea22dccd9411",
        "colab": {
          "base_uri": "https://localhost:8080/",
          "height": 222
        }
      },
      "source": [
        "dataset.head()"
      ],
      "execution_count": 169,
      "outputs": [
        {
          "output_type": "execute_result",
          "data": {
            "text/html": [
              "<div>\n",
              "<style scoped>\n",
              "    .dataframe tbody tr th:only-of-type {\n",
              "        vertical-align: middle;\n",
              "    }\n",
              "\n",
              "    .dataframe tbody tr th {\n",
              "        vertical-align: top;\n",
              "    }\n",
              "\n",
              "    .dataframe thead th {\n",
              "        text-align: right;\n",
              "    }\n",
              "</style>\n",
              "<table border=\"1\" class=\"dataframe\">\n",
              "  <thead>\n",
              "    <tr style=\"text-align: right;\">\n",
              "      <th></th>\n",
              "      <th>Unnamed: 0</th>\n",
              "      <th>sentiment</th>\n",
              "      <th>text</th>\n",
              "    </tr>\n",
              "  </thead>\n",
              "  <tbody>\n",
              "    <tr>\n",
              "      <th>0</th>\n",
              "      <td>0</td>\n",
              "      <td>neutral</td>\n",
              "      <td>@VirginAmerica What @dhepburn said.</td>\n",
              "    </tr>\n",
              "    <tr>\n",
              "      <th>1</th>\n",
              "      <td>1</td>\n",
              "      <td>positive</td>\n",
              "      <td>@VirginAmerica plus you've added commercials t...</td>\n",
              "    </tr>\n",
              "    <tr>\n",
              "      <th>2</th>\n",
              "      <td>2</td>\n",
              "      <td>neutral</td>\n",
              "      <td>@VirginAmerica I didn't today... Must mean I n...</td>\n",
              "    </tr>\n",
              "    <tr>\n",
              "      <th>3</th>\n",
              "      <td>3</td>\n",
              "      <td>negative</td>\n",
              "      <td>@VirginAmerica it's really aggressive to blast...</td>\n",
              "    </tr>\n",
              "    <tr>\n",
              "      <th>4</th>\n",
              "      <td>4</td>\n",
              "      <td>negative</td>\n",
              "      <td>@VirginAmerica and it's a really big bad thing...</td>\n",
              "    </tr>\n",
              "  </tbody>\n",
              "</table>\n",
              "</div>"
            ],
            "text/plain": [
              "   Unnamed: 0 sentiment                                               text\n",
              "0           0   neutral                @VirginAmerica What @dhepburn said.\n",
              "1           1  positive  @VirginAmerica plus you've added commercials t...\n",
              "2           2   neutral  @VirginAmerica I didn't today... Must mean I n...\n",
              "3           3  negative  @VirginAmerica it's really aggressive to blast...\n",
              "4           4  negative  @VirginAmerica and it's a really big bad thing..."
            ]
          },
          "metadata": {
            "tags": []
          },
          "execution_count": 169
        },
        {
          "output_type": "stream",
          "text": [
            "time: 25.5 ms\n"
          ],
          "name": "stdout"
        }
      ]
    },
    {
      "cell_type": "markdown",
      "metadata": {
        "id": "wQUIT1AEtmy7",
        "colab_type": "text"
      },
      "source": [
        "rename columns"
      ]
    },
    {
      "cell_type": "code",
      "metadata": {
        "id": "qJviTMzUtocK",
        "colab_type": "code",
        "outputId": "db9b2ff6-be65-4b0a-b628-914455cdb460",
        "colab": {
          "base_uri": "https://localhost:8080/",
          "height": 35
        }
      },
      "source": [
        "# dataset = dataset.rename(columns={\"airline_sentiment\": \"sentiment\"})\n",
        "# dataset.head()"
      ],
      "execution_count": 170,
      "outputs": [
        {
          "output_type": "stream",
          "text": [
            "time: 1.17 ms\n"
          ],
          "name": "stdout"
        }
      ]
    },
    {
      "cell_type": "markdown",
      "metadata": {
        "id": "COFNTWvjuCTz",
        "colab_type": "text"
      },
      "source": [
        "Checking whether there is any null values (for text and sentiment column)"
      ]
    },
    {
      "cell_type": "code",
      "metadata": {
        "id": "rgJP5DXguEnQ",
        "colab_type": "code",
        "outputId": "84db5ae2-b8f8-43e1-e1a4-b8e333d4a93a",
        "colab": {
          "base_uri": "https://localhost:8080/",
          "height": 89
        }
      },
      "source": [
        "dataset.isnull().sum()"
      ],
      "execution_count": 171,
      "outputs": [
        {
          "output_type": "execute_result",
          "data": {
            "text/plain": [
              "Unnamed: 0    0\n",
              "sentiment     0\n",
              "text          0\n",
              "dtype: int64"
            ]
          },
          "metadata": {
            "tags": []
          },
          "execution_count": 171
        },
        {
          "output_type": "stream",
          "text": [
            "time: 13.9 ms\n"
          ],
          "name": "stdout"
        }
      ]
    },
    {
      "cell_type": "markdown",
      "metadata": {
        "id": "9b2Z0m5EwhFF",
        "colab_type": "text"
      },
      "source": [
        "drop null review rows if exists"
      ]
    },
    {
      "cell_type": "code",
      "metadata": {
        "id": "LVVzWxMNwgLM",
        "colab_type": "code",
        "colab": {
          "base_uri": "https://localhost:8080/",
          "height": 35
        },
        "outputId": "b4394957-8eff-496d-f4cb-37aa8ba6c39f"
      },
      "source": [
        "# # drop null review rows\n",
        "# dataset = dataset[~dataset['text'].isnull()]\n",
        "\n",
        "# # after dropping null\n",
        "# dataset.isnull().sum()"
      ],
      "execution_count": 172,
      "outputs": [
        {
          "output_type": "stream",
          "text": [
            "time: 559 µs\n"
          ],
          "name": "stdout"
        }
      ]
    },
    {
      "cell_type": "markdown",
      "metadata": {
        "id": "w2Z8ZsZ8wuTv",
        "colab_type": "text"
      },
      "source": [
        "view data per class"
      ]
    },
    {
      "cell_type": "code",
      "metadata": {
        "id": "dwuHU1PFwyO1",
        "colab_type": "code",
        "outputId": "589a0d6f-7db2-482d-ed7b-a515840f0def",
        "colab": {
          "base_uri": "https://localhost:8080/",
          "height": 335
        }
      },
      "source": [
        "dataset[\"sentiment\"].value_counts().plot.bar()"
      ],
      "execution_count": 173,
      "outputs": [
        {
          "output_type": "execute_result",
          "data": {
            "text/plain": [
              "<matplotlib.axes._subplots.AxesSubplot at 0x7f8816473f28>"
            ]
          },
          "metadata": {
            "tags": []
          },
          "execution_count": 173
        },
        {
          "output_type": "display_data",
          "data": {
            "image/png": "[encoded data removed]",
            "text/plain": [
              "<Figure size 432x288 with 1 Axes>"
            ]
          },
          "metadata": {
            "tags": [],
            "needs_background": "light"
          }
        },
        {
          "output_type": "stream",
          "text": [
            "time: 166 ms\n"
          ],
          "name": "stdout"
        }
      ]
    },
    {
      "cell_type": "markdown",
      "metadata": {
        "id": "V-7HXIADxU2X",
        "colab_type": "text"
      },
      "source": [
        "Keep only required columns"
      ]
    },
    {
      "cell_type": "code",
      "metadata": {
        "id": "tUmO9OqgxUTh",
        "colab_type": "code",
        "colab": {
          "base_uri": "https://localhost:8080/",
          "height": 35
        },
        "outputId": "814f78b2-aea8-497d-b6cb-bbba0829eae7"
      },
      "source": [
        "dataset = keep_only_req_columns(dataset, [\"sentiment\", \"text\"])"
      ],
      "execution_count": 174,
      "outputs": [
        {
          "output_type": "stream",
          "text": [
            "time: 4.51 ms\n"
          ],
          "name": "stdout"
        }
      ]
    },
    {
      "cell_type": "code",
      "metadata": {
        "id": "3PHE52XOxg9X",
        "colab_type": "code",
        "outputId": "0fef8b83-d32c-4ae9-9a5f-04c3d9a3a5dc",
        "colab": {
          "base_uri": "https://localhost:8080/",
          "height": 222
        }
      },
      "source": [
        "dataset.head()"
      ],
      "execution_count": 175,
      "outputs": [
        {
          "output_type": "execute_result",
          "data": {
            "text/html": [
              "<div>\n",
              "<style scoped>\n",
              "    .dataframe tbody tr th:only-of-type {\n",
              "        vertical-align: middle;\n",
              "    }\n",
              "\n",
              "    .dataframe tbody tr th {\n",
              "        vertical-align: top;\n",
              "    }\n",
              "\n",
              "    .dataframe thead th {\n",
              "        text-align: right;\n",
              "    }\n",
              "</style>\n",
              "<table border=\"1\" class=\"dataframe\">\n",
              "  <thead>\n",
              "    <tr style=\"text-align: right;\">\n",
              "      <th></th>\n",
              "      <th>sentiment</th>\n",
              "      <th>text</th>\n",
              "    </tr>\n",
              "  </thead>\n",
              "  <tbody>\n",
              "    <tr>\n",
              "      <th>0</th>\n",
              "      <td>neutral</td>\n",
              "      <td>@VirginAmerica What @dhepburn said.</td>\n",
              "    </tr>\n",
              "    <tr>\n",
              "      <th>1</th>\n",
              "      <td>positive</td>\n",
              "      <td>@VirginAmerica plus you've added commercials t...</td>\n",
              "    </tr>\n",
              "    <tr>\n",
              "      <th>2</th>\n",
              "      <td>neutral</td>\n",
              "      <td>@VirginAmerica I didn't today... Must mean I n...</td>\n",
              "    </tr>\n",
              "    <tr>\n",
              "      <th>3</th>\n",
              "      <td>negative</td>\n",
              "      <td>@VirginAmerica it's really aggressive to blast...</td>\n",
              "    </tr>\n",
              "    <tr>\n",
              "      <th>4</th>\n",
              "      <td>negative</td>\n",
              "      <td>@VirginAmerica and it's a really big bad thing...</td>\n",
              "    </tr>\n",
              "  </tbody>\n",
              "</table>\n",
              "</div>"
            ],
            "text/plain": [
              "  sentiment                                               text\n",
              "0   neutral                @VirginAmerica What @dhepburn said.\n",
              "1  positive  @VirginAmerica plus you've added commercials t...\n",
              "2   neutral  @VirginAmerica I didn't today... Must mean I n...\n",
              "3  negative  @VirginAmerica it's really aggressive to blast...\n",
              "4  negative  @VirginAmerica and it's a really big bad thing..."
            ]
          },
          "metadata": {
            "tags": []
          },
          "execution_count": 175
        },
        {
          "output_type": "stream",
          "text": [
            "time: 17.6 ms\n"
          ],
          "name": "stdout"
        }
      ]
    },
    {
      "cell_type": "markdown",
      "metadata": {
        "id": "KrQ5V1KulP8L",
        "colab_type": "text"
      },
      "source": [
        "# Text Preprocessing\n",
        "\n",
        "The first thing I'm going to do to process the text is to lowercase everything and then remove non-word characters. I replace these with spaces since most are going to be punctuation. Then I'm going to just remove any other characters (like letters with accents). It could be better to replace some of these with regular ascii characters but I'm just going to ignore that here. It also turns out if you look at the counts of the different characters that there are very few unusual characters in this corpus."
      ]
    },
    {
      "cell_type": "markdown",
      "metadata": {
        "id": "rDMtVOhXDum6",
        "colab_type": "text"
      },
      "source": [
        "## Preprocessor\n",
        "\n",
        "Remove:\n",
        "* URLs\n",
        "* Hashtags\n",
        "* Mentions\n",
        "* Reserved words (RT, FAV)\n",
        "* Emojis\n",
        "* Smileys"
      ]
    },
    {
      "cell_type": "code",
      "metadata": {
        "id": "yamHHU9JD03R",
        "colab_type": "code",
        "colab": {
          "base_uri": "https://localhost:8080/",
          "height": 53
        },
        "outputId": "0b1ae4a9-e778-41e7-d08c-3ab0dbc53350"
      },
      "source": [
        "!pip install tweet-preprocessor"
      ],
      "execution_count": 176,
      "outputs": [
        {
          "output_type": "stream",
          "text": [
            "Requirement already satisfied: tweet-preprocessor in /usr/local/lib/python3.6/dist-packages (0.5.0)\n",
            "time: 4.66 s\n"
          ],
          "name": "stdout"
        }
      ]
    },
    {
      "cell_type": "code",
      "metadata": {
        "id": "CXsAad4gD3e9",
        "colab_type": "code",
        "colab": {
          "base_uri": "https://localhost:8080/",
          "height": 71
        },
        "outputId": "6d775498-19ba-4c7b-b252-d1c4956007ed"
      },
      "source": [
        "import preprocessor as p\n",
        "print(p.clean('Preprocessor is #awesome 👍 https://github.com/s/preprocessor'))\n",
        "print(p.clean(\"@peter I really love that shirt at #Macy. http://bet.ly//WjdiW4\"))\n",
        "# p.clean(\"Have questions about asteroid 1998 OR2, comet Borisov, or comet Atlas? Want to know more about these cosmic objects zipping through our solar system? Flushed faceComet Join us in an hour at 4pm ET on @reddit to chat with NASA scientists and experts about them! https://redd.it/g9o4yp\")"
      ],
      "execution_count": 177,
      "outputs": [
        {
          "output_type": "stream",
          "text": [
            "Preprocessor is\n",
            "I really love that shirt at .\n",
            "time: 4.77 ms\n"
          ],
          "name": "stdout"
        }
      ]
    },
    {
      "cell_type": "markdown",
      "metadata": {
        "id": "bwJiAwtcD8M9",
        "colab_type": "text"
      },
      "source": [
        "## Removing stopwords\n",
        "\n",
        "Stopwords are the most common words in any natural language. For the purpose of analyzing text data and building NLP models, these stopwords might not add much value to the meaning of the document.\n",
        "\n",
        "```\n",
        "Generally, the most common words used in a text are “the”, “is”, “in”, “for”, “where”, “when”, “to”, “at” etc.\n",
        "```"
      ]
    },
    {
      "cell_type": "code",
      "metadata": {
        "id": "hOuvJFJ9EAuQ",
        "colab_type": "code",
        "colab": {
          "base_uri": "https://localhost:8080/",
          "height": 35
        },
        "outputId": "2b63ea15-b84d-4831-ad82-fdfc8da12bcf"
      },
      "source": [
        "from gensim.parsing.preprocessing import remove_stopwords\n",
        "\n",
        "remove_stopwords(\"Better late than never, but better never late.\")"
      ],
      "execution_count": 178,
      "outputs": [
        {
          "output_type": "execute_result",
          "data": {
            "text/plain": [
              "'Better late never, better late.'"
            ]
          },
          "metadata": {
            "tags": []
          },
          "execution_count": 178
        },
        {
          "output_type": "stream",
          "text": [
            "time: 4.17 ms\n"
          ],
          "name": "stdout"
        }
      ]
    },
    {
      "cell_type": "markdown",
      "metadata": {
        "id": "61tJhY9MEGFh",
        "colab_type": "text"
      },
      "source": [
        "## Lemmatization\n",
        "\n",
        "Lemmatization, is an organized & step-by-step procedure of obtaining the root form of the word. It makes use of vocabulary (dictionary importance of words) and morphological analysis (word structure and grammar relations)."
      ]
    },
    {
      "cell_type": "code",
      "metadata": {
        "id": "pqLqzzPLEE64",
        "colab_type": "code",
        "colab": {
          "base_uri": "https://localhost:8080/",
          "height": 35
        },
        "outputId": "f0c28a28-9a5b-420e-cf3c-12cdfbe2cc96"
      },
      "source": [
        "import spacy\n",
        "from pprint import pprint\n",
        "\n",
        "spacy_nlp = spacy.load('en', disable=['parser', 'ner'])\n",
        "\n",
        "def do_lemmatization(sentence):\n",
        "  doc = spacy_nlp(sentence)\n",
        "\n",
        "  lemmas = []\n",
        "  for token in doc:\n",
        "      if token.lemma_ != \"-PRON-\":\n",
        "        lemmas.append(token.lemma_)\n",
        "\n",
        "  return \" \".join(lemmas)"
      ],
      "execution_count": 179,
      "outputs": [
        {
          "output_type": "stream",
          "text": [
            "time: 513 ms\n"
          ],
          "name": "stdout"
        }
      ]
    },
    {
      "cell_type": "code",
      "metadata": {
        "id": "UTW7yaanEK3G",
        "colab_type": "code",
        "colab": {
          "base_uri": "https://localhost:8080/",
          "height": 89
        },
        "outputId": "c521b7e1-6374-4818-e9b5-d5e49fe94b6b"
      },
      "source": [
        "sentence = \"\"\"Following mice attacks, caring farmers were marching to Delhi for better living conditions. \n",
        "Delhi police on Tuesday fired water cannons and teargas shells at protesting farmers as they tried to \n",
        "break barricades with their cars, automobiles and tractors.\"\"\"\n",
        "\n",
        "print(do_lemmatization(sentence))"
      ],
      "execution_count": 180,
      "outputs": [
        {
          "output_type": "stream",
          "text": [
            "follow mice attack , care farmer be march to Delhi for well living condition . \n",
            " Delhi police on Tuesday fire water cannon and teargas shell at protest farmer as try to \n",
            " break barricade with car , automobile and tractor .\n",
            "time: 17.2 ms\n"
          ],
          "name": "stdout"
        }
      ]
    },
    {
      "cell_type": "markdown",
      "metadata": {
        "id": "mdiKCBauEL9E",
        "colab_type": "text"
      },
      "source": [
        "## Final Normalization"
      ]
    },
    {
      "cell_type": "code",
      "metadata": {
        "id": "as7awfrxlbWL",
        "colab_type": "code",
        "outputId": "92fedd10-449c-44a7-91cd-fdc8995d52a4",
        "colab": {
          "base_uri": "https://localhost:8080/",
          "height": 35
        }
      },
      "source": [
        "import re\n",
        "\n",
        "NON_ALPHANUM = re.compile(r'[\\W]')\n",
        "NON_ASCII = re.compile(r'[^a-z0-1\\s]')\n",
        "\n",
        "def normalize_text(text):\n",
        "    # cleaned_text = p.clean(text) # tweet preprocessor\n",
        "    # text_without_stopwords = remove_stopwords(cleaned_text)\n",
        "    # text_lemmatization = do_lemmatization(text_without_stopwords)\n",
        "    \n",
        "    # lower = text_lemmatization.lower()\n",
        "    lower = text.lower()\n",
        "    no_punctuation = NON_ALPHANUM.sub(r' ', lower)\n",
        "    no_non_ascii = NON_ASCII.sub(r'', no_punctuation)\n",
        "    return no_non_ascii"
      ],
      "execution_count": 181,
      "outputs": [
        {
          "output_type": "stream",
          "text": [
            "time: 9.33 ms\n"
          ],
          "name": "stdout"
        }
      ]
    },
    {
      "cell_type": "code",
      "metadata": {
        "id": "-KTQHaPXEpCA",
        "colab_type": "code",
        "colab": {
          "base_uri": "https://localhost:8080/",
          "height": 35
        },
        "outputId": "d2965cf4-fc7e-4f3c-8d2b-0cf29413e920"
      },
      "source": [
        "dataset['text'] = dataset['text'].apply(normalize_text)"
      ],
      "execution_count": 182,
      "outputs": [
        {
          "output_type": "stream",
          "text": [
            "time: 43.9 s\n"
          ],
          "name": "stdout"
        }
      ]
    },
    {
      "cell_type": "markdown",
      "metadata": {
        "id": "zNARJnzLEzbV",
        "colab_type": "text"
      },
      "source": [
        "# Extract texts and labels from dataframe"
      ]
    },
    {
      "cell_type": "code",
      "metadata": {
        "id": "oY7A5ZQSEvT6",
        "colab_type": "code",
        "colab": {
          "base_uri": "https://localhost:8080/",
          "height": 35
        },
        "outputId": "e73a6f84-8b71-4a4d-ee1a-f9b65d9ca030"
      },
      "source": [
        "texts = dataset[\"text\"].values.tolist()\n",
        "labels = dataset[\"sentiment\"].values.tolist()\n",
        "\n",
        "import numpy as np\n",
        "labels = np.array(labels)"
      ],
      "execution_count": 266,
      "outputs": [
        {
          "output_type": "stream",
          "text": [
            "time: 8.1 ms\n"
          ],
          "name": "stdout"
        }
      ]
    },
    {
      "cell_type": "markdown",
      "metadata": {
        "id": "e79MejWgSzGU",
        "colab_type": "text"
      },
      "source": [
        "# Resampling Imbalanced datasets\n",
        "\n",
        "https://www.kaggle.com/rafjaa/resampling-strategies-for-imbalanced-datasets\n",
        "\n",
        "https://medium.com/@er.archiejain/balance-the-imbalanced-datasets-smote-810c2f13ce16"
      ]
    },
    {
      "cell_type": "markdown",
      "metadata": {
        "id": "ZhK6yMFEUtS2",
        "colab_type": "text"
      },
      "source": [
        "## under sampling"
      ]
    },
    {
      "cell_type": "code",
      "metadata": {
        "id": "zPHMQwQfS162",
        "colab_type": "code",
        "colab": {
          "base_uri": "https://localhost:8080/",
          "height": 91
        },
        "outputId": "7f002003-a455-44d7-e52c-e3643f81f0c7"
      },
      "source": [
        "# from imblearn.under_sampling import RandomUnderSampler\n",
        "# import numpy as np\n",
        "\n",
        "# X = np.array(texts)\n",
        "# y = labels\n",
        "\n",
        "# # # make 2 da array first\n",
        "# X = X.reshape(-1, 1)\n",
        "\n",
        "# # random under sampling\n",
        "# rus = RandomUnderSampler()\n",
        "# X_rus, y_rus = rus.fit_sample(X, y)\n",
        "\n",
        "# # # make 1D again\n",
        "# X_rus = X_rus.flatten()"
      ],
      "execution_count": 215,
      "outputs": [
        {
          "output_type": "stream",
          "text": [
            "time: 31.6 ms\n"
          ],
          "name": "stdout"
        },
        {
          "output_type": "stream",
          "text": [
            "/usr/local/lib/python3.6/dist-packages/sklearn/utils/deprecation.py:87: FutureWarning: Function safe_indexing is deprecated; safe_indexing is deprecated in version 0.22 and will be removed in version 0.24.\n",
            "  warnings.warn(msg, category=FutureWarning)\n"
          ],
          "name": "stderr"
        }
      ]
    },
    {
      "cell_type": "code",
      "metadata": {
        "id": "vLNwk58ZTRmV",
        "colab_type": "code",
        "colab": {
          "base_uri": "https://localhost:8080/",
          "height": 403
        },
        "outputId": "87f550dc-06fc-497b-b8df-4c36cb32a0a3"
      },
      "source": [
        "# import pandas as pd\n",
        "# import matplotlib.pyplot as plt\n",
        "\n",
        "# pd.value_counts(y_rus).plot.bar()\n",
        "\n",
        "# plt.xlabel('Class')\n",
        "# plt.ylabel('Frequency')\n",
        "# pd.value_counts(y_rus)"
      ],
      "execution_count": 216,
      "outputs": [
        {
          "output_type": "execute_result",
          "data": {
            "text/plain": [
              "negative    2363\n",
              "positive    2363\n",
              "neutral     2363\n",
              "dtype: int64"
            ]
          },
          "metadata": {
            "tags": []
          },
          "execution_count": 216
        },
        {
          "output_type": "display_data",
          "data": {
            "image/png": "[encoded data removed]",
            "text/plain": [
              "<Figure size 432x288 with 1 Axes>"
            ]
          },
          "metadata": {
            "tags": [],
            "needs_background": "light"
          }
        },
        {
          "output_type": "stream",
          "text": [
            "time: 167 ms\n"
          ],
          "name": "stdout"
        }
      ]
    },
    {
      "cell_type": "markdown",
      "metadata": {
        "colab_type": "text",
        "id": "_JmpfdzEVDp6"
      },
      "source": [
        "## Over sampling"
      ]
    },
    {
      "cell_type": "code",
      "metadata": {
        "colab_type": "code",
        "outputId": "9152a521-4d17-4594-b080-d346042f48e5",
        "id": "8nXY6zkTVDp8",
        "colab": {
          "base_uri": "https://localhost:8080/",
          "height": 91
        }
      },
      "source": [
        "from imblearn.over_sampling import RandomOverSampler\n",
        "import numpy as np\n",
        "\n",
        "X = np.array(texts)\n",
        "y = labels\n",
        "\n",
        "# # make 2 da array first\n",
        "X = X.reshape(-1, 1)\n",
        "\n",
        "# random under sampling\n",
        "rus = RandomOverSampler()\n",
        "X_ros, y_ros = rus.fit_sample(X, y)\n",
        "\n",
        "# # make 1D again\n",
        "X_ros = X_ros.flatten()"
      ],
      "execution_count": 268,
      "outputs": [
        {
          "output_type": "stream",
          "text": [
            "time: 53.4 ms\n"
          ],
          "name": "stdout"
        },
        {
          "output_type": "stream",
          "text": [
            "/usr/local/lib/python3.6/dist-packages/sklearn/utils/deprecation.py:87: FutureWarning: Function safe_indexing is deprecated; safe_indexing is deprecated in version 0.22 and will be removed in version 0.24.\n",
            "  warnings.warn(msg, category=FutureWarning)\n"
          ],
          "name": "stderr"
        }
      ]
    },
    {
      "cell_type": "code",
      "metadata": {
        "colab_type": "code",
        "outputId": "13c2c660-8e0d-47e3-f1db-fd1f02bcc291",
        "id": "pqTkfdgsVDqD",
        "colab": {
          "base_uri": "https://localhost:8080/",
          "height": 403
        }
      },
      "source": [
        "import pandas as pd\n",
        "import matplotlib.pyplot as plt\n",
        "\n",
        "pd.value_counts(y_ros).plot.bar()\n",
        "\n",
        "plt.xlabel('Class')\n",
        "plt.ylabel('Frequency')\n",
        "pd.value_counts(y_ros)"
      ],
      "execution_count": 269,
      "outputs": [
        {
          "output_type": "execute_result",
          "data": {
            "text/plain": [
              "negative    9178\n",
              "positive    9178\n",
              "neutral     9178\n",
              "dtype: int64"
            ]
          },
          "metadata": {
            "tags": []
          },
          "execution_count": 269
        },
        {
          "output_type": "display_data",
          "data": {
            "image/png": "[encoded data removed]",
            "text/plain": [
              "<Figure size 432x288 with 1 Axes>"
            ]
          },
          "metadata": {
            "tags": [],
            "needs_background": "light"
          }
        },
        {
          "output_type": "stream",
          "text": [
            "time: 175 ms\n"
          ],
          "name": "stdout"
        }
      ]
    },
    {
      "cell_type": "markdown",
      "metadata": {
        "id": "yau1hCczWKwh",
        "colab_type": "text"
      },
      "source": [
        "## Assign Back"
      ]
    },
    {
      "cell_type": "code",
      "metadata": {
        "id": "_ESSeVxzTabQ",
        "colab_type": "code",
        "colab": {
          "base_uri": "https://localhost:8080/",
          "height": 35
        },
        "outputId": "44298837-a2b6-47a9-bc24-f8ef98466f9f"
      },
      "source": [
        "# assign back\n",
        "# texts = X_rus.tolist()\n",
        "# labels = y_rus\n",
        "\n",
        "\n",
        "texts = X_ros.tolist()\n",
        "labels = y_ros"
      ],
      "execution_count": 270,
      "outputs": [
        {
          "output_type": "stream",
          "text": [
            "time: 14.6 ms\n"
          ],
          "name": "stdout"
        }
      ]
    },
    {
      "cell_type": "markdown",
      "metadata": {
        "id": "r59gLEp6F_mW",
        "colab_type": "text"
      },
      "source": [
        "# Encode labels (String to int)"
      ]
    },
    {
      "cell_type": "code",
      "metadata": {
        "id": "Z8V2cAkmGFIM",
        "colab_type": "code",
        "colab": {
          "base_uri": "https://localhost:8080/",
          "height": 53
        },
        "outputId": "9eb88fab-c902-436d-fa81-0038c6fe2dbe"
      },
      "source": [
        "\n",
        "# Keras expects an integer vector from 0 to num_classes. As it's stated in the docs:\n",
        "from sklearn.preprocessing import LabelEncoder\n",
        "labelencoder = LabelEncoder()\n",
        "encoded_labels = labelencoder.fit_transform(labels)\n",
        "\n",
        "# Print shapes\n",
        "print(\"Shape of encoded_labels: {}\".format(encoded_labels.shape))\n"
      ],
      "execution_count": 271,
      "outputs": [
        {
          "output_type": "stream",
          "text": [
            "Shape of encoded_labels: (27534,)\n",
            "time: 10.1 ms\n"
          ],
          "name": "stdout"
        }
      ]
    },
    {
      "cell_type": "code",
      "metadata": {
        "id": "pDCw5Z8WG3Rb",
        "colab_type": "code",
        "colab": {
          "base_uri": "https://localhost:8080/",
          "height": 53
        },
        "outputId": "fc782778-3de9-45d8-8dd2-10b931bf44f7"
      },
      "source": [
        "num_classes = len(np.unique(encoded_labels))\n",
        "print(\"Total classes: {}\".format(num_classes))"
      ],
      "execution_count": 272,
      "outputs": [
        {
          "output_type": "stream",
          "text": [
            "Total classes: 3\n",
            "time: 9.68 ms\n"
          ],
          "name": "stdout"
        }
      ]
    },
    {
      "cell_type": "markdown",
      "metadata": {
        "id": "LFoYRZWGlxvI",
        "colab_type": "text"
      },
      "source": [
        "# Train/Validation Split\n",
        "Now I'm going to set aside 20% of the training set for validation."
      ]
    },
    {
      "cell_type": "code",
      "metadata": {
        "id": "cX__S_cyl0A6",
        "colab_type": "code",
        "outputId": "b7e091cc-9178-4586-e813-eba1da2a708b",
        "colab": {
          "base_uri": "https://localhost:8080/",
          "height": 35
        }
      },
      "source": [
        "from sklearn.model_selection import train_test_split\n",
        "\n",
        "train_texts, val_texts, train_labels, val_labels = train_test_split(\n",
        "    texts, encoded_labels, random_state=57692, test_size=0.2\n",
        ")"
      ],
      "execution_count": 273,
      "outputs": [
        {
          "output_type": "stream",
          "text": [
            "time: 18.5 ms\n"
          ],
          "name": "stdout"
        }
      ]
    },
    {
      "cell_type": "code",
      "metadata": {
        "id": "bIJMD-Bcl4aW",
        "colab_type": "code",
        "outputId": "cb2f89d5-538f-44d0-8035-2823bda33f7b",
        "colab": {
          "base_uri": "https://localhost:8080/",
          "height": 107
        }
      },
      "source": [
        "print(\"Shape of train_labels: {}\".format(train_labels.shape))\n",
        "print(\"length of train_texts: {}\".format(len(train_texts)))\n",
        "\n",
        "print(\"Shape of val_labels: {}\".format(val_labels.shape))\n",
        "print(\"length of val_texts: {}\".format(len(val_texts)))"
      ],
      "execution_count": 274,
      "outputs": [
        {
          "output_type": "stream",
          "text": [
            "Shape of train_labels: (22027,)\n",
            "length of train_texts: 22027\n",
            "Shape of val_labels: (5507,)\n",
            "length of val_texts: 5507\n",
            "time: 4.45 ms\n"
          ],
          "name": "stdout"
        }
      ]
    },
    {
      "cell_type": "markdown",
      "metadata": {
        "id": "bJC2adXRm9RM",
        "colab_type": "text"
      },
      "source": [
        "viewing top 5 labels and first training text."
      ]
    },
    {
      "cell_type": "code",
      "metadata": {
        "id": "HYLzjM6Ll6Zb",
        "colab_type": "code",
        "outputId": "14968314-5109-4f80-bd79-97e51c3de648",
        "colab": {
          "base_uri": "https://localhost:8080/",
          "height": 71
        }
      },
      "source": [
        "print(train_labels[:5])\n",
        "print(train_texts[:1])"
      ],
      "execution_count": 275,
      "outputs": [
        {
          "output_type": "stream",
          "text": [
            "[2 1 0 2 2]\n",
            "['flight attendant super helpful find bag left flight today   excellent customer service   name fit  ']\n",
            "time: 2.44 ms\n"
          ],
          "name": "stdout"
        }
      ]
    },
    {
      "cell_type": "markdown",
      "metadata": {
        "id": "QsGfPooUmnYU",
        "colab_type": "text"
      },
      "source": [
        "# Tokenization\n",
        "\n",
        "Now I will just run a Tokenizer using the top 12000 words as features."
      ]
    },
    {
      "cell_type": "code",
      "metadata": {
        "id": "7ee1ST07mly7",
        "colab_type": "code",
        "outputId": "b84df52d-7af0-4268-c692-93643bd4384e",
        "colab": {
          "base_uri": "https://localhost:8080/",
          "height": 35
        }
      },
      "source": [
        "MAX_FEATURES = 12000\n",
        "tokenizer = Tokenizer(num_words=MAX_FEATURES)\n",
        "tokenizer.fit_on_texts(train_texts)\n",
        "\n",
        "train_texts = tokenizer.texts_to_sequences(train_texts)\n",
        "val_texts = tokenizer.texts_to_sequences(val_texts)"
      ],
      "execution_count": 276,
      "outputs": [
        {
          "output_type": "stream",
          "text": [
            "time: 717 ms\n"
          ],
          "name": "stdout"
        }
      ]
    },
    {
      "cell_type": "markdown",
      "metadata": {
        "id": "2Tp5yLKhnQfq",
        "colab_type": "text"
      },
      "source": [
        "# Padding Sequences\n",
        "In order to use batches effectively, I'm going to need to take my sequences and turn them into sequences of the same length. I'm just going to make everything here the length of the longest sentence in the training set. I'm not dealing with this here, but it may be advantageous to have variable lengths so that each batch contains sentences of similar lengths. This might help mitigate issues that arise from having too many padded elements in a sequence.\n"
      ]
    },
    {
      "cell_type": "code",
      "metadata": {
        "id": "UUcUFp70niAh",
        "colab_type": "code",
        "outputId": "844a8442-9df1-49a1-c6cf-56b11ac02bd2",
        "colab": {
          "base_uri": "https://localhost:8080/",
          "height": 35
        }
      },
      "source": [
        "MAX_LENGTH = max(len(train_ex) for train_ex in train_texts)\n",
        "\n",
        "train_texts = pad_sequences(train_texts, maxlen=MAX_LENGTH)\n",
        "val_texts = pad_sequences(val_texts, maxlen=MAX_LENGTH)\n",
        "# test_texts = pad_sequences(test_texts, maxlen=MAX_LENGTH)"
      ],
      "execution_count": 277,
      "outputs": [
        {
          "output_type": "stream",
          "text": [
            "time: 117 ms\n"
          ],
          "name": "stdout"
        }
      ]
    },
    {
      "cell_type": "markdown",
      "metadata": {
        "id": "AhQqTEvroLWw",
        "colab_type": "text"
      },
      "source": [
        "# Save Tokenizer"
      ]
    },
    {
      "cell_type": "code",
      "metadata": {
        "id": "skERo2ePoNsj",
        "colab_type": "code",
        "outputId": "0b304c34-c7dc-48e5-eb55-0bc2b7ebf1ff",
        "colab": {
          "base_uri": "https://localhost:8080/",
          "height": 35
        }
      },
      "source": [
        "import pickle\n",
        "\n",
        "# saving\n",
        "tokenizer_info = {\n",
        "    \"tokenizer\"   : tokenizer,\n",
        "    \"MAX_LENGTH\"  : MAX_LENGTH,\n",
        "    \"MAX_FEATURES\": MAX_FEATURES,\n",
        "}\n",
        "with open('tokenizer_info.pickle', 'wb') as handle:\n",
        "    pickle.dump(tokenizer_info, handle, protocol=pickle.HIGHEST_PROTOCOL)"
      ],
      "execution_count": 278,
      "outputs": [
        {
          "output_type": "stream",
          "text": [
            "time: 10.7 ms\n"
          ],
          "name": "stdout"
        }
      ]
    },
    {
      "cell_type": "code",
      "metadata": {
        "id": "Vn9HpP_VnrQX",
        "colab_type": "code",
        "outputId": "6e5f982c-caa4-45a3-f28d-512a1428b618",
        "colab": {
          "base_uri": "https://localhost:8080/",
          "height": 71
        }
      },
      "source": [
        "# make some space\n",
        "del tokenizer\n",
        "\n",
        "import gc\n",
        "\n",
        "print(f\"total objects in memory --{gc.get_count()}\")\n",
        "\n",
        "# collecting memory\n",
        "gc.collect()\n",
        "print(f\"After garbage collecor- objects in memory --{gc.get_count()}\")"
      ],
      "execution_count": 279,
      "outputs": [
        {
          "output_type": "stream",
          "text": [
            "total objects in memory --(163, 8, 19)\n",
            "After garbage collecor- objects in memory --(24, 0, 0)\n",
            "time: 340 ms\n"
          ],
          "name": "stdout"
        }
      ]
    },
    {
      "cell_type": "markdown",
      "metadata": {
        "id": "C1p1VQOOpb8c",
        "colab_type": "text"
      },
      "source": [
        "# convert to categorical data"
      ]
    },
    {
      "cell_type": "code",
      "metadata": {
        "id": "cS9lj8m0peg9",
        "colab_type": "code",
        "outputId": "d4806424-346b-471b-c1a6-7f966fea83c5",
        "colab": {
          "base_uri": "https://localhost:8080/",
          "height": 71
        }
      },
      "source": [
        "from keras.utils import to_categorical\n",
        "\n",
        "train_y = to_categorical(train_labels, num_classes=num_classes, dtype='float32')\n",
        "val_y = to_categorical(val_labels, num_classes=num_classes, dtype='float32')\n",
        "\n",
        "# Print shapes\n",
        "print(\"Shape of train_y: {}\".format(train_y.shape))\n",
        "print(\"Shape of val_y: {}\".format(val_y.shape))"
      ],
      "execution_count": 280,
      "outputs": [
        {
          "output_type": "stream",
          "text": [
            "Shape of train_y: (22027, 3)\n",
            "Shape of val_y: (5507, 3)\n",
            "time: 6.04 ms\n"
          ],
          "name": "stdout"
        }
      ]
    },
    {
      "cell_type": "markdown",
      "metadata": {
        "id": "kXDLRs_kv0rr",
        "colab_type": "text"
      },
      "source": [
        "view single record"
      ]
    },
    {
      "cell_type": "code",
      "metadata": {
        "id": "z_i1e2Nlv25Y",
        "colab_type": "code",
        "outputId": "2ea31a3b-6b45-494e-bb8e-e0d962c21298",
        "colab": {
          "base_uri": "https://localhost:8080/",
          "height": 53
        }
      },
      "source": [
        "print(train_y[0])"
      ],
      "execution_count": 281,
      "outputs": [
        {
          "output_type": "stream",
          "text": [
            "[0. 0. 1.]\n",
            "time: 2.34 ms\n"
          ],
          "name": "stdout"
        }
      ]
    },
    {
      "cell_type": "markdown",
      "metadata": {
        "id": "Y8_XLgBupHt7",
        "colab_type": "text"
      },
      "source": [
        "# Deep learning Models"
      ]
    },
    {
      "cell_type": "code",
      "metadata": {
        "id": "8QEP_V79rKi7",
        "colab_type": "code",
        "outputId": "bfeb13a0-eef6-4117-ca70-73196ef7107f",
        "colab": {
          "base_uri": "https://localhost:8080/",
          "height": 35
        }
      },
      "source": [
        "from keras.preprocessing.sequence import pad_sequences\n",
        "from keras.models import Sequential\n",
        "from keras.layers import Dense,GRU,LSTM,Embedding, CuDNNLSTM, CuDNNGRU\n",
        "from keras.optimizers import Adam\n",
        "from keras.layers import SpatialDropout1D,Dropout,Bidirectional,Conv1D,GlobalMaxPooling1D,MaxPooling1D,Flatten\n",
        "from keras.callbacks import ModelCheckpoint, TensorBoard, Callback, EarlyStopping\n",
        "\n",
        "from keras.preprocessing import sequence\n",
        "from keras.models import Sequential\n",
        "from keras.layers import Dense, Dropout, Activation\n",
        "from keras.layers import Embedding\n",
        "from keras.layers import Conv1D, GlobalMaxPooling1D"
      ],
      "execution_count": 282,
      "outputs": [
        {
          "output_type": "stream",
          "text": [
            "time: 9.86 ms\n"
          ],
          "name": "stdout"
        }
      ]
    },
    {
      "cell_type": "markdown",
      "metadata": {
        "id": "jyCG3Jo70KhX",
        "colab_type": "text"
      },
      "source": [
        "## Utilities"
      ]
    },
    {
      "cell_type": "markdown",
      "metadata": {
        "id": "cSFoQqC40WLp",
        "colab_type": "text"
      },
      "source": [
        "### Plotting accuracy and loss graph"
      ]
    },
    {
      "cell_type": "code",
      "metadata": {
        "id": "TzZsvtTN0NQD",
        "colab_type": "code",
        "outputId": "6a9a886a-9f10-4453-8875-a09235cf2593",
        "colab": {
          "base_uri": "https://localhost:8080/",
          "height": 35
        }
      },
      "source": [
        "import matplotlib.pyplot as plt\n",
        "\n",
        "def plot_accuracy_loss(history):\n",
        "  axes = plt.axes()\n",
        "  axes.set_ylim([0, 1])\n",
        "\n",
        "  # Plot training & validation accuracy values\n",
        "  plt.plot(history.history['acc'])\n",
        "  plt.plot(history.history['val_acc'])\n",
        "  plt.title('Model accuracy')\n",
        "  plt.ylabel('Accuracy')\n",
        "  plt.xlabel('Epoch')\n",
        "  plt.legend(['Train', 'Test'], loc='upper left')\n",
        "  plt.show()\n",
        "\n",
        "  # Plot training & validation loss values\n",
        "  axes = plt.axes()\n",
        "  # axes.set_ylim([0, 1])\n",
        "  plt.plot(history.history['loss'])\n",
        "  plt.plot(history.history['val_loss'])\n",
        "  plt.title('Model loss')\n",
        "  plt.ylabel('Loss')\n",
        "  plt.xlabel('Epoch')\n",
        "  plt.legend(['Train', 'Test'], loc='upper left')\n",
        "  plt.show()"
      ],
      "execution_count": 283,
      "outputs": [
        {
          "output_type": "stream",
          "text": [
            "time: 18.6 ms\n"
          ],
          "name": "stdout"
        }
      ]
    },
    {
      "cell_type": "markdown",
      "metadata": {
        "id": "8UIVIQlNqfFk",
        "colab_type": "text"
      },
      "source": [
        "## LSTM"
      ]
    },
    {
      "cell_type": "code",
      "metadata": {
        "id": "ai8Atg1JpHFZ",
        "colab_type": "code",
        "outputId": "8a9771ed-d126-40d0-b6e7-7d4d0169ad5a",
        "colab": {
          "base_uri": "https://localhost:8080/",
          "height": 359
        }
      },
      "source": [
        "embed_dim = 128\n",
        "\n",
        "model_LSTM = Sequential()\n",
        "model_LSTM.add(Embedding(MAX_FEATURES, embed_dim, input_length=MAX_LENGTH, mask_zero=True))\n",
        "model_LSTM.add(LSTM(128,dropout=0.2,return_sequences=True))\n",
        "model_LSTM.add(LSTM(64,dropout=0.4,return_sequences=True))\n",
        "model_LSTM.add(LSTM(32,dropout=0.5,return_sequences=False))\n",
        "model_LSTM.add(Dense(num_classes, activation='softmax'))\n",
        "model_LSTM.compile(loss = 'categorical_crossentropy', optimizer=Adam(lr = 0.001), metrics = ['acc'])\n",
        "model_LSTM.summary()"
      ],
      "execution_count": 284,
      "outputs": [
        {
          "output_type": "stream",
          "text": [
            "Model: \"sequential_17\"\n",
            "_________________________________________________________________\n",
            "Layer (type)                 Output Shape              Param #   \n",
            "=================================================================\n",
            "embedding_17 (Embedding)     (None, 26, 128)           1536000   \n",
            "_________________________________________________________________\n",
            "lstm_19 (LSTM)               (None, 26, 128)           131584    \n",
            "_________________________________________________________________\n",
            "lstm_20 (LSTM)               (None, 26, 64)            49408     \n",
            "_________________________________________________________________\n",
            "lstm_21 (LSTM)               (None, 32)                12416     \n",
            "_________________________________________________________________\n",
            "dense_20 (Dense)             (None, 3)                 99        \n",
            "=================================================================\n",
            "Total params: 1,729,507\n",
            "Trainable params: 1,729,507\n",
            "Non-trainable params: 0\n",
            "_________________________________________________________________\n",
            "time: 2.1 s\n"
          ],
          "name": "stdout"
        }
      ]
    },
    {
      "cell_type": "markdown",
      "metadata": {
        "id": "eZDrXq41nOiL",
        "colab_type": "text"
      },
      "source": [
        "### Callbacks"
      ]
    },
    {
      "cell_type": "code",
      "metadata": {
        "id": "JJSp5-l4nQCX",
        "colab_type": "code",
        "outputId": "8727d5c5-b03c-4ed7-f2c2-e5f255504519",
        "colab": {
          "base_uri": "https://localhost:8080/",
          "height": 35
        }
      },
      "source": [
        "# Adding the callbacks\n",
        "from keras.callbacks import EarlyStopping, ModelCheckpoint\n",
        "\n",
        "checkpoint_path = \"lstm_model.best.hdf5\"\n",
        "\n",
        "# use early stopping to optimally terminate training through callbacks\n",
        "es = EarlyStopping(monitor='val_loss', mode='min', verbose=1, patience=2) # patience=3)\n",
        "\n",
        "# save best model automatically\n",
        "mc = ModelCheckpoint(\n",
        "    checkpoint_path, monitor='val_loss', \n",
        "    mode='min', verbose=1, save_best_only=True\n",
        ")\n",
        "cb_list = [es,mc]"
      ],
      "execution_count": 285,
      "outputs": [
        {
          "output_type": "stream",
          "text": [
            "time: 6.21 ms\n"
          ],
          "name": "stdout"
        }
      ]
    },
    {
      "cell_type": "markdown",
      "metadata": {
        "id": "2tzOuqNKnjEa",
        "colab_type": "text"
      },
      "source": [
        "### Train"
      ]
    },
    {
      "cell_type": "code",
      "metadata": {
        "id": "vMEwv3CVrr9G",
        "colab_type": "code",
        "outputId": "4e17b928-e3e8-429a-8f54-da4ad986d1a2",
        "colab": {
          "base_uri": "https://localhost:8080/",
          "height": 1000
        }
      },
      "source": [
        "# Train model\n",
        "epochs = 250\n",
        "batch_size = 2048 # 64 # use more if gpu available - for faster processing \n",
        "history = model_LSTM.fit(\n",
        "    train_texts, train_y, \n",
        "    validation_data=(val_texts, val_y), \n",
        "    epochs=epochs, \n",
        "    batch_size=batch_size, \n",
        "    verbose=1, shuffle=True,\n",
        "    callbacks=cb_list,\n",
        ")"
      ],
      "execution_count": 286,
      "outputs": [
        {
          "output_type": "stream",
          "text": [
            "Train on 22027 samples, validate on 5507 samples\n",
            "Epoch 1/250\n",
            "22027/22027 [==============================] - 6s 269us/step - loss: 1.0860 - acc: 0.3381 - val_loss: 1.0649 - val_acc: 0.3519\n",
            "\n",
            "Epoch 00001: val_loss improved from inf to 1.06488, saving model to lstm_model.best.hdf5\n",
            "Epoch 2/250\n",
            "22027/22027 [==============================] - 3s 135us/step - loss: 0.9964 - acc: 0.5039 - val_loss: 0.9004 - val_acc: 0.6125\n",
            "\n",
            "Epoch 00002: val_loss improved from 1.06488 to 0.90044, saving model to lstm_model.best.hdf5\n",
            "Epoch 3/250\n",
            "22027/22027 [==============================] - 3s 123us/step - loss: 0.8087 - acc: 0.6941 - val_loss: 0.7398 - val_acc: 0.7391\n",
            "\n",
            "Epoch 00003: val_loss improved from 0.90044 to 0.73985, saving model to lstm_model.best.hdf5\n",
            "Epoch 4/250\n",
            "22027/22027 [==============================] - 3s 123us/step - loss: 0.6417 - acc: 0.7824 - val_loss: 0.6373 - val_acc: 0.7725\n",
            "\n",
            "Epoch 00004: val_loss improved from 0.73985 to 0.63734, saving model to lstm_model.best.hdf5\n",
            "Epoch 5/250\n",
            "22027/22027 [==============================] - 3s 122us/step - loss: 0.5213 - acc: 0.8227 - val_loss: 0.5648 - val_acc: 0.8050\n",
            "\n",
            "Epoch 00005: val_loss improved from 0.63734 to 0.56481, saving model to lstm_model.best.hdf5\n",
            "Epoch 6/250\n",
            "22027/22027 [==============================] - 3s 122us/step - loss: 0.4433 - acc: 0.8496 - val_loss: 0.5264 - val_acc: 0.8230\n",
            "\n",
            "Epoch 00006: val_loss improved from 0.56481 to 0.52638, saving model to lstm_model.best.hdf5\n",
            "Epoch 7/250\n",
            "22027/22027 [==============================] - 3s 124us/step - loss: 0.3868 - acc: 0.8731 - val_loss: 0.5011 - val_acc: 0.8349\n",
            "\n",
            "Epoch 00007: val_loss improved from 0.52638 to 0.50106, saving model to lstm_model.best.hdf5\n",
            "Epoch 8/250\n",
            "22027/22027 [==============================] - 3s 129us/step - loss: 0.3474 - acc: 0.8875 - val_loss: 0.4850 - val_acc: 0.8417\n",
            "\n",
            "Epoch 00008: val_loss improved from 0.50106 to 0.48505, saving model to lstm_model.best.hdf5\n",
            "Epoch 9/250\n",
            "22027/22027 [==============================] - 3s 121us/step - loss: 0.3138 - acc: 0.8998 - val_loss: 0.4759 - val_acc: 0.8489\n",
            "\n",
            "Epoch 00009: val_loss improved from 0.48505 to 0.47587, saving model to lstm_model.best.hdf5\n",
            "Epoch 10/250\n",
            "22027/22027 [==============================] - 3s 121us/step - loss: 0.2876 - acc: 0.9097 - val_loss: 0.4679 - val_acc: 0.8587\n",
            "\n",
            "Epoch 00010: val_loss improved from 0.47587 to 0.46788, saving model to lstm_model.best.hdf5\n",
            "Epoch 11/250\n",
            "22027/22027 [==============================] - 3s 125us/step - loss: 0.2656 - acc: 0.9161 - val_loss: 0.4582 - val_acc: 0.8611\n",
            "\n",
            "Epoch 00011: val_loss improved from 0.46788 to 0.45818, saving model to lstm_model.best.hdf5\n",
            "Epoch 12/250\n",
            "22027/22027 [==============================] - 3s 123us/step - loss: 0.2492 - acc: 0.9234 - val_loss: 0.4566 - val_acc: 0.8647\n",
            "\n",
            "Epoch 00012: val_loss improved from 0.45818 to 0.45656, saving model to lstm_model.best.hdf5\n",
            "Epoch 13/250\n",
            "22027/22027 [==============================] - 3s 126us/step - loss: 0.2344 - acc: 0.9269 - val_loss: 0.4485 - val_acc: 0.8683\n",
            "\n",
            "Epoch 00013: val_loss improved from 0.45656 to 0.44846, saving model to lstm_model.best.hdf5\n",
            "Epoch 14/250\n",
            "22027/22027 [==============================] - 3s 122us/step - loss: 0.2245 - acc: 0.9297 - val_loss: 0.4394 - val_acc: 0.8700\n",
            "\n",
            "Epoch 00014: val_loss improved from 0.44846 to 0.43937, saving model to lstm_model.best.hdf5\n",
            "Epoch 15/250\n",
            "22027/22027 [==============================] - 3s 127us/step - loss: 0.2144 - acc: 0.9332 - val_loss: 0.4402 - val_acc: 0.8714\n",
            "\n",
            "Epoch 00015: val_loss did not improve from 0.43937\n",
            "Epoch 16/250\n",
            "22027/22027 [==============================] - 3s 123us/step - loss: 0.2042 - acc: 0.9369 - val_loss: 0.4290 - val_acc: 0.8756\n",
            "\n",
            "Epoch 00016: val_loss improved from 0.43937 to 0.42897, saving model to lstm_model.best.hdf5\n",
            "Epoch 17/250\n",
            "22027/22027 [==============================] - 3s 122us/step - loss: 0.1973 - acc: 0.9391 - val_loss: 0.4344 - val_acc: 0.8792\n",
            "\n",
            "Epoch 00017: val_loss did not improve from 0.42897\n",
            "Epoch 18/250\n",
            "22027/22027 [==============================] - 3s 121us/step - loss: 0.1873 - acc: 0.9440 - val_loss: 0.4442 - val_acc: 0.8787\n",
            "\n",
            "Epoch 00018: val_loss did not improve from 0.42897\n",
            "Epoch 00018: early stopping\n",
            "time: 1min 12s\n"
          ],
          "name": "stdout"
        }
      ]
    },
    {
      "cell_type": "code",
      "metadata": {
        "id": "n2SXKvR-0pn7",
        "colab_type": "code",
        "outputId": "79500322-c370-4596-8d90-85adad40c9f5",
        "colab": {
          "base_uri": "https://localhost:8080/",
          "height": 591
        }
      },
      "source": [
        "plot_accuracy_loss(history)"
      ],
      "execution_count": 287,
      "outputs": [
        {
          "output_type": "display_data",
          "data": {
            "image/png": "[encoded data removed]",
            "text/plain": [
              "<Figure size 432x288 with 1 Axes>"
            ]
          },
          "metadata": {
            "tags": [],
            "needs_background": "light"
          }
        },
        {
          "output_type": "display_data",
          "data": {
            "image/png": "[encoded data removed]",
            "text/plain": [
              "<Figure size 432x288 with 1 Axes>"
            ]
          },
          "metadata": {
            "tags": [],
            "needs_background": "light"
          }
        },
        {
          "output_type": "stream",
          "text": [
            "time: 351 ms\n"
          ],
          "name": "stdout"
        }
      ]
    },
    {
      "cell_type": "markdown",
      "metadata": {
        "id": "yrtftuHM2xo2",
        "colab_type": "text"
      },
      "source": [
        "## Convolutional Neural Net Model"
      ]
    },
    {
      "cell_type": "code",
      "metadata": {
        "id": "60Lllyzk2zGv",
        "colab_type": "code",
        "outputId": "b49d3ff6-b198-44ba-a265-28b00c4abfd9",
        "colab": {
          "base_uri": "https://localhost:8080/",
          "height": 521
        }
      },
      "source": [
        "# set parameters:\n",
        "filters = 250\n",
        "kernel_size = 3\n",
        "hidden_dims = 250\n",
        "\n",
        "model_cnn = Sequential()\n",
        "\n",
        "model_cnn.add(Embedding(MAX_FEATURES, embed_dim, input_length=MAX_LENGTH))\n",
        "model_cnn.add(Dropout(0.2))\n",
        "\n",
        "model_cnn.add(Conv1D(filters,\n",
        "                 kernel_size,\n",
        "                 padding='valid',\n",
        "                 activation='relu',\n",
        "                 strides=1))\n",
        "model_cnn.add(GlobalMaxPooling1D())\n",
        "\n",
        "model_cnn.add(Dense(hidden_dims))\n",
        "model_cnn.add(Dropout(0.2))\n",
        "model_cnn.add(Activation('relu'))\n",
        "\n",
        "model_cnn.add(Dense(num_classes))\n",
        "model_cnn.add(Activation('softmax'))\n",
        "\n",
        "model_cnn.compile(loss = 'categorical_crossentropy', optimizer=Adam(lr = 0.001), metrics = ['acc'])\n",
        "\n",
        "print(model_cnn.summary())"
      ],
      "execution_count": 288,
      "outputs": [
        {
          "output_type": "stream",
          "text": [
            "Model: \"sequential_18\"\n",
            "_________________________________________________________________\n",
            "Layer (type)                 Output Shape              Param #   \n",
            "=================================================================\n",
            "embedding_18 (Embedding)     (None, 26, 128)           1536000   \n",
            "_________________________________________________________________\n",
            "dropout_9 (Dropout)          (None, 26, 128)           0         \n",
            "_________________________________________________________________\n",
            "conv1d_5 (Conv1D)            (None, 24, 250)           96250     \n",
            "_________________________________________________________________\n",
            "global_max_pooling1d_5 (Glob (None, 250)               0         \n",
            "_________________________________________________________________\n",
            "dense_21 (Dense)             (None, 250)               62750     \n",
            "_________________________________________________________________\n",
            "dropout_10 (Dropout)         (None, 250)               0         \n",
            "_________________________________________________________________\n",
            "activation_9 (Activation)    (None, 250)               0         \n",
            "_________________________________________________________________\n",
            "dense_22 (Dense)             (None, 3)                 753       \n",
            "_________________________________________________________________\n",
            "activation_10 (Activation)   (None, 3)                 0         \n",
            "=================================================================\n",
            "Total params: 1,695,753\n",
            "Trainable params: 1,695,753\n",
            "Non-trainable params: 0\n",
            "_________________________________________________________________\n",
            "None\n",
            "time: 188 ms\n"
          ],
          "name": "stdout"
        }
      ]
    },
    {
      "cell_type": "markdown",
      "metadata": {
        "id": "Ln1z7Y0h690R",
        "colab_type": "text"
      },
      "source": [
        "### Avoid wasting resources with EarlyStopping and ModelCheckpoint in Keras\n",
        "\n",
        "Training a neural network can take a lot of time. In some cases, especially with \n",
        "very deep architectures trained on very large data sets, it can take weeks before one’s model \n",
        "is finally trained.\n",
        "\n",
        "Unfortunately, setting a fixed number of epochs is often a bad idea. Here’s why:\n",
        "\n",
        "1.   When you use too few epochs, your model will remain underfit. What I mean is that its predictive power can still be improved without a loss of generalization power (i.e., it improves without overfitting). You will end up with a model that does not perform at its maximum capability.\n",
        "\n",
        "2.   When you use too many epochs, depending on how you configure the training process, your final model will either be optimized or it will be overfit. In both cases, you will have wasted resources. Hey, but why are those resources wasted when the final model is optimal? Simple – most likely, this optimum was found in e.g. 20% of the epochs you configured the model for. 80% of the resources you used are then wasted. Especially with highly expensive tasks in computational terms, you’ll want to avoid waste as much as you can.\n",
        "\n",
        "\n",
        "\n"
      ]
    },
    {
      "cell_type": "code",
      "metadata": {
        "id": "8F9AWAJt5S6C",
        "colab_type": "code",
        "outputId": "d9047562-598f-4c1a-d4f1-d3b933db3253",
        "colab": {
          "base_uri": "https://localhost:8080/",
          "height": 35
        }
      },
      "source": [
        "# Adding the callbacks\n",
        "from keras.callbacks import EarlyStopping, ModelCheckpoint\n",
        "\n",
        "checkpoint_path = \"cnn_model.best.hdf5\"\n",
        "\n",
        "# use early stopping to optimally terminate training through callbacks\n",
        "es = EarlyStopping(monitor='val_loss', mode='min', verbose=1, patience=2) # patience=3)\n",
        "\n",
        "# save best model automatically\n",
        "mc = ModelCheckpoint(\n",
        "    checkpoint_path, monitor='val_loss', \n",
        "    mode='min', verbose=1, save_best_only=True\n",
        ")\n",
        "cb_list = [es,mc]"
      ],
      "execution_count": 289,
      "outputs": [
        {
          "output_type": "stream",
          "text": [
            "time: 5.24 ms\n"
          ],
          "name": "stdout"
        }
      ]
    },
    {
      "cell_type": "markdown",
      "metadata": {
        "id": "EovkzEzS7WsG",
        "colab_type": "text"
      },
      "source": [
        "### Start training"
      ]
    },
    {
      "cell_type": "code",
      "metadata": {
        "id": "lsyR8HNEJw0k",
        "colab_type": "code",
        "outputId": "3b6167b8-1a86-4f27-89e3-ca3137e85e21",
        "colab": {
          "base_uri": "https://localhost:8080/",
          "height": 1000
        }
      },
      "source": [
        "# Train model\n",
        "epochs = 25\n",
        "batch_size = 2048 # 64 # use more if gpu available - for faster processing \n",
        "history = model_cnn.fit(\n",
        "    train_texts, train_y,\n",
        "    validation_data=(val_texts, val_y), \n",
        "    epochs=epochs, \n",
        "    batch_size=batch_size,\n",
        "    verbose=1,shuffle=True,\n",
        "    callbacks=cb_list,\n",
        "    \n",
        ")"
      ],
      "execution_count": 290,
      "outputs": [
        {
          "output_type": "stream",
          "text": [
            "Train on 22027 samples, validate on 5507 samples\n",
            "Epoch 1/25\n",
            "22027/22027 [==============================] - 4s 160us/step - loss: 1.0718 - acc: 0.4532 - val_loss: 1.0254 - val_acc: 0.5072\n",
            "\n",
            "Epoch 00001: val_loss improved from inf to 1.02536, saving model to cnn_model.best.hdf5\n",
            "Epoch 2/25\n",
            "22027/22027 [==============================] - 1s 25us/step - loss: 0.9354 - acc: 0.6156 - val_loss: 0.8122 - val_acc: 0.7075\n",
            "\n",
            "Epoch 00002: val_loss improved from 1.02536 to 0.81222, saving model to cnn_model.best.hdf5\n",
            "Epoch 3/25\n",
            "22027/22027 [==============================] - 1s 23us/step - loss: 0.6910 - acc: 0.7455 - val_loss: 0.6051 - val_acc: 0.7672\n",
            "\n",
            "Epoch 00003: val_loss improved from 0.81222 to 0.60508, saving model to cnn_model.best.hdf5\n",
            "Epoch 4/25\n",
            "22027/22027 [==============================] - 1s 24us/step - loss: 0.5031 - acc: 0.8093 - val_loss: 0.5093 - val_acc: 0.8097\n",
            "\n",
            "Epoch 00004: val_loss improved from 0.60508 to 0.50926, saving model to cnn_model.best.hdf5\n",
            "Epoch 5/25\n",
            "22027/22027 [==============================] - 1s 23us/step - loss: 0.3878 - acc: 0.8609 - val_loss: 0.4414 - val_acc: 0.8326\n",
            "\n",
            "Epoch 00005: val_loss improved from 0.50926 to 0.44141, saving model to cnn_model.best.hdf5\n",
            "Epoch 6/25\n",
            "22027/22027 [==============================] - 1s 24us/step - loss: 0.3104 - acc: 0.8921 - val_loss: 0.4031 - val_acc: 0.8536\n",
            "\n",
            "Epoch 00006: val_loss improved from 0.44141 to 0.40310, saving model to cnn_model.best.hdf5\n",
            "Epoch 7/25\n",
            "22027/22027 [==============================] - 1s 24us/step - loss: 0.2549 - acc: 0.9132 - val_loss: 0.3789 - val_acc: 0.8700\n",
            "\n",
            "Epoch 00007: val_loss improved from 0.40310 to 0.37888, saving model to cnn_model.best.hdf5\n",
            "Epoch 8/25\n",
            "22027/22027 [==============================] - 1s 23us/step - loss: 0.2110 - acc: 0.9313 - val_loss: 0.3595 - val_acc: 0.8792\n",
            "\n",
            "Epoch 00008: val_loss improved from 0.37888 to 0.35945, saving model to cnn_model.best.hdf5\n",
            "Epoch 9/25\n",
            "22027/22027 [==============================] - 1s 23us/step - loss: 0.1768 - acc: 0.9447 - val_loss: 0.3385 - val_acc: 0.8914\n",
            "\n",
            "Epoch 00009: val_loss improved from 0.35945 to 0.33845, saving model to cnn_model.best.hdf5\n",
            "Epoch 10/25\n",
            "22027/22027 [==============================] - 1s 24us/step - loss: 0.1492 - acc: 0.9540 - val_loss: 0.3363 - val_acc: 0.8963\n",
            "\n",
            "Epoch 00010: val_loss improved from 0.33845 to 0.33630, saving model to cnn_model.best.hdf5\n",
            "Epoch 11/25\n",
            "22027/22027 [==============================] - 1s 24us/step - loss: 0.1279 - acc: 0.9600 - val_loss: 0.3278 - val_acc: 0.9030\n",
            "\n",
            "Epoch 00011: val_loss improved from 0.33630 to 0.32783, saving model to cnn_model.best.hdf5\n",
            "Epoch 12/25\n",
            "22027/22027 [==============================] - 1s 24us/step - loss: 0.1107 - acc: 0.9672 - val_loss: 0.3166 - val_acc: 0.9112\n",
            "\n",
            "Epoch 00012: val_loss improved from 0.32783 to 0.31659, saving model to cnn_model.best.hdf5\n",
            "Epoch 13/25\n",
            "22027/22027 [==============================] - 1s 24us/step - loss: 0.0956 - acc: 0.9709 - val_loss: 0.3238 - val_acc: 0.9103\n",
            "\n",
            "Epoch 00013: val_loss did not improve from 0.31659\n",
            "Epoch 14/25\n",
            "22027/22027 [==============================] - 1s 23us/step - loss: 0.0857 - acc: 0.9729 - val_loss: 0.3384 - val_acc: 0.9103\n",
            "\n",
            "Epoch 00014: val_loss did not improve from 0.31659\n",
            "Epoch 00014: early stopping\n",
            "time: 28.4 s\n"
          ],
          "name": "stdout"
        }
      ]
    },
    {
      "cell_type": "code",
      "metadata": {
        "id": "-4GbFISA8m4Y",
        "colab_type": "code",
        "outputId": "b97c2e35-60b7-40b5-be6c-173b99d01306",
        "colab": {
          "base_uri": "https://localhost:8080/",
          "height": 591
        }
      },
      "source": [
        "plot_accuracy_loss(history)"
      ],
      "execution_count": 291,
      "outputs": [
        {
          "output_type": "display_data",
          "data": {
            "image/png": "[encoded data removed]",
            "text/plain": [
              "<Figure size 432x288 with 1 Axes>"
            ]
          },
          "metadata": {
            "tags": [],
            "needs_background": "light"
          }
        },
        {
          "output_type": "display_data",
          "data": {
            "image/png": "[encoded data removed]",
            "text/plain": [
              "<Figure size 432x288 with 1 Axes>"
            ]
          },
          "metadata": {
            "tags": [],
            "needs_background": "light"
          }
        },
        {
          "output_type": "stream",
          "text": [
            "time: 375 ms\n"
          ],
          "name": "stdout"
        }
      ]
    },
    {
      "cell_type": "markdown",
      "metadata": {
        "id": "5pvZMGLL-AAg",
        "colab_type": "text"
      },
      "source": [
        "## GRU"
      ]
    },
    {
      "cell_type": "code",
      "metadata": {
        "id": "oF9Yjw-V-Cfc",
        "colab_type": "code",
        "outputId": "6eb51841-7e3d-4822-afa7-fd07593e82f4",
        "colab": {
          "base_uri": "https://localhost:8080/",
          "height": 35
        }
      },
      "source": [
        "def build_gru_model():\n",
        "    sequences = layers.Input(shape=(MAX_LENGTH,))\n",
        "    embedded = layers.Embedding(MAX_FEATURES, 64)(sequences)\n",
        "    x = layers.CuDNNGRU(128, return_sequences=True)(embedded)\n",
        "    x = layers.CuDNNGRU(128)(x)\n",
        "    x = layers.Dense(32, activation='relu')(x)\n",
        "    x = layers.Dense(100, activation='relu')(x)\n",
        "    predictions = layers.Dense(num_classes, activation='softmax')(x)\n",
        "    model = models.Model(inputs=sequences, outputs=predictions)\n",
        "    model.compile(\n",
        "        loss='categorical_crossentropy',\n",
        "        optimizer='adam',\n",
        "        metrics=['acc']\n",
        "    )\n",
        "    return model\n",
        "    \n",
        "gru_model = build_gru_model()"
      ],
      "execution_count": 292,
      "outputs": [
        {
          "output_type": "stream",
          "text": [
            "time: 313 ms\n"
          ],
          "name": "stdout"
        }
      ]
    },
    {
      "cell_type": "markdown",
      "metadata": {
        "colab_type": "text",
        "id": "_KAXRWxcV7Vh"
      },
      "source": [
        "### Avoid wasting resources with EarlyStopping and ModelCheckpoint in Keras\n",
        "\n",
        "Training a neural network can take a lot of time. In some cases, especially with \n",
        "very deep architectures trained on very large data sets, it can take weeks before one’s model \n",
        "is finally trained.\n",
        "\n",
        "Unfortunately, setting a fixed number of epochs is often a bad idea. Here’s why:\n",
        "\n",
        "1.   When you use too few epochs, your model will remain underfit. What I mean is that its predictive power can still be improved without a loss of generalization power (i.e., it improves without overfitting). You will end up with a model that does not perform at its maximum capability.\n",
        "\n",
        "2.   When you use too many epochs, depending on how you configure the training process, your final model will either be optimized or it will be overfit. In both cases, you will have wasted resources. Hey, but why are those resources wasted when the final model is optimal? Simple – most likely, this optimum was found in e.g. 20% of the epochs you configured the model for. 80% of the resources you used are then wasted. Especially with highly expensive tasks in computational terms, you’ll want to avoid waste as much as you can.\n",
        "\n",
        "\n",
        "\n"
      ]
    },
    {
      "cell_type": "code",
      "metadata": {
        "colab_type": "code",
        "outputId": "c2862ad2-99d3-45d3-8ad8-3f6fdb0372dd",
        "id": "cJ5KRlPRV7Vl",
        "colab": {
          "base_uri": "https://localhost:8080/",
          "height": 35
        }
      },
      "source": [
        "# Adding the callbacks\n",
        "from keras.callbacks import EarlyStopping, ModelCheckpoint\n",
        "\n",
        "checkpoint_path = \"gru_model.best.hdf5\"\n",
        "\n",
        "# use early stopping to optimally terminate training through callbacks\n",
        "es = EarlyStopping(monitor='val_loss', mode='min', verbose=1, patience=2) # patience=3)\n",
        "\n",
        "# save best model automatically\n",
        "mc = ModelCheckpoint(\n",
        "    checkpoint_path, monitor='val_loss', \n",
        "    mode='min', verbose=1, save_best_only=True\n",
        ")\n",
        "cb_list = [es,mc]"
      ],
      "execution_count": 293,
      "outputs": [
        {
          "output_type": "stream",
          "text": [
            "time: 4.58 ms\n"
          ],
          "name": "stdout"
        }
      ]
    },
    {
      "cell_type": "markdown",
      "metadata": {
        "id": "3dYU3gYvV8rA",
        "colab_type": "text"
      },
      "source": [
        "### Train"
      ]
    },
    {
      "cell_type": "code",
      "metadata": {
        "id": "H0uCYxaK-Ibi",
        "colab_type": "code",
        "outputId": "ec5b2d31-4be3-4622-b9a3-a77f4638f78c",
        "colab": {
          "base_uri": "https://localhost:8080/",
          "height": 1000
        }
      },
      "source": [
        "epochs = 25\n",
        "batch_size = 2048 # 128 # use more if gpu available - for faster processing \n",
        "\n",
        "history = gru_model.fit(\n",
        "    train_texts, \n",
        "    train_y, \n",
        "    validation_data=(val_texts, val_y),\n",
        "    batch_size=batch_size,\n",
        "    epochs=epochs,\n",
        "    callbacks=cb_list,\n",
        ")"
      ],
      "execution_count": 294,
      "outputs": [
        {
          "output_type": "stream",
          "text": [
            "Train on 22027 samples, validate on 5507 samples\n",
            "Epoch 1/25\n",
            "20480/22027 [==========================>...] - ETA: 0s - loss: 1.0874 - acc: 0.4422\n",
            "Epoch 00001: val_loss improved from inf to 1.04939, saving model to gru_model.best.hdf5\n",
            "22027/22027 [==============================] - 16s 740us/sample - loss: 1.0852 - acc: 0.4495 - val_loss: 1.0494 - val_acc: 0.5097\n",
            "Epoch 2/25\n",
            "20480/22027 [==========================>...] - ETA: 0s - loss: 1.0060 - acc: 0.5413\n",
            "Epoch 00002: val_loss improved from 1.04939 to 0.90191, saving model to gru_model.best.hdf5\n",
            "22027/22027 [==============================] - 1s 45us/sample - loss: 0.9994 - acc: 0.5509 - val_loss: 0.9019 - val_acc: 0.6415\n",
            "Epoch 3/25\n",
            "20480/22027 [==========================>...] - ETA: 0s - loss: 0.7350 - acc: 0.7316\n",
            "Epoch 00003: val_loss improved from 0.90191 to 0.59947, saving model to gru_model.best.hdf5\n",
            "22027/22027 [==============================] - 1s 40us/sample - loss: 0.7241 - acc: 0.7344 - val_loss: 0.5995 - val_acc: 0.7605\n",
            "Epoch 4/25\n",
            "20480/22027 [==========================>...] - ETA: 0s - loss: 0.4814 - acc: 0.8141\n",
            "Epoch 00004: val_loss improved from 0.59947 to 0.50916, saving model to gru_model.best.hdf5\n",
            "22027/22027 [==============================] - 1s 39us/sample - loss: 0.4811 - acc: 0.8144 - val_loss: 0.5092 - val_acc: 0.8044\n",
            "Epoch 5/25\n",
            "20480/22027 [==========================>...] - ETA: 0s - loss: 0.3737 - acc: 0.8639\n",
            "Epoch 00005: val_loss improved from 0.50916 to 0.46172, saving model to gru_model.best.hdf5\n",
            "22027/22027 [==============================] - 1s 40us/sample - loss: 0.3729 - acc: 0.8638 - val_loss: 0.4617 - val_acc: 0.8295\n",
            "Epoch 6/25\n",
            "20480/22027 [==========================>...] - ETA: 0s - loss: 0.3084 - acc: 0.8906\n",
            "Epoch 00006: val_loss improved from 0.46172 to 0.43604, saving model to gru_model.best.hdf5\n",
            "22027/22027 [==============================] - 1s 40us/sample - loss: 0.3080 - acc: 0.8916 - val_loss: 0.4360 - val_acc: 0.8475\n",
            "Epoch 7/25\n",
            "20480/22027 [==========================>...] - ETA: 0s - loss: 0.2610 - acc: 0.9121\n",
            "Epoch 00007: val_loss improved from 0.43604 to 0.41660, saving model to gru_model.best.hdf5\n",
            "22027/22027 [==============================] - 1s 40us/sample - loss: 0.2597 - acc: 0.9120 - val_loss: 0.4166 - val_acc: 0.8605\n",
            "Epoch 8/25\n",
            "20480/22027 [==========================>...] - ETA: 0s - loss: 0.2218 - acc: 0.9260\n",
            "Epoch 00008: val_loss did not improve from 0.41660\n",
            "22027/22027 [==============================] - 1s 37us/sample - loss: 0.2225 - acc: 0.9260 - val_loss: 0.4193 - val_acc: 0.8685\n",
            "Epoch 9/25\n",
            "20480/22027 [==========================>...] - ETA: 0s - loss: 0.1997 - acc: 0.9333\n",
            "Epoch 00009: val_loss did not improve from 0.41660\n",
            "22027/22027 [==============================] - 1s 37us/sample - loss: 0.1981 - acc: 0.9337 - val_loss: 0.4252 - val_acc: 0.8682\n",
            "Epoch 10/25\n",
            "20480/22027 [==========================>...] - ETA: 0s - loss: 0.1854 - acc: 0.9394\n",
            "Epoch 00010: val_loss improved from 0.41660 to 0.40868, saving model to gru_model.best.hdf5\n",
            "22027/22027 [==============================] - 1s 40us/sample - loss: 0.1855 - acc: 0.9396 - val_loss: 0.4087 - val_acc: 0.8794\n",
            "Epoch 11/25\n",
            "20480/22027 [==========================>...] - ETA: 0s - loss: 0.1718 - acc: 0.9441\n",
            "Epoch 00011: val_loss did not improve from 0.40868\n",
            "22027/22027 [==============================] - 1s 37us/sample - loss: 0.1721 - acc: 0.9443 - val_loss: 0.4182 - val_acc: 0.8794\n",
            "Epoch 12/25\n",
            "20480/22027 [==========================>...] - ETA: 0s - loss: 0.1614 - acc: 0.9487\n",
            "Epoch 00012: val_loss did not improve from 0.40868\n",
            "22027/22027 [==============================] - 1s 37us/sample - loss: 0.1614 - acc: 0.9486 - val_loss: 0.4389 - val_acc: 0.8763\n",
            "Epoch 13/25\n",
            "20480/22027 [==========================>...] - ETA: 0s - loss: 0.1594 - acc: 0.9488\n",
            "Epoch 00013: val_loss did not improve from 0.40868\n",
            "22027/22027 [==============================] - 1s 37us/sample - loss: 0.1598 - acc: 0.9481 - val_loss: 0.4173 - val_acc: 0.8820\n",
            "Epoch 14/25\n",
            "20480/22027 [==========================>...] - ETA: 0s - loss: 0.1478 - acc: 0.9520\n",
            "Epoch 00014: val_loss did not improve from 0.40868\n",
            "22027/22027 [==============================] - 1s 37us/sample - loss: 0.1498 - acc: 0.9511 - val_loss: 0.4340 - val_acc: 0.8765\n",
            "Epoch 15/25\n",
            "20480/22027 [==========================>...] - ETA: 0s - loss: 0.1401 - acc: 0.9554\n",
            "Epoch 00015: val_loss did not improve from 0.40868\n",
            "22027/22027 [==============================] - 1s 37us/sample - loss: 0.1398 - acc: 0.9556 - val_loss: 0.4351 - val_acc: 0.8811\n",
            "Epoch 16/25\n",
            "20480/22027 [==========================>...] - ETA: 0s - loss: 0.1343 - acc: 0.9588\n",
            "Epoch 00016: val_loss did not improve from 0.40868\n",
            "22027/22027 [==============================] - 1s 37us/sample - loss: 0.1347 - acc: 0.9583 - val_loss: 0.4655 - val_acc: 0.8789\n",
            "Epoch 17/25\n",
            "20480/22027 [==========================>...] - ETA: 0s - loss: 0.1303 - acc: 0.9591\n",
            "Epoch 00017: val_loss did not improve from 0.40868\n",
            "22027/22027 [==============================] - 1s 38us/sample - loss: 0.1305 - acc: 0.9591 - val_loss: 0.4282 - val_acc: 0.8925\n",
            "Epoch 18/25\n",
            "20480/22027 [==========================>...] - ETA: 0s - loss: 0.1207 - acc: 0.9647\n",
            "Epoch 00018: val_loss did not improve from 0.40868\n",
            "22027/22027 [==============================] - 1s 37us/sample - loss: 0.1210 - acc: 0.9645 - val_loss: 0.4474 - val_acc: 0.8871\n",
            "Epoch 19/25\n",
            "20480/22027 [==========================>...] - ETA: 0s - loss: 0.1196 - acc: 0.9642\n",
            "Epoch 00019: val_loss did not improve from 0.40868\n",
            "22027/22027 [==============================] - 1s 37us/sample - loss: 0.1197 - acc: 0.9643 - val_loss: 0.4530 - val_acc: 0.8892\n",
            "Epoch 20/25\n",
            "20480/22027 [==========================>...] - ETA: 0s - loss: 0.1164 - acc: 0.9645\n",
            "Epoch 00020: val_loss did not improve from 0.40868\n",
            "22027/22027 [==============================] - 1s 37us/sample - loss: 0.1177 - acc: 0.9642 - val_loss: 0.4641 - val_acc: 0.8874\n",
            "Epoch 00020: early stopping\n",
            "time: 39.3 s\n"
          ],
          "name": "stdout"
        }
      ]
    },
    {
      "cell_type": "code",
      "metadata": {
        "id": "_CkStWUgCrOF",
        "colab_type": "code",
        "colab": {
          "base_uri": "https://localhost:8080/",
          "height": 591
        },
        "outputId": "8acc274c-4e90-4a0b-8947-515b309c071e"
      },
      "source": [
        "plot_accuracy_loss(history)"
      ],
      "execution_count": 295,
      "outputs": [
        {
          "output_type": "display_data",
          "data": {
            "image/png": "[encoded data removed]",
            "text/plain": [
              "<Figure size 432x288 with 1 Axes>"
            ]
          },
          "metadata": {
            "tags": [],
            "needs_background": "light"
          }
        },
        {
          "output_type": "display_data",
          "data": {
            "image/png": "[encoded data removed]",
            "text/plain": [
              "<Figure size 432x288 with 1 Axes>"
            ]
          },
          "metadata": {
            "tags": [],
            "needs_background": "light"
          }
        },
        {
          "output_type": "stream",
          "text": [
            "time: 360 ms\n"
          ],
          "name": "stdout"
        }
      ]
    },
    {
      "cell_type": "markdown",
      "metadata": {
        "id": "v40BIR1CU9s-",
        "colab_type": "text"
      },
      "source": [
        "## Bidirectional-GRU"
      ]
    },
    {
      "cell_type": "code",
      "metadata": {
        "id": "wLRyUjNKaXDD",
        "colab_type": "code",
        "outputId": "94164744-d4f0-4292-bd56-eb2f22b49c06",
        "colab": {
          "base_uri": "https://localhost:8080/",
          "height": 35
        }
      },
      "source": [
        "embed_dim = 64\n",
        "\n",
        "def build_bidirectional_gru():\n",
        "\tmodel = Sequential()\n",
        "\tmodel.add(Embedding(MAX_FEATURES, embed_dim, input_length=MAX_LENGTH))\n",
        "\tmodel.add(SpatialDropout1D(0.25))\n",
        "\tmodel.add(Bidirectional(GRU(64,dropout=0.4, return_sequences = True)))\n",
        "\tmodel.add(Bidirectional(GRU(32,dropout=0.5, return_sequences = False)))\n",
        "\tmodel.add(Dense(num_classes, activation='softmax'))\n",
        "\tmodel.compile(\n",
        "\t\tloss = 'categorical_crossentropy', optimizer=Adam(lr = 0.001), \n",
        "\t\tmetrics = ['acc']\n",
        "\t)\n",
        "\treturn model\n",
        "\t\n",
        "bidirectional_gru_model = build_bidirectional_gru()"
      ],
      "execution_count": 296,
      "outputs": [
        {
          "output_type": "stream",
          "text": [
            "time: 2.45 s\n"
          ],
          "name": "stdout"
        }
      ]
    },
    {
      "cell_type": "markdown",
      "metadata": {
        "colab_type": "text",
        "id": "c-LAR4JzWPGv"
      },
      "source": [
        "### Avoid wasting resources with EarlyStopping and ModelCheckpoint in Keras\n",
        "\n",
        "Training a neural network can take a lot of time. In some cases, especially with \n",
        "very deep architectures trained on very large data sets, it can take weeks before one’s model \n",
        "is finally trained.\n",
        "\n",
        "Unfortunately, setting a fixed number of epochs is often a bad idea. Here’s why:\n",
        "\n",
        "1.   When you use too few epochs, your model will remain underfit. What I mean is that its predictive power can still be improved without a loss of generalization power (i.e., it improves without overfitting). You will end up with a model that does not perform at its maximum capability.\n",
        "\n",
        "2.   When you use too many epochs, depending on how you configure the training process, your final model will either be optimized or it will be overfit. In both cases, you will have wasted resources. Hey, but why are those resources wasted when the final model is optimal? Simple – most likely, this optimum was found in e.g. 20% of the epochs you configured the model for. 80% of the resources you used are then wasted. Especially with highly expensive tasks in computational terms, you’ll want to avoid waste as much as you can.\n",
        "\n",
        "\n",
        "\n"
      ]
    },
    {
      "cell_type": "code",
      "metadata": {
        "colab_type": "code",
        "outputId": "c265f5d2-8b2d-4ddc-8c8b-6cf2eb808b59",
        "id": "GdA4sWYcWPGy",
        "colab": {
          "base_uri": "https://localhost:8080/",
          "height": 35
        }
      },
      "source": [
        "# Adding the callbacks\n",
        "from keras.callbacks import EarlyStopping, ModelCheckpoint\n",
        "\n",
        "checkpoint_path = \"bidirectional_gru_model.best.hdf5\"\n",
        "\n",
        "# use early stopping to optimally terminate training through callbacks\n",
        "es = EarlyStopping(monitor='val_loss', mode='min', verbose=1, patience=2) # patience=3)\n",
        "\n",
        "# save best model automatically\n",
        "mc = ModelCheckpoint(\n",
        "    checkpoint_path, monitor='val_loss', \n",
        "    mode='min', verbose=1, save_best_only=True\n",
        ")\n",
        "cb_list = [es,mc]"
      ],
      "execution_count": 297,
      "outputs": [
        {
          "output_type": "stream",
          "text": [
            "time: 3.62 ms\n"
          ],
          "name": "stdout"
        }
      ]
    },
    {
      "cell_type": "markdown",
      "metadata": {
        "id": "f463iCS5WYRG",
        "colab_type": "text"
      },
      "source": [
        "### Train"
      ]
    },
    {
      "cell_type": "code",
      "metadata": {
        "id": "HXwIB0XTakpj",
        "colab_type": "code",
        "outputId": "0d7b814f-8106-4134-82cf-e680859d06c3",
        "colab": {
          "base_uri": "https://localhost:8080/",
          "height": 1000
        }
      },
      "source": [
        "epochs = 25\n",
        "batch_size = 2048 # 128 # use more if gpu available - for faster processing \n",
        "\n",
        "history = bidirectional_gru_model.fit(\n",
        "    train_texts, \n",
        "    train_y, \n",
        "    batch_size=batch_size,\n",
        "    epochs=epochs,\n",
        "    validation_data=(val_texts, val_y),\n",
        "    callbacks=cb_list,\n",
        ")"
      ],
      "execution_count": 298,
      "outputs": [
        {
          "output_type": "stream",
          "text": [
            "Train on 22027 samples, validate on 5507 samples\n",
            "Epoch 1/25\n",
            "22027/22027 [==============================] - 6s 279us/step - loss: 1.0883 - acc: 0.4090 - val_loss: 1.0688 - val_acc: 0.5698\n",
            "\n",
            "Epoch 00001: val_loss improved from inf to 1.06880, saving model to bidirectional_gru_model.best.hdf5\n",
            "Epoch 2/25\n",
            "22027/22027 [==============================] - 3s 119us/step - loss: 1.0310 - acc: 0.5508 - val_loss: 0.9667 - val_acc: 0.5894\n",
            "\n",
            "Epoch 00002: val_loss improved from 1.06880 to 0.96671, saving model to bidirectional_gru_model.best.hdf5\n",
            "Epoch 3/25\n",
            "22027/22027 [==============================] - 3s 114us/step - loss: 0.9015 - acc: 0.6094 - val_loss: 0.8083 - val_acc: 0.6715\n",
            "\n",
            "Epoch 00003: val_loss improved from 0.96671 to 0.80833, saving model to bidirectional_gru_model.best.hdf5\n",
            "Epoch 4/25\n",
            "22027/22027 [==============================] - 3s 115us/step - loss: 0.7053 - acc: 0.7156 - val_loss: 0.6261 - val_acc: 0.7467\n",
            "\n",
            "Epoch 00004: val_loss improved from 0.80833 to 0.62612, saving model to bidirectional_gru_model.best.hdf5\n",
            "Epoch 5/25\n",
            "22027/22027 [==============================] - 3s 118us/step - loss: 0.5539 - acc: 0.7836 - val_loss: 0.5377 - val_acc: 0.7904\n",
            "\n",
            "Epoch 00005: val_loss improved from 0.62612 to 0.53772, saving model to bidirectional_gru_model.best.hdf5\n",
            "Epoch 6/25\n",
            "22027/22027 [==============================] - 2s 113us/step - loss: 0.4525 - acc: 0.8259 - val_loss: 0.4859 - val_acc: 0.8151\n",
            "\n",
            "Epoch 00006: val_loss improved from 0.53772 to 0.48590, saving model to bidirectional_gru_model.best.hdf5\n",
            "Epoch 7/25\n",
            "22027/22027 [==============================] - 2s 113us/step - loss: 0.3940 - acc: 0.8527 - val_loss: 0.4553 - val_acc: 0.8322\n",
            "\n",
            "Epoch 00007: val_loss improved from 0.48590 to 0.45527, saving model to bidirectional_gru_model.best.hdf5\n",
            "Epoch 8/25\n",
            "22027/22027 [==============================] - 3s 116us/step - loss: 0.3399 - acc: 0.8777 - val_loss: 0.4411 - val_acc: 0.8446\n",
            "\n",
            "Epoch 00008: val_loss improved from 0.45527 to 0.44105, saving model to bidirectional_gru_model.best.hdf5\n",
            "Epoch 9/25\n",
            "22027/22027 [==============================] - 2s 111us/step - loss: 0.3110 - acc: 0.8890 - val_loss: 0.4247 - val_acc: 0.8516\n",
            "\n",
            "Epoch 00009: val_loss improved from 0.44105 to 0.42468, saving model to bidirectional_gru_model.best.hdf5\n",
            "Epoch 10/25\n",
            "22027/22027 [==============================] - 3s 117us/step - loss: 0.2848 - acc: 0.8989 - val_loss: 0.4098 - val_acc: 0.8593\n",
            "\n",
            "Epoch 00010: val_loss improved from 0.42468 to 0.40979, saving model to bidirectional_gru_model.best.hdf5\n",
            "Epoch 11/25\n",
            "22027/22027 [==============================] - 2s 112us/step - loss: 0.2640 - acc: 0.9084 - val_loss: 0.4152 - val_acc: 0.8605\n",
            "\n",
            "Epoch 00011: val_loss did not improve from 0.40979\n",
            "Epoch 12/25\n",
            "22027/22027 [==============================] - 3s 115us/step - loss: 0.2436 - acc: 0.9180 - val_loss: 0.4003 - val_acc: 0.8709\n",
            "\n",
            "Epoch 00012: val_loss improved from 0.40979 to 0.40031, saving model to bidirectional_gru_model.best.hdf5\n",
            "Epoch 13/25\n",
            "22027/22027 [==============================] - 3s 116us/step - loss: 0.2344 - acc: 0.9213 - val_loss: 0.3983 - val_acc: 0.8713\n",
            "\n",
            "Epoch 00013: val_loss improved from 0.40031 to 0.39828, saving model to bidirectional_gru_model.best.hdf5\n",
            "Epoch 14/25\n",
            "22027/22027 [==============================] - 3s 116us/step - loss: 0.2213 - acc: 0.9245 - val_loss: 0.3929 - val_acc: 0.8751\n",
            "\n",
            "Epoch 00014: val_loss improved from 0.39828 to 0.39288, saving model to bidirectional_gru_model.best.hdf5\n",
            "Epoch 15/25\n",
            "22027/22027 [==============================] - 2s 113us/step - loss: 0.2117 - acc: 0.9279 - val_loss: 0.3843 - val_acc: 0.8814\n",
            "\n",
            "Epoch 00015: val_loss improved from 0.39288 to 0.38428, saving model to bidirectional_gru_model.best.hdf5\n",
            "Epoch 16/25\n",
            "22027/22027 [==============================] - 3s 119us/step - loss: 0.2042 - acc: 0.9317 - val_loss: 0.3780 - val_acc: 0.8852\n",
            "\n",
            "Epoch 00016: val_loss improved from 0.38428 to 0.37803, saving model to bidirectional_gru_model.best.hdf5\n",
            "Epoch 17/25\n",
            "22027/22027 [==============================] - 2s 113us/step - loss: 0.1987 - acc: 0.9323 - val_loss: 0.3892 - val_acc: 0.8845\n",
            "\n",
            "Epoch 00017: val_loss did not improve from 0.37803\n",
            "Epoch 18/25\n",
            "22027/22027 [==============================] - 3s 114us/step - loss: 0.1913 - acc: 0.9363 - val_loss: 0.3814 - val_acc: 0.8852\n",
            "\n",
            "Epoch 00018: val_loss did not improve from 0.37803\n",
            "Epoch 19/25\n",
            "22027/22027 [==============================] - 2s 112us/step - loss: 0.1923 - acc: 0.9348 - val_loss: 0.3955 - val_acc: 0.8825\n",
            "\n",
            "Epoch 00019: val_loss did not improve from 0.37803\n",
            "Epoch 20/25\n",
            "22027/22027 [==============================] - 2s 111us/step - loss: 0.1846 - acc: 0.9397 - val_loss: 0.3863 - val_acc: 0.8869\n",
            "\n",
            "Epoch 00020: val_loss did not improve from 0.37803\n",
            "Epoch 21/25\n",
            "22027/22027 [==============================] - 2s 111us/step - loss: 0.1777 - acc: 0.9420 - val_loss: 0.3900 - val_acc: 0.8905\n",
            "\n",
            "Epoch 00021: val_loss did not improve from 0.37803\n",
            "Epoch 00021: early stopping\n",
            "time: 1min 18s\n"
          ],
          "name": "stdout"
        }
      ]
    },
    {
      "cell_type": "markdown",
      "metadata": {
        "id": "00A5lNTUWaPF",
        "colab_type": "text"
      },
      "source": [
        "### Visualize"
      ]
    },
    {
      "cell_type": "code",
      "metadata": {
        "id": "ULfHZEkMazVX",
        "colab_type": "code",
        "colab": {
          "base_uri": "https://localhost:8080/",
          "height": 591
        },
        "outputId": "b0ddf95e-e458-4426-8d0c-c6ed80b6f798"
      },
      "source": [
        "plot_accuracy_loss(history)"
      ],
      "execution_count": 299,
      "outputs": [
        {
          "output_type": "display_data",
          "data": {
            "image/png": "[encoded data removed]",
            "text/plain": [
              "<Figure size 432x288 with 1 Axes>"
            ]
          },
          "metadata": {
            "tags": [],
            "needs_background": "light"
          }
        },
        {
          "output_type": "display_data",
          "data": {
            "image/png": "[encoded data removed]",
            "text/plain": [
              "<Figure size 432x288 with 1 Axes>"
            ]
          },
          "metadata": {
            "tags": [],
            "needs_background": "light"
          }
        },
        {
          "output_type": "stream",
          "text": [
            "time: 356 ms\n"
          ],
          "name": "stdout"
        }
      ]
    },
    {
      "cell_type": "markdown",
      "metadata": {
        "id": "-Js9baOEa-Bk",
        "colab_type": "text"
      },
      "source": [
        "# Machine Learning"
      ]
    },
    {
      "cell_type": "code",
      "metadata": {
        "id": "-_p38f81cWWy",
        "colab_type": "code",
        "colab": {
          "base_uri": "https://localhost:8080/",
          "height": 697
        },
        "outputId": "ea3968c3-38dc-4e6c-ac6b-923e87b078c1"
      },
      "source": [
        "from sklearn.svm import LinearSVC\n",
        "from sklearn.metrics import confusion_matrix\n",
        "\n",
        "model = LinearSVC()\n",
        "model.fit(train_texts, train_labels)\n",
        "y_pred = model.predict(val_texts)\n",
        "\n",
        "print(f\"Accuracy : {accuracy_score(val_labels, y_pred)}\")\n",
        "\n",
        "conf_mat = confusion_matrix(val_labels, y_pred)\n",
        "fig, ax = plt.subplots(figsize=(10,6))\n",
        "sns.heatmap(conf_mat, annot=True, fmt='3.0f', cmap=\"summer\", xticklabels=classes, yticklabels=classes)\n",
        "plt.title('Confusion_matrix', y=1.05, size=15)\n",
        "plt.ylabel('Actual')\n",
        "plt.xlabel('Predicted')\n",
        "plt.show()"
      ],
      "execution_count": 300,
      "outputs": [
        {
          "output_type": "stream",
          "text": [
            "Accuracy : 0.362992554930089\n"
          ],
          "name": "stdout"
        },
        {
          "output_type": "stream",
          "text": [
            "/usr/local/lib/python3.6/dist-packages/sklearn/svm/_base.py:947: ConvergenceWarning: Liblinear failed to converge, increase the number of iterations.\n",
            "  \"the number of iterations.\", ConvergenceWarning)\n"
          ],
          "name": "stderr"
        },
        {
          "output_type": "error",
          "ename": "NameError",
          "evalue": "ignored",
          "traceback": [
            "\u001b[0;31m---------------------------------------------------------------------------\u001b[0m",
            "\u001b[0;31mNameError\u001b[0m                                 Traceback (most recent call last)",
            "\u001b[0;32m<ipython-input-300-3b43fcebec07>\u001b[0m in \u001b[0;36m<module>\u001b[0;34m()\u001b[0m\n\u001b[1;32m     10\u001b[0m \u001b[0mconf_mat\u001b[0m \u001b[0;34m=\u001b[0m \u001b[0mconfusion_matrix\u001b[0m\u001b[0;34m(\u001b[0m\u001b[0mval_labels\u001b[0m\u001b[0;34m,\u001b[0m \u001b[0my_pred\u001b[0m\u001b[0;34m)\u001b[0m\u001b[0;34m\u001b[0m\u001b[0;34m\u001b[0m\u001b[0m\n\u001b[1;32m     11\u001b[0m \u001b[0mfig\u001b[0m\u001b[0;34m,\u001b[0m \u001b[0max\u001b[0m \u001b[0;34m=\u001b[0m \u001b[0mplt\u001b[0m\u001b[0;34m.\u001b[0m\u001b[0msubplots\u001b[0m\u001b[0;34m(\u001b[0m\u001b[0mfigsize\u001b[0m\u001b[0;34m=\u001b[0m\u001b[0;34m(\u001b[0m\u001b[0;36m10\u001b[0m\u001b[0;34m,\u001b[0m\u001b[0;36m6\u001b[0m\u001b[0;34m)\u001b[0m\u001b[0;34m)\u001b[0m\u001b[0;34m\u001b[0m\u001b[0;34m\u001b[0m\u001b[0m\n\u001b[0;32m---> 12\u001b[0;31m \u001b[0msns\u001b[0m\u001b[0;34m.\u001b[0m\u001b[0mheatmap\u001b[0m\u001b[0;34m(\u001b[0m\u001b[0mconf_mat\u001b[0m\u001b[0;34m,\u001b[0m \u001b[0mannot\u001b[0m\u001b[0;34m=\u001b[0m\u001b[0;32mTrue\u001b[0m\u001b[0;34m,\u001b[0m \u001b[0mfmt\u001b[0m\u001b[0;34m=\u001b[0m\u001b[0;34m'3.0f'\u001b[0m\u001b[0;34m,\u001b[0m \u001b[0mcmap\u001b[0m\u001b[0;34m=\u001b[0m\u001b[0;34m\"summer\"\u001b[0m\u001b[0;34m,\u001b[0m \u001b[0mxticklabels\u001b[0m\u001b[0;34m=\u001b[0m\u001b[0mclasses\u001b[0m\u001b[0;34m,\u001b[0m \u001b[0myticklabels\u001b[0m\u001b[0;34m=\u001b[0m\u001b[0mclasses\u001b[0m\u001b[0;34m)\u001b[0m\u001b[0;34m\u001b[0m\u001b[0;34m\u001b[0m\u001b[0m\n\u001b[0m\u001b[1;32m     13\u001b[0m \u001b[0mplt\u001b[0m\u001b[0;34m.\u001b[0m\u001b[0mtitle\u001b[0m\u001b[0;34m(\u001b[0m\u001b[0;34m'Confusion_matrix'\u001b[0m\u001b[0;34m,\u001b[0m \u001b[0my\u001b[0m\u001b[0;34m=\u001b[0m\u001b[0;36m1.05\u001b[0m\u001b[0;34m,\u001b[0m \u001b[0msize\u001b[0m\u001b[0;34m=\u001b[0m\u001b[0;36m15\u001b[0m\u001b[0;34m)\u001b[0m\u001b[0;34m\u001b[0m\u001b[0;34m\u001b[0m\u001b[0m\n\u001b[1;32m     14\u001b[0m \u001b[0mplt\u001b[0m\u001b[0;34m.\u001b[0m\u001b[0mylabel\u001b[0m\u001b[0;34m(\u001b[0m\u001b[0;34m'Actual'\u001b[0m\u001b[0;34m)\u001b[0m\u001b[0;34m\u001b[0m\u001b[0;34m\u001b[0m\u001b[0m\n",
            "\u001b[0;31mNameError\u001b[0m: name 'sns' is not defined"
          ]
        },
        {
          "output_type": "display_data",
          "data": {
            "image/png": "[encoded data removed]",
            "text/plain": [
              "<Figure size 720x432 with 1 Axes>"
            ]
          },
          "metadata": {
            "tags": [],
            "needs_background": "light"
          }
        },
        {
          "output_type": "stream",
          "text": [
            "time: 7.29 s\n"
          ],
          "name": "stdout"
        }
      ]
    },
    {
      "cell_type": "code",
      "metadata": {
        "id": "ewJetRjRd0Us",
        "colab_type": "code",
        "colab": {}
      },
      "source": [
        ""
      ],
      "execution_count": 0,
      "outputs": []
    }
  ]
}