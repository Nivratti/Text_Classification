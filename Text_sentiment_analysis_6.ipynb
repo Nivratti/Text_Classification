{
  "nbformat": 4,
  "nbformat_minor": 0,
  "metadata": {
    "colab": {
      "name": "Text-sentiment-analysis-6.ipynb",
      "provenance": [],
      "collapsed_sections": [
        "pmeqyLde51XU",
        "YvHXIZAD55pc",
        "ZhK6yMFEUtS2"
      ],
      "toc_visible": true,
      "machine_shape": "hm",
      "include_colab_link": true
    },
    "kernelspec": {
      "name": "python3",
      "display_name": "Python 3"
    },
    "accelerator": "GPU"
  },
  "cells": [
    {
      "cell_type": "markdown",
      "metadata": {
        "id": "view-in-github",
        "colab_type": "text"
      },
      "source": [
        "<a href=\"https://colab.research.google.com/github/Nivratti/Text_Classification/blob/master/Text_sentiment_analysis_6.ipynb\" target=\"_parent\"><img src=\"https://colab.research.google.com/assets/colab-badge.svg\" alt=\"Open In Colab\"/></a>"
      ]
    },
    {
      "cell_type": "markdown",
      "metadata": {
        "id": "P0RyGlWpct5y",
        "colab_type": "text"
      },
      "source": [
        "# Text sentiment analysis on Merged dataset (Twitter US airline + Amazon fine food reviews datset) --- Improved speed -- reducing matrix length"
      ]
    },
    {
      "cell_type": "markdown",
      "metadata": {
        "id": "49jWe30i5ak5",
        "colab_type": "text"
      },
      "source": [
        "## Dataset info\n",
        "Dataset is created by combining following two datsets:\n",
        "\n",
        "1.  twitter-airline-sentiment:\n",
        "https://www.kaggle.com/crowdflower/twitter-airline-sentiment\n",
        "\n",
        "2.   amazon-fine-food-reviews:\n",
        "https://www.kaggle.com/snap/amazon-fine-food-reviews\n",
        "\n",
        "    Score mapping to sentiment label:\n",
        "\n",
        "    *   1,2 ==> negative\n",
        "    *   3   ==> neutral\n",
        "    *   4,5 ==> positive\n"
      ]
    },
    {
      "cell_type": "markdown",
      "metadata": {
        "id": "nzu4UWqO3iH8",
        "colab_type": "text"
      },
      "source": [
        "# Connect Google Colab with Google Drive"
      ]
    },
    {
      "cell_type": "code",
      "metadata": {
        "id": "3G64KSaO3ju9",
        "colab_type": "code",
        "outputId": "6e40e030-8c7c-4e7f-c965-f30b1cae41d1",
        "colab": {
          "base_uri": "https://localhost:8080/",
          "height": 73
        }
      },
      "source": [
        "from google.colab import drive\n",
        "drive.mount('/content/gdrive')"
      ],
      "execution_count": 0,
      "outputs": [
        {
          "output_type": "stream",
          "text": [
            "Drive already mounted at /content/gdrive; to attempt to forcibly remount, call drive.mount(\"/content/gdrive\", force_remount=True).\n",
            "time: 1.86 ms\n"
          ],
          "name": "stdout"
        }
      ]
    },
    {
      "cell_type": "markdown",
      "metadata": {
        "id": "iNUnBH5GjYRA",
        "colab_type": "text"
      },
      "source": [
        "## prevent-google-colab-from-disconnecting"
      ]
    },
    {
      "cell_type": "markdown",
      "metadata": {
        "id": "kPlKxvxLivvd",
        "colab_type": "text"
      },
      "source": [
        "Google Colab notebooks have an idle timeout of 90 minutes and absolute timeout of 12 hours. This means, if user does not interact with his Google Colab notebook for more than 90 minutes, its instance is automatically terminated. Also, maximum lifetime of a Colab instance is 12 hours.\n",
        "\n",
        "Solution:\n",
        "\n",
        "Set a javascript interval to click on the connect button every 60 seconds. Open developer-settings (in your web-browser) with Ctrl+Shift+I then click on console tab and type this on the console prompt. (for mac press Option+Command+I)\n",
        "\n",
        "inser below code on console\n",
        "\n",
        "```\n",
        "function ConnectButton(){\n",
        "    console.log(\"Connect pushed\"); \n",
        "    document.querySelector(\"#top-toolbar > colab-connect-button\").shadowRoot.querySelector(\"#connect\").click() \n",
        "}\n",
        "setInterval(ConnectButton, 1200000);\n",
        "```\n",
        "\n",
        "\n"
      ]
    },
    {
      "cell_type": "markdown",
      "metadata": {
        "id": "47BMevlphFtj",
        "colab_type": "text"
      },
      "source": [
        "# Execution Time"
      ]
    },
    {
      "cell_type": "code",
      "metadata": {
        "id": "B6s_b71thFF3",
        "colab_type": "code",
        "outputId": "ef96012a-6fdf-420f-e01d-68eba2730f56",
        "colab": {
          "base_uri": "https://localhost:8080/",
          "height": 89
        }
      },
      "source": [
        "!pip install ipython-autotime\n",
        "\n",
        "%load_ext autotime"
      ],
      "execution_count": 0,
      "outputs": [
        {
          "output_type": "stream",
          "text": [
            "Requirement already satisfied: ipython-autotime in /usr/local/lib/python3.6/dist-packages (0.1)\n",
            "The autotime extension is already loaded. To reload it, use:\n",
            "  %reload_ext autotime\n",
            "time: 14.5 s\n"
          ],
          "name": "stdout"
        }
      ]
    },
    {
      "cell_type": "markdown",
      "metadata": {
        "id": "nR8lB67Y4NsF",
        "colab_type": "text"
      },
      "source": [
        "# Tensorflow with GPU -- For faster training"
      ]
    },
    {
      "cell_type": "markdown",
      "metadata": {
        "id": "4kJQBOgL4aVT",
        "colab_type": "text"
      },
      "source": [
        "Enabling and testing the GPU"
      ]
    },
    {
      "cell_type": "markdown",
      "metadata": {
        "id": "7WWt4C1h4d7L",
        "colab_type": "text"
      },
      "source": [
        "First, you'll need to enable GPUs for the notebook:\n",
        "\n",
        "Navigate to Edit→Notebook Settings\n",
        "select GPU from the Hardware Accelerator drop-down\n",
        "Next, we'll confirm that we can connect to the GPU with tensorflow:"
      ]
    },
    {
      "cell_type": "code",
      "metadata": {
        "id": "WqrHWhM74Q8X",
        "colab_type": "code",
        "outputId": "75e5349f-b820-4d22-c742-58e6242c941d",
        "colab": {
          "base_uri": "https://localhost:8080/",
          "height": 53
        }
      },
      "source": [
        "%tensorflow_version 2.x\n",
        "import tensorflow as tf\n",
        "device_name = tf.test.gpu_device_name()\n",
        "if device_name != '/device:GPU:0':\n",
        "  raise SystemError('GPU device not found')\n",
        "print('Found GPU at: {}'.format(device_name))"
      ],
      "execution_count": 0,
      "outputs": [
        {
          "output_type": "stream",
          "text": [
            "Found GPU at: /device:GPU:0\n",
            "time: 11.5 ms\n"
          ],
          "name": "stdout"
        }
      ]
    },
    {
      "cell_type": "markdown",
      "metadata": {
        "id": "zyI5VRJj4vX-",
        "colab_type": "text"
      },
      "source": [
        "# Global vars"
      ]
    },
    {
      "cell_type": "code",
      "metadata": {
        "id": "qWXwvsSpax-T",
        "colab_type": "code",
        "outputId": "491dcf67-2aa5-436b-b2c9-456ca5c80448",
        "colab": {
          "base_uri": "https://localhost:8080/",
          "height": 35
        }
      },
      "source": [
        "import os\n",
        "\n",
        "# project folder on rive containing dataset, trained model and other files\n",
        "DRIVE_PROJECT_BASE_DIR = \"/content/gdrive/My Drive/deep_learning/text_sentiment_analysis/\"\n",
        "\n",
        "if not os.path.exists(DRIVE_PROJECT_BASE_DIR):\n",
        "    # check on root drive -- for shared folders -- Added shortcut for shared folders\n",
        "    DRIVE_PROJECT_BASE_DIR = \"/content/gdrive/My Drive/text_sentiment_analysis/\"\n",
        "\n",
        "BASE_DATASET_DIR = os.path.join(\n",
        "    DRIVE_PROJECT_BASE_DIR , \"dataset\"\n",
        ")\n",
        "\n",
        "input_csv_path = os.path.join(\n",
        "    BASE_DATASET_DIR , \"twitter-amazon-combined-dataset.csv\"\n",
        ")"
      ],
      "execution_count": 0,
      "outputs": [
        {
          "output_type": "stream",
          "text": [
            "time: 5.58 ms\n"
          ],
          "name": "stdout"
        }
      ]
    },
    {
      "cell_type": "markdown",
      "metadata": {
        "id": "pmeqyLde51XU",
        "colab_type": "text"
      },
      "source": [
        "#  utils"
      ]
    },
    {
      "cell_type": "markdown",
      "metadata": {
        "id": "YvHXIZAD55pc",
        "colab_type": "text"
      },
      "source": [
        "## Pandas utils"
      ]
    },
    {
      "cell_type": "code",
      "metadata": {
        "id": "qB7mE6oa6DHr",
        "colab_type": "code",
        "outputId": "59b73c9b-899d-48f9-9199-02942871e828",
        "colab": {
          "base_uri": "https://localhost:8080/"
        }
      },
      "source": [
        "import pandas as pd\n",
        "import os\n",
        "import sys\n",
        "\n",
        "\n",
        "def read_file_as_df(file__path):\n",
        "    \"\"\"\n",
        "    read file data using pandas\n",
        "    \n",
        "    Arguments:\n",
        "        file__path {string} -- File with path\n",
        "    \n",
        "    Returns:\n",
        "        DataFrame -- pandas.core.frame.DataFrame\n",
        "    \"\"\"\n",
        "    # file__path -- file with path(double underscore)\n",
        "    if os.path.exists(file__path):\n",
        "        file_name, extension = os.path.splitext(\n",
        "            file__path\n",
        "        )\n",
        "        if extension in [\".xlsx\", \".xls\"]:\n",
        "            df = pd.read_excel(file__path)\n",
        "\n",
        "        elif extension in [\".csv\"]:\n",
        "            df = pd.read_csv(file__path)\n",
        "\n",
        "        else:\n",
        "            error_msg = f\"\"\"\n",
        "                Error .. Unsupported file type\n",
        "                {extension} to read_file_data()\n",
        "            \"\"\"\n",
        "            print(error_msg)\n",
        "            return False\n",
        "\n",
        "        return df\n",
        "    else:\n",
        "        error_msg = f\"\"\"\n",
        "            Error ... File not exists with\n",
        "            path {file__path}\n",
        "        \"\"\"\n",
        "        print(error_msg)\n",
        "        sys.exit(error_msg)\n",
        "\n",
        "def is_columns_exists(df, columns):\n",
        "    \"\"\"\n",
        "    check is columns exists in dataframe\n",
        "    \n",
        "    Arguments:\n",
        "        df {[type]} -- [description]\n",
        "        columns {[type]} -- [description]\n",
        "    \"\"\"\n",
        "    all_exists = True\n",
        "    for column in columns:\n",
        "        if column in df.columns:\n",
        "            pass\n",
        "        else:\n",
        "            all_exists = False\n",
        "            print(\n",
        "                f\"Column not exists in dataframe\"\n",
        "            )\n",
        "    return all_exists\n",
        "\n",
        "def keep_only_req_columns(df, columns):\n",
        "    \"\"\"\n",
        "    Keeping only the necessary/required columns\n",
        "    \n",
        "    Arguments:\n",
        "        df {[type]} -- [description]\n",
        "        columns {list} -- ['text','sentiment']\n",
        "    \n",
        "    Returns:\n",
        "        [type] -- [description]\n",
        "    \"\"\"\n",
        "    return df[columns]\n",
        "\n",
        "def filter_dataframe_rows(data_frame, row_rules):\n",
        "    \"\"\"\n",
        "    filter dataframe row data\n",
        "    data_frame (diffrent name taken for argument because it is mutable\n",
        "    changable type)\n",
        "    \n",
        "    Arguments:\n",
        "        data_frame {[type]} -- [description]\n",
        "        row_rules {[type]} -- [description]\n",
        "    \n",
        "    Returns:\n",
        "        dataFrame -- modified dataframe\n",
        "\n",
        "    input examples:\n",
        "        row_rules = [{\n",
        "            \"rule\" : 'keep_row_if_column_text_not_equal_to',\n",
        "            \"column_name\": \"text\",\n",
        "            \"text\": \"Neutral\"\n",
        "        },\n",
        "        {\n",
        "            \"rule\" : 'drop_if_column_value_null',\n",
        "            \"column_name\": \"text\",\n",
        "            \"drop\": True\n",
        "        }]\n",
        "    \"\"\"\n",
        "    for rule_item in row_rules:\n",
        "        rule = rule_item.get(\"rule\")\n",
        "        if 'keep_row_if_column_text_not_equal_to' == rule:\n",
        "            column = rule_item['column_name']\n",
        "            text = rule_item['text']\n",
        "            \n",
        "            data_frame = data_frame[\n",
        "                data_frame[column] != text\n",
        "            ]\n",
        "        \n",
        "        if 'drop_if_column_value_null' == rule:\n",
        "            column = rule_item['column_name']\n",
        "            data_frame = data_frame[\n",
        "                data_frame[column].str.strip().astype(bool)\n",
        "            ]\n",
        "            \n",
        "    return data_frame\n",
        "\n",
        "def generate_df_from_mongo_cursor(cursor, remove_id=False):\n",
        "    \"\"\"\n",
        "    [summary]\n",
        "    \n",
        "    Arguments:\n",
        "        cursor {[type]} -- Result of record fetching\n",
        "    \"\"\"\n",
        "    df = pd.DataFrame(\n",
        "        list(cursor)\n",
        "    )\n",
        "    if remove_id:\n",
        "        # delete the _id\n",
        "        del df['_id']\n",
        "    return df\n"
      ],
      "execution_count": 0,
      "outputs": [
        {
          "output_type": "stream",
          "text": [
            "time: 43.5 ms\n"
          ],
          "name": "stdout"
        }
      ]
    },
    {
      "cell_type": "markdown",
      "metadata": {
        "id": "KDhu4lg2hvvU",
        "colab_type": "text"
      },
      "source": [
        "# Load Packages"
      ]
    },
    {
      "cell_type": "code",
      "metadata": {
        "id": "mre7XMqbhxX9",
        "colab_type": "code",
        "outputId": "d0efdc16-34d0-40f1-da73-819159cf4005",
        "colab": {
          "base_uri": "https://localhost:8080/",
          "height": 35
        }
      },
      "source": [
        "import matplotlib.pyplot as plt\n",
        "from tensorflow.python.keras import models, layers, optimizers\n",
        "import tensorflow\n",
        "from tensorflow.keras.preprocessing.text import Tokenizer, text_to_word_sequence\n",
        "from tensorflow.keras.preprocessing.sequence import pad_sequences\n",
        "import bz2\n",
        "from sklearn.metrics import f1_score, roc_auc_score, accuracy_score\n",
        "import re\n",
        "import numpy as np\n",
        "%matplotlib inline\n"
      ],
      "execution_count": 0,
      "outputs": [
        {
          "output_type": "stream",
          "text": [
            "time: 5.26 ms\n"
          ],
          "name": "stdout"
        }
      ]
    },
    {
      "cell_type": "markdown",
      "metadata": {
        "id": "snZLATCWqbst",
        "colab_type": "text"
      },
      "source": [
        "# Read dataset and view its metadata"
      ]
    },
    {
      "cell_type": "markdown",
      "metadata": {
        "id": "KtOxHtc9reHT",
        "colab_type": "text"
      },
      "source": [
        "## Read dataset"
      ]
    },
    {
      "cell_type": "code",
      "metadata": {
        "id": "Qa-ZquHvrgBv",
        "colab_type": "code",
        "outputId": "5a10fcc0-0841-486e-820a-9423690d7f40",
        "colab": {
          "base_uri": "https://localhost:8080/",
          "height": 35
        }
      },
      "source": [
        "#load data as dataframe\n",
        "dataset = read_file_as_df(input_csv_path)"
      ],
      "execution_count": 0,
      "outputs": [
        {
          "output_type": "stream",
          "text": [
            "time: 2.46 s\n"
          ],
          "name": "stdout"
        }
      ]
    },
    {
      "cell_type": "markdown",
      "metadata": {
        "id": "9ArdWBXhrrxQ",
        "colab_type": "text"
      },
      "source": [
        "## View info about dataframe"
      ]
    },
    {
      "cell_type": "markdown",
      "metadata": {
        "id": "KO_nPTQh7Otg",
        "colab_type": "text"
      },
      "source": [
        "Number of rows and columns of data"
      ]
    },
    {
      "cell_type": "code",
      "metadata": {
        "id": "but5FISnr6gX",
        "colab_type": "code",
        "outputId": "7fede734-e791-4600-9287-cc82987ed848",
        "colab": {
          "base_uri": "https://localhost:8080/",
          "height": 53
        }
      },
      "source": [
        "print(f\"Dataframe shape  : { dataset.shape }\")"
      ],
      "execution_count": 0,
      "outputs": [
        {
          "output_type": "stream",
          "text": [
            "Dataframe shape  : (583094, 3)\n",
            "time: 1.69 ms\n"
          ],
          "name": "stdout"
        }
      ]
    },
    {
      "cell_type": "markdown",
      "metadata": {
        "id": "NpH1q08asw8b",
        "colab_type": "text"
      },
      "source": [
        "Columns"
      ]
    },
    {
      "cell_type": "code",
      "metadata": {
        "id": "9vWtSJqwr-Xq",
        "colab_type": "code",
        "outputId": "c3c4f102-b5cf-445a-b79c-c269ed8c1438",
        "colab": {
          "base_uri": "https://localhost:8080/",
          "height": 71
        }
      },
      "source": [
        "print(f\"Dataframe columns : \\n{dataset.columns }\")"
      ],
      "execution_count": 0,
      "outputs": [
        {
          "output_type": "stream",
          "text": [
            "Dataframe columns : \n",
            "Index(['Unnamed: 0', 'sentiment', 'text'], dtype='object')\n",
            "time: 1.32 ms\n"
          ],
          "name": "stdout"
        }
      ]
    },
    {
      "cell_type": "markdown",
      "metadata": {
        "id": "rC62DYo3s1Jy",
        "colab_type": "text"
      },
      "source": [
        "Look at first 5 rows"
      ]
    },
    {
      "cell_type": "code",
      "metadata": {
        "id": "VGDaHJeDs1u4",
        "colab_type": "code",
        "outputId": "0f402cd7-e104-4d79-bf90-0767be7ba15d",
        "colab": {
          "base_uri": "https://localhost:8080/",
          "height": 222
        }
      },
      "source": [
        "dataset.head()"
      ],
      "execution_count": 0,
      "outputs": [
        {
          "output_type": "execute_result",
          "data": {
            "text/html": [
              "<div>\n",
              "<style scoped>\n",
              "    .dataframe tbody tr th:only-of-type {\n",
              "        vertical-align: middle;\n",
              "    }\n",
              "\n",
              "    .dataframe tbody tr th {\n",
              "        vertical-align: top;\n",
              "    }\n",
              "\n",
              "    .dataframe thead th {\n",
              "        text-align: right;\n",
              "    }\n",
              "</style>\n",
              "<table border=\"1\" class=\"dataframe\">\n",
              "  <thead>\n",
              "    <tr style=\"text-align: right;\">\n",
              "      <th></th>\n",
              "      <th>Unnamed: 0</th>\n",
              "      <th>sentiment</th>\n",
              "      <th>text</th>\n",
              "    </tr>\n",
              "  </thead>\n",
              "  <tbody>\n",
              "    <tr>\n",
              "      <th>0</th>\n",
              "      <td>0</td>\n",
              "      <td>neutral</td>\n",
              "      <td>what say</td>\n",
              "    </tr>\n",
              "    <tr>\n",
              "      <th>1</th>\n",
              "      <td>1</td>\n",
              "      <td>positive</td>\n",
              "      <td>plus have add commercial eerience     tacky</td>\n",
              "    </tr>\n",
              "    <tr>\n",
              "      <th>2</th>\n",
              "      <td>2</td>\n",
              "      <td>neutral</td>\n",
              "      <td>do not today     must mean need trip</td>\n",
              "    </tr>\n",
              "    <tr>\n",
              "      <th>3</th>\n",
              "      <td>3</td>\n",
              "      <td>negative</td>\n",
              "      <td>be aggressive blast obnoxious   entertainment ...</td>\n",
              "    </tr>\n",
              "    <tr>\n",
              "      <th>4</th>\n",
              "      <td>4</td>\n",
              "      <td>negative</td>\n",
              "      <td>be big bad thing</td>\n",
              "    </tr>\n",
              "  </tbody>\n",
              "</table>\n",
              "</div>"
            ],
            "text/plain": [
              "   Unnamed: 0 sentiment                                               text\n",
              "0           0   neutral                                         what say  \n",
              "1           1  positive      plus have add commercial eerience     tacky  \n",
              "2           2   neutral             do not today     must mean need trip  \n",
              "3           3  negative  be aggressive blast obnoxious   entertainment ...\n",
              "4           4  negative                                   be big bad thing"
            ]
          },
          "metadata": {
            "tags": []
          },
          "execution_count": 18
        },
        {
          "output_type": "stream",
          "text": [
            "time: 25.8 ms\n"
          ],
          "name": "stdout"
        }
      ]
    },
    {
      "cell_type": "markdown",
      "metadata": {
        "id": "wQUIT1AEtmy7",
        "colab_type": "text"
      },
      "source": [
        "rename columns"
      ]
    },
    {
      "cell_type": "code",
      "metadata": {
        "id": "qJviTMzUtocK",
        "colab_type": "code",
        "outputId": "f4adcef0-bd47-45de-a378-172eff1f3def",
        "colab": {
          "base_uri": "https://localhost:8080/",
          "height": 35
        }
      },
      "source": [
        "# dataset = dataset.rename(columns={\"Sentiment\": \"sentiment\"})\n",
        "# dataset.head()"
      ],
      "execution_count": 0,
      "outputs": [
        {
          "output_type": "stream",
          "text": [
            "time: 609 µs\n"
          ],
          "name": "stdout"
        }
      ]
    },
    {
      "cell_type": "markdown",
      "metadata": {
        "id": "COFNTWvjuCTz",
        "colab_type": "text"
      },
      "source": [
        "Checking whether there is any null values (for text and sentiment column)"
      ]
    },
    {
      "cell_type": "code",
      "metadata": {
        "id": "rgJP5DXguEnQ",
        "colab_type": "code",
        "outputId": "658cdb80-b1f3-4324-d24d-95187c2becba",
        "colab": {
          "base_uri": "https://localhost:8080/",
          "height": 89
        }
      },
      "source": [
        "dataset.isnull().sum()"
      ],
      "execution_count": 0,
      "outputs": [
        {
          "output_type": "execute_result",
          "data": {
            "text/plain": [
              "Unnamed: 0     0\n",
              "sentiment      0\n",
              "text          22\n",
              "dtype: int64"
            ]
          },
          "metadata": {
            "tags": []
          },
          "execution_count": 20
        },
        {
          "output_type": "stream",
          "text": [
            "time: 105 ms\n"
          ],
          "name": "stdout"
        }
      ]
    },
    {
      "cell_type": "markdown",
      "metadata": {
        "id": "9b2Z0m5EwhFF",
        "colab_type": "text"
      },
      "source": [
        "drop null review rows if exists"
      ]
    },
    {
      "cell_type": "code",
      "metadata": {
        "id": "LVVzWxMNwgLM",
        "colab_type": "code",
        "outputId": "8d0bf95e-78b4-424c-92b4-36774938faac",
        "colab": {
          "base_uri": "https://localhost:8080/",
          "height": 71
        }
      },
      "source": [
        "# drop null review rows\n",
        "dataset = dataset[~dataset['text'].isnull()]\n",
        "\n",
        "# after dropping null\n",
        "dataset.isnull().sum()"
      ],
      "execution_count": 0,
      "outputs": [
        {
          "output_type": "execute_result",
          "data": {
            "text/plain": [
              "sentiment    0\n",
              "text         0\n",
              "dtype: int64"
            ]
          },
          "metadata": {
            "tags": []
          },
          "execution_count": 42
        },
        {
          "output_type": "stream",
          "text": [
            "time: 194 ms\n"
          ],
          "name": "stdout"
        }
      ]
    },
    {
      "cell_type": "markdown",
      "metadata": {
        "id": "w2Z8ZsZ8wuTv",
        "colab_type": "text"
      },
      "source": [
        "view data per class"
      ]
    },
    {
      "cell_type": "code",
      "metadata": {
        "id": "dwuHU1PFwyO1",
        "colab_type": "code",
        "outputId": "020513c6-d3ee-44e7-baba-9ab69be539b5",
        "colab": {
          "base_uri": "https://localhost:8080/",
          "height": 335
        }
      },
      "source": [
        "dataset[\"sentiment\"].value_counts().plot.bar()"
      ],
      "execution_count": 0,
      "outputs": [
        {
          "output_type": "execute_result",
          "data": {
            "text/plain": [
              "<matplotlib.axes._subplots.AxesSubplot at 0x7f31b1898ba8>"
            ]
          },
          "metadata": {
            "tags": []
          },
          "execution_count": 43
        },
        {
          "output_type": "display_data",
          "data": {
            "image/png": "[encoded data removed]",
            "text/plain": [
              "<Figure size 432x288 with 1 Axes>"
            ]
          },
          "metadata": {
            "tags": [],
            "needs_background": "light"
          }
        },
        {
          "output_type": "stream",
          "text": [
            "time: 204 ms\n"
          ],
          "name": "stdout"
        }
      ]
    },
    {
      "cell_type": "markdown",
      "metadata": {
        "id": "V-7HXIADxU2X",
        "colab_type": "text"
      },
      "source": [
        "Keep only required columns"
      ]
    },
    {
      "cell_type": "code",
      "metadata": {
        "id": "tUmO9OqgxUTh",
        "colab_type": "code",
        "outputId": "3996ad90-3201-4e05-d139-137b14ef99aa",
        "colab": {
          "base_uri": "https://localhost:8080/",
          "height": 35
        }
      },
      "source": [
        "dataset = keep_only_req_columns(dataset, [\"sentiment\", \"text\"])"
      ],
      "execution_count": 0,
      "outputs": [
        {
          "output_type": "stream",
          "text": [
            "time: 29.9 ms\n"
          ],
          "name": "stdout"
        }
      ]
    },
    {
      "cell_type": "code",
      "metadata": {
        "id": "3PHE52XOxg9X",
        "colab_type": "code",
        "outputId": "1deef9de-b982-4aef-be9a-236b3f9a4924",
        "colab": {
          "base_uri": "https://localhost:8080/",
          "height": 222
        }
      },
      "source": [
        "dataset.head()"
      ],
      "execution_count": 0,
      "outputs": [
        {
          "output_type": "execute_result",
          "data": {
            "text/html": [
              "<div>\n",
              "<style scoped>\n",
              "    .dataframe tbody tr th:only-of-type {\n",
              "        vertical-align: middle;\n",
              "    }\n",
              "\n",
              "    .dataframe tbody tr th {\n",
              "        vertical-align: top;\n",
              "    }\n",
              "\n",
              "    .dataframe thead th {\n",
              "        text-align: right;\n",
              "    }\n",
              "</style>\n",
              "<table border=\"1\" class=\"dataframe\">\n",
              "  <thead>\n",
              "    <tr style=\"text-align: right;\">\n",
              "      <th></th>\n",
              "      <th>sentiment</th>\n",
              "      <th>text</th>\n",
              "    </tr>\n",
              "  </thead>\n",
              "  <tbody>\n",
              "    <tr>\n",
              "      <th>0</th>\n",
              "      <td>neutral</td>\n",
              "      <td>what say</td>\n",
              "    </tr>\n",
              "    <tr>\n",
              "      <th>1</th>\n",
              "      <td>positive</td>\n",
              "      <td>plus have add commercial eerience     tacky</td>\n",
              "    </tr>\n",
              "    <tr>\n",
              "      <th>2</th>\n",
              "      <td>neutral</td>\n",
              "      <td>do not today     must mean need trip</td>\n",
              "    </tr>\n",
              "    <tr>\n",
              "      <th>3</th>\n",
              "      <td>negative</td>\n",
              "      <td>be aggressive blast obnoxious   entertainment ...</td>\n",
              "    </tr>\n",
              "    <tr>\n",
              "      <th>4</th>\n",
              "      <td>negative</td>\n",
              "      <td>be big bad thing</td>\n",
              "    </tr>\n",
              "  </tbody>\n",
              "</table>\n",
              "</div>"
            ],
            "text/plain": [
              "  sentiment                                               text\n",
              "0   neutral                                         what say  \n",
              "1  positive      plus have add commercial eerience     tacky  \n",
              "2   neutral             do not today     must mean need trip  \n",
              "3  negative  be aggressive blast obnoxious   entertainment ...\n",
              "4  negative                                   be big bad thing"
            ]
          },
          "metadata": {
            "tags": []
          },
          "execution_count": 45
        },
        {
          "output_type": "stream",
          "text": [
            "time: 11 ms\n"
          ],
          "name": "stdout"
        }
      ]
    },
    {
      "cell_type": "markdown",
      "metadata": {
        "id": "KrQ5V1KulP8L",
        "colab_type": "text"
      },
      "source": [
        "# Text Preprocessing\n",
        "\n",
        "The first thing I'm going to do to process the text is to lowercase everything and then remove non-word characters. I replace these with spaces since most are going to be punctuation. Then I'm going to just remove any other characters (like letters with accents). It could be better to replace some of these with regular ascii characters but I'm just going to ignore that here. It also turns out if you look at the counts of the different characters that there are very few unusual characters in this corpus."
      ]
    },
    {
      "cell_type": "markdown",
      "metadata": {
        "id": "rDMtVOhXDum6",
        "colab_type": "text"
      },
      "source": [
        "## Preprocessor\n",
        "\n",
        "Remove:\n",
        "* URLs\n",
        "* Hashtags\n",
        "* Mentions\n",
        "* Reserved words (RT, FAV)\n",
        "* Emojis\n",
        "* Smileys"
      ]
    },
    {
      "cell_type": "code",
      "metadata": {
        "id": "yamHHU9JD03R",
        "colab_type": "code",
        "outputId": "d55c416b-4f54-4f8c-ad89-e9da909412f3",
        "colab": {
          "base_uri": "https://localhost:8080/",
          "height": 53
        }
      },
      "source": [
        "!pip install tweet-preprocessor"
      ],
      "execution_count": 0,
      "outputs": [
        {
          "output_type": "stream",
          "text": [
            "Requirement already satisfied: tweet-preprocessor in /usr/local/lib/python3.6/dist-packages (0.5.0)\n",
            "time: 13.7 s\n"
          ],
          "name": "stdout"
        }
      ]
    },
    {
      "cell_type": "code",
      "metadata": {
        "id": "CXsAad4gD3e9",
        "colab_type": "code",
        "outputId": "fcdb54bf-90ec-4ca9-d704-97f371291fbd",
        "colab": {
          "base_uri": "https://localhost:8080/",
          "height": 71
        }
      },
      "source": [
        "import preprocessor as p\n",
        "print(p.clean('Preprocessor is #awesome 👍 https://github.com/s/preprocessor'))\n",
        "print(p.clean(\"@peter I really love that shirt at #Macy. http://bet.ly//WjdiW4\"))\n",
        "# p.clean(\"Have questions about asteroid 1998 OR2, comet Borisov, or comet Atlas? Want to know more about these cosmic objects zipping through our solar system? Flushed faceComet Join us in an hour at 4pm ET on @reddit to chat with NASA scientists and experts about them! https://redd.it/g9o4yp\")"
      ],
      "execution_count": 0,
      "outputs": [
        {
          "output_type": "stream",
          "text": [
            "Preprocessor is\n",
            "I really love that shirt at .\n",
            "time: 3.32 ms\n"
          ],
          "name": "stdout"
        }
      ]
    },
    {
      "cell_type": "markdown",
      "metadata": {
        "id": "bwJiAwtcD8M9",
        "colab_type": "text"
      },
      "source": [
        "## Removing stopwords\n",
        "\n",
        "Stopwords are the most common words in any natural language. For the purpose of analyzing text data and building NLP models, these stopwords might not add much value to the meaning of the document.\n",
        "\n",
        "```\n",
        "Generally, the most common words used in a text are “the”, “is”, “in”, “for”, “where”, “when”, “to”, “at” etc.\n",
        "```"
      ]
    },
    {
      "cell_type": "code",
      "metadata": {
        "id": "hOuvJFJ9EAuQ",
        "colab_type": "code",
        "outputId": "9d953c28-b9ea-4672-f6fb-a4d8f6dfb325",
        "colab": {
          "base_uri": "https://localhost:8080/",
          "height": 35
        }
      },
      "source": [
        "from gensim.parsing.preprocessing import remove_stopwords\n",
        "\n",
        "remove_stopwords(\"Better late than never, but better never late.\")"
      ],
      "execution_count": 0,
      "outputs": [
        {
          "output_type": "execute_result",
          "data": {
            "text/plain": [
              "'Better late never, better late.'"
            ]
          },
          "metadata": {
            "tags": []
          },
          "execution_count": 48
        },
        {
          "output_type": "stream",
          "text": [
            "time: 3.47 ms\n"
          ],
          "name": "stdout"
        }
      ]
    },
    {
      "cell_type": "markdown",
      "metadata": {
        "id": "61tJhY9MEGFh",
        "colab_type": "text"
      },
      "source": [
        "## Lemmatization\n",
        "\n",
        "Lemmatization, is an organized & step-by-step procedure of obtaining the root form of the word. It makes use of vocabulary (dictionary importance of words) and morphological analysis (word structure and grammar relations)."
      ]
    },
    {
      "cell_type": "code",
      "metadata": {
        "id": "pqLqzzPLEE64",
        "colab_type": "code",
        "outputId": "7cdd0b18-6960-4a00-a8f1-eec455c8279b",
        "colab": {
          "base_uri": "https://localhost:8080/",
          "height": 35
        }
      },
      "source": [
        "import spacy\n",
        "from pprint import pprint\n",
        "\n",
        "spacy_nlp = spacy.load('en', disable=['parser', 'ner'])\n",
        "\n",
        "def do_lemmatization(sentence):\n",
        "  doc = spacy_nlp(sentence)\n",
        "\n",
        "  lemmas = []\n",
        "  for token in doc:\n",
        "      if token.lemma_ != \"-PRON-\":\n",
        "        lemmas.append(token.lemma_)\n",
        "\n",
        "  return \" \".join(lemmas)"
      ],
      "execution_count": 0,
      "outputs": [
        {
          "output_type": "stream",
          "text": [
            "time: 493 ms\n"
          ],
          "name": "stdout"
        }
      ]
    },
    {
      "cell_type": "code",
      "metadata": {
        "id": "UTW7yaanEK3G",
        "colab_type": "code",
        "outputId": "bd4268b6-4996-47f5-80b0-e16885dde8ae",
        "colab": {
          "base_uri": "https://localhost:8080/",
          "height": 89
        }
      },
      "source": [
        "sentence = \"\"\"Following mice attacks, caring farmers were marching to Delhi for better living conditions. \n",
        "Delhi police on Tuesday fired water cannons and teargas shells at protesting farmers as they tried to \n",
        "break barricades with their cars, automobiles and tractors.\"\"\"\n",
        "\n",
        "print(do_lemmatization(sentence))"
      ],
      "execution_count": 0,
      "outputs": [
        {
          "output_type": "stream",
          "text": [
            "follow mice attack , care farmer be march to Delhi for well living condition . \n",
            " Delhi police on Tuesday fire water cannon and teargas shell at protest farmer as try to \n",
            " break barricade with car , automobile and tractor .\n",
            "time: 14 ms\n"
          ],
          "name": "stdout"
        }
      ]
    },
    {
      "cell_type": "markdown",
      "metadata": {
        "id": "mdiKCBauEL9E",
        "colab_type": "text"
      },
      "source": [
        "## Final Normalization"
      ]
    },
    {
      "cell_type": "code",
      "metadata": {
        "id": "as7awfrxlbWL",
        "colab_type": "code",
        "outputId": "4a1477db-e1f9-4f9f-a0fe-9f7dba1cc6d5",
        "colab": {
          "base_uri": "https://localhost:8080/",
          "height": 35
        }
      },
      "source": [
        "import re\n",
        "\n",
        "NON_ALPHANUM = re.compile(r'[\\W]')\n",
        "NON_ASCII = re.compile(r'[^a-z0-1\\s]')\n",
        "\n",
        "def normalize_text(text):\n",
        "    text = p.clean(text) # tweet preprocessor\n",
        "\n",
        "    text = re.sub('\\n{2,}', '\\n', text) # replace multiple newlines with single\n",
        "    text = text.replace(\"\\t\", \" \") # replace tab with space\n",
        "    text = re.sub(' {2,}', ' ', text) # convert multiple extra spaces to single\n",
        "\n",
        "    text = remove_stopwords(text)\n",
        "    text_lemmatization = do_lemmatization(text)\n",
        "    lower = text_lemmatization.lower()\n",
        "\n",
        "    # lower = text.lower()\n",
        "    no_punctuation = NON_ALPHANUM.sub(r' ', lower)\n",
        "    no_non_ascii = NON_ASCII.sub(r'', no_punctuation)\n",
        "    return no_non_ascii"
      ],
      "execution_count": 0,
      "outputs": [
        {
          "output_type": "stream",
          "text": [
            "time: 5.2 ms\n"
          ],
          "name": "stdout"
        }
      ]
    },
    {
      "cell_type": "code",
      "metadata": {
        "id": "-KTQHaPXEpCA",
        "colab_type": "code",
        "colab": {}
      },
      "source": [
        "dataset['text'] = dataset['text'].apply(normalize_text)"
      ],
      "execution_count": 0,
      "outputs": []
    },
    {
      "cell_type": "markdown",
      "metadata": {
        "id": "sYdhLSctBQr5",
        "colab_type": "text"
      },
      "source": [
        "## Check max legth of text"
      ]
    },
    {
      "cell_type": "code",
      "metadata": {
        "id": "JIDZgfe5AwyN",
        "colab_type": "code",
        "outputId": "a6589505-eec2-4d9d-8d4f-9b042a77684c",
        "colab": {
          "base_uri": "https://localhost:8080/",
          "height": 53
        }
      },
      "source": [
        "counts = dataset[\"text\"].value_counts()\n",
        "print(f\"Length of largest text: {max(counts)}\")"
      ],
      "execution_count": 0,
      "outputs": [
        {
          "output_type": "stream",
          "text": [
            "Length of largest text: 199\n",
            "time: 560 ms\n"
          ],
          "name": "stdout"
        }
      ]
    },
    {
      "cell_type": "markdown",
      "metadata": {
        "id": "R9eQ7xaoBngn",
        "colab_type": "text"
      },
      "source": [
        "## Truncate long texts -- otherwise later pad_sequences will consume large memory"
      ]
    },
    {
      "cell_type": "code",
      "metadata": {
        "id": "rdVFunR6B-JY",
        "colab_type": "code",
        "outputId": "11db5d0a-2c93-409a-de47-7b2e87ca42b6",
        "colab": {
          "base_uri": "https://localhost:8080/",
          "height": 35
        }
      },
      "source": [
        "# dataset['short_str'] = dataset['text'].str.slice(0,3)\n",
        "\n",
        "# keep only 300 chars in single row\n",
        "dataset['text'] = dataset['text'].str.slice(0, 300)\n"
      ],
      "execution_count": 0,
      "outputs": [
        {
          "output_type": "stream",
          "text": [
            "time: 387 ms\n"
          ],
          "name": "stdout"
        }
      ]
    },
    {
      "cell_type": "code",
      "metadata": {
        "id": "Zneh49gP9MaA",
        "colab_type": "code",
        "outputId": "01fdb38f-33ad-434b-ca6b-47a6e5196f23",
        "colab": {
          "base_uri": "https://localhost:8080/",
          "height": 35
        }
      },
      "source": [
        "# out_file = \"combined-normalized-twitter-amazon-dataset.csv\"\n",
        "# dataset.to_csv(out_file)\n",
        "# !cp \"$out_file\" \"$BASE_DATASET_DIR\""
      ],
      "execution_count": 0,
      "outputs": [
        {
          "output_type": "stream",
          "text": [
            "time: 1.05 ms\n"
          ],
          "name": "stdout"
        }
      ]
    },
    {
      "cell_type": "code",
      "metadata": {
        "id": "UDMYchU48r7h",
        "colab_type": "code",
        "outputId": "8e2a6cb5-8d37-44ec-d47d-24cf9496bf6f",
        "colab": {
          "base_uri": "https://localhost:8080/",
          "height": 53
        }
      },
      "source": [
        "counts = dataset[\"text\"].value_counts()\n",
        "print(f\"Length of largest text after truncate: {max(counts)}\")"
      ],
      "execution_count": 0,
      "outputs": [
        {
          "output_type": "stream",
          "text": [
            "Length of largest text after truncate: 199\n",
            "time: 543 ms\n"
          ],
          "name": "stdout"
        }
      ]
    },
    {
      "cell_type": "markdown",
      "metadata": {
        "id": "zNARJnzLEzbV",
        "colab_type": "text"
      },
      "source": [
        "# Extract texts and labels from dataframe"
      ]
    },
    {
      "cell_type": "code",
      "metadata": {
        "id": "oY7A5ZQSEvT6",
        "colab_type": "code",
        "outputId": "51c0d2eb-8b89-4a8e-f548-fb757810de62",
        "colab": {
          "base_uri": "https://localhost:8080/",
          "height": 35
        }
      },
      "source": [
        "texts = dataset[\"text\"].values\n",
        "labels = dataset[\"sentiment\"].values"
      ],
      "execution_count": 0,
      "outputs": [
        {
          "output_type": "stream",
          "text": [
            "time: 2.01 ms\n"
          ],
          "name": "stdout"
        }
      ]
    },
    {
      "cell_type": "markdown",
      "metadata": {
        "id": "e79MejWgSzGU",
        "colab_type": "text"
      },
      "source": [
        "# Resampling Imbalanced datasets\n",
        "\n",
        "https://www.kaggle.com/rafjaa/resampling-strategies-for-imbalanced-datasets\n",
        "\n",
        "https://medium.com/@er.archiejain/balance-the-imbalanced-datasets-smote-810c2f13ce16"
      ]
    },
    {
      "cell_type": "markdown",
      "metadata": {
        "id": "ZhK6yMFEUtS2",
        "colab_type": "text"
      },
      "source": [
        "## under sampling"
      ]
    },
    {
      "cell_type": "code",
      "metadata": {
        "id": "zPHMQwQfS162",
        "colab_type": "code",
        "outputId": "595e24c7-71c0-4e02-e6d4-5abcc5e137fc",
        "colab": {
          "base_uri": "https://localhost:8080/"
        }
      },
      "source": [
        "# from imblearn.under_sampling import RandomUnderSampler\n",
        "# import numpy as np\n",
        "\n",
        "# X = np.array(texts)\n",
        "# y = labels\n",
        "\n",
        "# # # make 2 da array first\n",
        "# X = X.reshape(-1, 1)\n",
        "\n",
        "# # random under sampling\n",
        "# rus = RandomUnderSampler()\n",
        "# X_rus, y_rus = rus.fit_sample(X, y)\n",
        "\n",
        "# # # make 1D again\n",
        "# X_rus = X_rus.flatten()\n",
        "\n",
        "# data_sampling = \"under-sampling\""
      ],
      "execution_count": 0,
      "outputs": [
        {
          "output_type": "stream",
          "text": [
            "time: 578 µs\n"
          ],
          "name": "stdout"
        }
      ]
    },
    {
      "cell_type": "code",
      "metadata": {
        "id": "vLNwk58ZTRmV",
        "colab_type": "code",
        "outputId": "3bedbb71-b5d9-4a3f-bd3b-c315961df935",
        "colab": {
          "base_uri": "https://localhost:8080/"
        }
      },
      "source": [
        "# import pandas as pd\n",
        "# import matplotlib.pyplot as plt\n",
        "\n",
        "# pd.value_counts(y_rus).plot.bar()\n",
        "\n",
        "# plt.xlabel('Class')\n",
        "# plt.ylabel('Frequency')\n",
        "# pd.value_counts(y_rus)"
      ],
      "execution_count": 0,
      "outputs": [
        {
          "output_type": "stream",
          "text": [
            "time: 694 µs\n"
          ],
          "name": "stdout"
        }
      ]
    },
    {
      "cell_type": "markdown",
      "metadata": {
        "colab_type": "text",
        "id": "_JmpfdzEVDp6"
      },
      "source": [
        "## Over sampling"
      ]
    },
    {
      "cell_type": "code",
      "metadata": {
        "colab_type": "code",
        "id": "8nXY6zkTVDp8",
        "outputId": "6f93c89e-30b3-4a43-ce3b-6e49f72df0cc",
        "colab": {
          "base_uri": "https://localhost:8080/",
          "height": 91
        }
      },
      "source": [
        "from imblearn.over_sampling import RandomOverSampler\n",
        "import numpy as np\n",
        "\n",
        "X = np.array(texts)\n",
        "y = labels\n",
        "\n",
        "# # make 2 da array first\n",
        "X = X.reshape(-1, 1)\n",
        "\n",
        "# random under sampling\n",
        "rus = RandomOverSampler()\n",
        "X_ros, y_ros = rus.fit_sample(X, y)\n",
        "\n",
        "# # make 1D again\n",
        "X_ros = X_ros.flatten()\n",
        "\n",
        "data_sampling = \"over-sampling\""
      ],
      "execution_count": 0,
      "outputs": [
        {
          "output_type": "stream",
          "text": [
            "time: 1.55 s\n"
          ],
          "name": "stdout"
        },
        {
          "output_type": "stream",
          "text": [
            "/usr/local/lib/python3.6/dist-packages/sklearn/utils/deprecation.py:87: FutureWarning: Function safe_indexing is deprecated; safe_indexing is deprecated in version 0.22 and will be removed in version 0.24.\n",
            "  warnings.warn(msg, category=FutureWarning)\n"
          ],
          "name": "stderr"
        }
      ]
    },
    {
      "cell_type": "code",
      "metadata": {
        "colab_type": "code",
        "id": "pqTkfdgsVDqD",
        "outputId": "6621a57c-00c4-419c-8ac4-5b6ca7b6df05",
        "colab": {
          "base_uri": "https://localhost:8080/",
          "height": 403
        }
      },
      "source": [
        "import pandas as pd\n",
        "import matplotlib.pyplot as plt\n",
        "\n",
        "pd.value_counts(y_ros).plot.bar()\n",
        "\n",
        "plt.xlabel('Class')\n",
        "plt.ylabel('Frequency')\n",
        "pd.value_counts(y_ros)"
      ],
      "execution_count": 0,
      "outputs": [
        {
          "output_type": "execute_result",
          "data": {
            "text/plain": [
              "positive    446138\n",
              "negative    446138\n",
              "neutral     446138\n",
              "dtype: int64"
            ]
          },
          "metadata": {
            "tags": []
          },
          "execution_count": 62
        },
        {
          "output_type": "display_data",
          "data": {
            "image/png": "[encoded data removed]",
            "text/plain": [
              "<Figure size 432x288 with 1 Axes>"
            ]
          },
          "metadata": {
            "tags": [],
            "needs_background": "light"
          }
        },
        {
          "output_type": "stream",
          "text": [
            "time: 387 ms\n"
          ],
          "name": "stdout"
        }
      ]
    },
    {
      "cell_type": "markdown",
      "metadata": {
        "id": "yau1hCczWKwh",
        "colab_type": "text"
      },
      "source": [
        "## Assign Back"
      ]
    },
    {
      "cell_type": "code",
      "metadata": {
        "id": "_ESSeVxzTabQ",
        "colab_type": "code",
        "outputId": "57ca3dcf-addb-4a85-bfc7-88cd55d57092",
        "colab": {
          "base_uri": "https://localhost:8080/",
          "height": 35
        }
      },
      "source": [
        "# # assign back\n",
        "try:\n",
        "  if data_sampling == \"under-sampling\":\n",
        "    texts = X_rus.to_numpy()\n",
        "    labels = y_rus\n",
        "  elif data_sampling == \"over-sampling\":\n",
        "    texts = X_ros.to_numpy()\n",
        "    labels = y_ros\n",
        "  else:\n",
        "    pass\n",
        "except:\n",
        "  pass"
      ],
      "execution_count": 0,
      "outputs": [
        {
          "output_type": "stream",
          "text": [
            "time: 2.98 ms\n"
          ],
          "name": "stdout"
        }
      ]
    },
    {
      "cell_type": "markdown",
      "metadata": {
        "id": "r59gLEp6F_mW",
        "colab_type": "text"
      },
      "source": [
        "# Encode labels (String to int)"
      ]
    },
    {
      "cell_type": "code",
      "metadata": {
        "id": "Z8V2cAkmGFIM",
        "colab_type": "code",
        "outputId": "86acb608-65f4-4de7-d9f5-4d7c15d78183",
        "colab": {
          "base_uri": "https://localhost:8080/",
          "height": 53
        }
      },
      "source": [
        "\n",
        "# Keras expects an integer vector from 0 to num_classes. As it's stated in the docs:\n",
        "from sklearn.preprocessing import LabelEncoder\n",
        "labelencoder = LabelEncoder()\n",
        "encoded_labels = labelencoder.fit_transform(labels)\n",
        "\n",
        "# Print shapes\n",
        "print(\"Shape of encoded_labels: {}\".format(encoded_labels.shape))\n"
      ],
      "execution_count": 0,
      "outputs": [
        {
          "output_type": "stream",
          "text": [
            "Shape of encoded_labels: (1338414,)\n",
            "time: 225 ms\n"
          ],
          "name": "stdout"
        }
      ]
    },
    {
      "cell_type": "code",
      "metadata": {
        "id": "vW0HeKJ73d_i",
        "colab_type": "code",
        "outputId": "819a94f5-16ac-4c1c-cc2d-aa4349b10ca2",
        "colab": {
          "base_uri": "https://localhost:8080/",
          "height": 53
        }
      },
      "source": [
        "classes = labelencoder.classes_\n",
        "print(f'classes: {classes}')"
      ],
      "execution_count": 0,
      "outputs": [
        {
          "output_type": "stream",
          "text": [
            "classes: ['negative' 'neutral' 'positive']\n",
            "time: 1.75 ms\n"
          ],
          "name": "stdout"
        }
      ]
    },
    {
      "cell_type": "code",
      "metadata": {
        "id": "pDCw5Z8WG3Rb",
        "colab_type": "code",
        "outputId": "e0dd1cc6-6965-4953-f52a-6a683adbd86f",
        "colab": {
          "base_uri": "https://localhost:8080/",
          "height": 53
        }
      },
      "source": [
        "num_classes = len(classes)\n",
        "print(\"Total classes: {}\".format(num_classes))"
      ],
      "execution_count": 0,
      "outputs": [
        {
          "output_type": "stream",
          "text": [
            "Total classes: 3\n",
            "time: 1.46 ms\n"
          ],
          "name": "stdout"
        }
      ]
    },
    {
      "cell_type": "markdown",
      "metadata": {
        "id": "qiLgOeYr4S_P",
        "colab_type": "text"
      },
      "source": [
        "save label encoder"
      ]
    },
    {
      "cell_type": "code",
      "metadata": {
        "id": "QtDMyHzZ4WIt",
        "colab_type": "code",
        "outputId": "45f4abc1-8e1c-4860-d4c4-c0a568dfd208",
        "colab": {
          "base_uri": "https://localhost:8080/",
          "height": 35
        }
      },
      "source": [
        "le_filename = \"label_encoder_classes.npy\"\n",
        "np.save(le_filename, labelencoder.classes_)\n",
        "\n",
        "## loading in test\n",
        "# le = LabelEncoder()\n",
        "# le.classes_ = numpy.load(le_filename)"
      ],
      "execution_count": 0,
      "outputs": [
        {
          "output_type": "stream",
          "text": [
            "time: 2.41 ms\n"
          ],
          "name": "stdout"
        }
      ]
    },
    {
      "cell_type": "markdown",
      "metadata": {
        "id": "LFoYRZWGlxvI",
        "colab_type": "text"
      },
      "source": [
        "# Train/Validation Split\n",
        "Now I'm going to set aside 20% of the training set for validation."
      ]
    },
    {
      "cell_type": "code",
      "metadata": {
        "id": "cX__S_cyl0A6",
        "colab_type": "code",
        "outputId": "d403673e-6805-4027-cfce-e82d915047c6",
        "colab": {
          "base_uri": "https://localhost:8080/",
          "height": 35
        }
      },
      "source": [
        "from sklearn.model_selection import train_test_split\n",
        "\n",
        "train_texts, val_texts, train_labels, val_labels = train_test_split(\n",
        "    texts, encoded_labels, random_state=57692, test_size=0.2\n",
        ")"
      ],
      "execution_count": 0,
      "outputs": [
        {
          "output_type": "stream",
          "text": [
            "time: 527 ms\n"
          ],
          "name": "stdout"
        }
      ]
    },
    {
      "cell_type": "code",
      "metadata": {
        "id": "bIJMD-Bcl4aW",
        "colab_type": "code",
        "outputId": "29326cbe-df06-418b-8c26-31d5b1eb9847",
        "colab": {
          "base_uri": "https://localhost:8080/",
          "height": 107
        }
      },
      "source": [
        "print(\"Shape of train_labels: {}\".format(train_labels.shape))\n",
        "print(\"length of train_texts: {}\".format(len(train_texts)))\n",
        "\n",
        "print(\"Shape of val_labels: {}\".format(val_labels.shape))\n",
        "print(\"length of val_texts: {}\".format(len(val_texts)))"
      ],
      "execution_count": 0,
      "outputs": [
        {
          "output_type": "stream",
          "text": [
            "Shape of train_labels: (1070731,)\n",
            "length of train_texts: 1070731\n",
            "Shape of val_labels: (267683,)\n",
            "length of val_texts: 267683\n",
            "time: 3.36 ms\n"
          ],
          "name": "stdout"
        }
      ]
    },
    {
      "cell_type": "markdown",
      "metadata": {
        "id": "bJC2adXRm9RM",
        "colab_type": "text"
      },
      "source": [
        "viewing top 5 labels and first training text."
      ]
    },
    {
      "cell_type": "code",
      "metadata": {
        "id": "HYLzjM6Ll6Zb",
        "colab_type": "code",
        "outputId": "44ba7256-85d5-4036-b584-5538000fa0e6",
        "colab": {
          "base_uri": "https://localhost:8080/",
          "height": 91
        }
      },
      "source": [
        "print(train_labels[:5])\n",
        "print(train_texts[:1])"
      ],
      "execution_count": 0,
      "outputs": [
        {
          "output_type": "stream",
          "text": [
            "[1 0 2 0 1]\n",
            "['do not huge problem dry scalp   hair dry think try out   do not   work fine normal cleaning   thick   dry   frizzy hair   do not great improvement use regular hair care product   aussie     be not fond scent either   be not strong bearable  ']\n",
            "time: 2.78 ms\n"
          ],
          "name": "stdout"
        }
      ]
    },
    {
      "cell_type": "markdown",
      "metadata": {
        "id": "QsGfPooUmnYU",
        "colab_type": "text"
      },
      "source": [
        "# Tokenization\n",
        "\n",
        "Now I will just run a Tokenizer using the top 12000 words as features."
      ]
    },
    {
      "cell_type": "code",
      "metadata": {
        "id": "7ee1ST07mly7",
        "colab_type": "code",
        "outputId": "5cc1f3d3-95e9-467f-95b2-c6de49a854a2",
        "colab": {
          "base_uri": "https://localhost:8080/",
          "height": 91
        }
      },
      "source": [
        "MAX_FEATURES = 12000\n",
        "tokenizer = Tokenizer(num_words=MAX_FEATURES)\n",
        "tokenizer.fit_on_texts(train_texts)\n",
        "tokenizer.fit_on_texts(val_texts)\n",
        "\n",
        "train_texts = tokenizer.texts_to_sequences(train_texts)\n",
        "val_texts = tokenizer.texts_to_sequences(val_texts)\n",
        "\n",
        "print(f\"train_texts sample: {train_texts[0]} \\n\")"
      ],
      "execution_count": 0,
      "outputs": [
        {
          "output_type": "stream",
          "text": [
            "train_texts sample: [9, 2, 451, 119, 98, 1264, 389, 98, 23, 14, 184, 9, 2, 75, 194, 560, 2772, 843, 98, 6624, 389, 9, 2, 18, 1918, 32, 130, 389, 319, 10, 4146, 3, 2, 1680, 904, 426, 3, 2, 80, 4349] \n",
            "\n",
            "time: 1min 21s\n"
          ],
          "name": "stdout"
        }
      ]
    },
    {
      "cell_type": "markdown",
      "metadata": {
        "id": "2Tp5yLKhnQfq",
        "colab_type": "text"
      },
      "source": [
        "# Padding Sequences\n",
        "In order to use batches effectively, I'm going to need to take my sequences and turn them into sequences of the same length. I'm just going to make everything here the length of the longest sentence in the training set. I'm not dealing with this here, but it may be advantageous to have variable lengths so that each batch contains sentences of similar lengths. This might help mitigate issues that arise from having too many padded elements in a sequence.\n"
      ]
    },
    {
      "cell_type": "code",
      "metadata": {
        "id": "UUcUFp70niAh",
        "colab_type": "code",
        "outputId": "939f8656-3148-46bd-ffad-eb59e599fabc",
        "colab": {
          "base_uri": "https://localhost:8080/",
          "height": 143
        }
      },
      "source": [
        "MAX_LENGTH = max(len(train_ex) for train_ex in train_texts)\n",
        "print(f\"MAX_LENGTH: {MAX_LENGTH}\")\n",
        "\n",
        "train_texts = pad_sequences(train_texts, maxlen=MAX_LENGTH)\n",
        "val_texts = pad_sequences(val_texts, maxlen=MAX_LENGTH)\n",
        "\n",
        "print(f\"train_texts sample: {train_texts[0]}\")"
      ],
      "execution_count": 0,
      "outputs": [
        {
          "output_type": "stream",
          "text": [
            "MAX_LENGTH: 67\n",
            "train_texts sample: [   0    0    0    0    0    0    0    0    0    0    0    0    0    0\n",
            "    0    0    0    0    0    0    0    0    0    0    0    0    0    9\n",
            "    2  451  119   98 1264  389   98   23   14  184    9    2   75  194\n",
            "  560 2772  843   98 6624  389    9    2   18 1918   32  130  389  319\n",
            "   10 4146    3    2 1680  904  426    3    2   80 4349]\n",
            "time: 8.59 s\n"
          ],
          "name": "stdout"
        }
      ]
    },
    {
      "cell_type": "code",
      "metadata": {
        "id": "-HdaQrFA7Mpi",
        "colab_type": "code",
        "outputId": "4bcc95f6-0f9b-4336-e2ca-177a78c9a8b9",
        "colab": {
          "base_uri": "https://localhost:8080/",
          "height": 89
        }
      },
      "source": [
        "import sys\n",
        "\n",
        "print(sys.getsizeof(train_texts))\n",
        "print(train_texts.shape)\n",
        "print(train_texts.dtype)"
      ],
      "execution_count": 0,
      "outputs": [
        {
          "output_type": "stream",
          "text": [
            "286956020\n",
            "(1070731, 67)\n",
            "int32\n",
            "time: 2.86 ms\n"
          ],
          "name": "stdout"
        }
      ]
    },
    {
      "cell_type": "markdown",
      "metadata": {
        "id": "AhQqTEvroLWw",
        "colab_type": "text"
      },
      "source": [
        "# Save Tokenizer"
      ]
    },
    {
      "cell_type": "code",
      "metadata": {
        "id": "skERo2ePoNsj",
        "colab_type": "code",
        "outputId": "65931326-b006-4bc0-9b90-636caece9917",
        "colab": {
          "base_uri": "https://localhost:8080/",
          "height": 35
        }
      },
      "source": [
        "import pickle\n",
        "\n",
        "file_tokenizer = \"tokenizer_info.pickle\"\n",
        "\n",
        "# saving\n",
        "tokenizer_info = {\n",
        "    \"tokenizer\"   : tokenizer,\n",
        "    \"MAX_LENGTH\"  : MAX_LENGTH,\n",
        "    \"MAX_FEATURES\": MAX_FEATURES,\n",
        "}\n",
        "with open(file_tokenizer, 'wb') as handle:\n",
        "    pickle.dump(tokenizer_info, handle, protocol=pickle.HIGHEST_PROTOCOL)"
      ],
      "execution_count": 0,
      "outputs": [
        {
          "output_type": "stream",
          "text": [
            "time: 83.6 ms\n"
          ],
          "name": "stdout"
        }
      ]
    },
    {
      "cell_type": "code",
      "metadata": {
        "id": "B0xgVpwLveIM",
        "colab_type": "code",
        "outputId": "63c8342a-790a-4ebf-8c36-5412ed271a40",
        "colab": {
          "base_uri": "https://localhost:8080/",
          "height": 35
        }
      },
      "source": [
        "# copy to drive\n",
        "!cp \"$file_tokenizer\" \"$BASE_DATASET_DIR\""
      ],
      "execution_count": 0,
      "outputs": [
        {
          "output_type": "stream",
          "text": [
            "time: 3.3 s\n"
          ],
          "name": "stdout"
        }
      ]
    },
    {
      "cell_type": "code",
      "metadata": {
        "id": "Vn9HpP_VnrQX",
        "colab_type": "code",
        "outputId": "db7b5d0c-d7bb-4274-fbf8-4420df652101",
        "colab": {
          "base_uri": "https://localhost:8080/",
          "height": 71
        }
      },
      "source": [
        "# make some space\n",
        "del tokenizer\n",
        "\n",
        "import gc\n",
        "\n",
        "print(f\"total objects in memory --{gc.get_count()}\")\n",
        "\n",
        "# collecting memory\n",
        "gc.collect()\n",
        "print(f\"After garbage collecor- objects in memory --{gc.get_count()}\")"
      ],
      "execution_count": 0,
      "outputs": [
        {
          "output_type": "stream",
          "text": [
            "total objects in memory --(270, 4, 13)\n",
            "After garbage collecor- objects in memory --(25, 0, 0)\n",
            "time: 180 ms\n"
          ],
          "name": "stdout"
        }
      ]
    },
    {
      "cell_type": "markdown",
      "metadata": {
        "id": "C1p1VQOOpb8c",
        "colab_type": "text"
      },
      "source": [
        "# convert to categorical data"
      ]
    },
    {
      "cell_type": "code",
      "metadata": {
        "id": "cS9lj8m0peg9",
        "colab_type": "code",
        "outputId": "1e519e13-8a5b-4863-9c6f-e922cebb3443",
        "colab": {
          "base_uri": "https://localhost:8080/",
          "height": 89
        }
      },
      "source": [
        "from keras.utils import to_categorical\n",
        "\n",
        "train_y = to_categorical(train_labels, num_classes=num_classes, dtype='float32')\n",
        "val_y = to_categorical(val_labels, num_classes=num_classes, dtype='float32')\n",
        "\n",
        "# Print shapes\n",
        "print(\"Shape of train_y: {}\".format(train_y.shape))\n",
        "print(\"Shape of val_y: {}\".format(val_y.shape))"
      ],
      "execution_count": 0,
      "outputs": [
        {
          "output_type": "stream",
          "text": [
            "Shape of train_y: (1070731, 3)\n",
            "Shape of val_y: (267683, 3)\n",
            "time: 148 ms\n"
          ],
          "name": "stdout"
        },
        {
          "output_type": "stream",
          "text": [
            "Using TensorFlow backend.\n"
          ],
          "name": "stderr"
        }
      ]
    },
    {
      "cell_type": "markdown",
      "metadata": {
        "id": "kXDLRs_kv0rr",
        "colab_type": "text"
      },
      "source": [
        "view single record"
      ]
    },
    {
      "cell_type": "code",
      "metadata": {
        "id": "z_i1e2Nlv25Y",
        "colab_type": "code",
        "outputId": "68d71141-abb5-4fa1-f494-ce98db230d55",
        "colab": {
          "base_uri": "https://localhost:8080/",
          "height": 53
        }
      },
      "source": [
        "print(train_y[0:3])"
      ],
      "execution_count": 0,
      "outputs": [
        {
          "output_type": "stream",
          "text": [
            "[0. 1. 0.]\n",
            "time: 1.81 ms\n"
          ],
          "name": "stdout"
        }
      ]
    },
    {
      "cell_type": "markdown",
      "metadata": {
        "id": "Y8_XLgBupHt7",
        "colab_type": "text"
      },
      "source": [
        "# Deep learning Models"
      ]
    },
    {
      "cell_type": "code",
      "metadata": {
        "id": "8QEP_V79rKi7",
        "colab_type": "code",
        "outputId": "4807813b-390c-4c90-97ee-a3e35dfa7555",
        "colab": {
          "base_uri": "https://localhost:8080/",
          "height": 35
        }
      },
      "source": [
        "from keras.preprocessing.sequence import pad_sequences\n",
        "from keras.models import Sequential\n",
        "from keras.layers import Dense,GRU,LSTM,Embedding, CuDNNLSTM, CuDNNGRU\n",
        "from keras.optimizers import Adam\n",
        "from keras.layers import SpatialDropout1D,Dropout,Bidirectional,Conv1D,GlobalMaxPooling1D,MaxPooling1D,Flatten\n",
        "from keras.callbacks import ModelCheckpoint, TensorBoard, Callback, EarlyStopping\n",
        "\n",
        "from keras.preprocessing import sequence\n",
        "from keras.models import Sequential\n",
        "from keras.layers import Dense, Dropout, Activation\n",
        "from keras.layers import Embedding\n",
        "from keras.layers import Conv1D, GlobalMaxPooling1D"
      ],
      "execution_count": 0,
      "outputs": [
        {
          "output_type": "stream",
          "text": [
            "time: 5.85 ms\n"
          ],
          "name": "stdout"
        }
      ]
    },
    {
      "cell_type": "markdown",
      "metadata": {
        "id": "jyCG3Jo70KhX",
        "colab_type": "text"
      },
      "source": [
        "## Utilities"
      ]
    },
    {
      "cell_type": "markdown",
      "metadata": {
        "id": "cSFoQqC40WLp",
        "colab_type": "text"
      },
      "source": [
        "### Plotting accuracy and loss graph"
      ]
    },
    {
      "cell_type": "code",
      "metadata": {
        "id": "TzZsvtTN0NQD",
        "colab_type": "code",
        "outputId": "bddd3008-4539-41d3-ef60-f1000c50ac78",
        "colab": {
          "base_uri": "https://localhost:8080/",
          "height": 35
        }
      },
      "source": [
        "import matplotlib.pyplot as plt\n",
        "\n",
        "def plot_accuracy_loss(history):\n",
        "  axes = plt.axes()\n",
        "  axes.set_ylim([0, 1])\n",
        "\n",
        "  # Plot training & validation accuracy values\n",
        "  plt.plot(history.history['acc'])\n",
        "  plt.plot(history.history['val_acc'])\n",
        "  plt.title('Model accuracy')\n",
        "  plt.ylabel('Accuracy')\n",
        "  plt.xlabel('Epoch')\n",
        "  plt.legend(['Train', 'Test'], loc='upper left')\n",
        "  plt.show()\n",
        "\n",
        "  # Plot training & validation loss values\n",
        "  axes = plt.axes()\n",
        "  # axes.set_ylim([0, 1])\n",
        "  plt.plot(history.history['loss'])\n",
        "  plt.plot(history.history['val_loss'])\n",
        "  plt.title('Model loss')\n",
        "  plt.ylabel('Loss')\n",
        "  plt.xlabel('Epoch')\n",
        "  plt.legend(['Train', 'Test'], loc='upper left')\n",
        "  plt.show()"
      ],
      "execution_count": 0,
      "outputs": [
        {
          "output_type": "stream",
          "text": [
            "time: 14.1 ms\n"
          ],
          "name": "stdout"
        }
      ]
    },
    {
      "cell_type": "markdown",
      "metadata": {
        "id": "OeBC0OdDibzm",
        "colab_type": "text"
      },
      "source": [
        "## confusion matrix"
      ]
    },
    {
      "cell_type": "code",
      "metadata": {
        "id": "n-ztrGBWaCU-",
        "colab_type": "code",
        "outputId": "e40c7279-442e-447d-ecc3-6ceca2d0db44",
        "colab": {
          "base_uri": "https://localhost:8080/",
          "height": 34
        }
      },
      "source": [
        "from sklearn.metrics import confusion_matrix\n",
        "import seaborn as sns\n",
        "\n",
        "def plot_confusion_matrix(y_true, yhat_classes, classes, figsize=(8,6), cmap=\"Blues\"):\n",
        "  conf_mat = confusion_matrix(y_true, y_pred)\n",
        "  fig, ax = plt.subplots(figsize=figsize)\n",
        "  sns.heatmap(conf_mat, annot=True, fmt='3.0f', cmap=cmap, xticklabels=classes, yticklabels=classes)\n",
        "  plt.title('Confusion_matrix', y=1.05, size=15)\n",
        "  plt.ylabel('Actual')\n",
        "  plt.xlabel('Predicted')\n",
        "  plt.show()"
      ],
      "execution_count": 0,
      "outputs": [
        {
          "output_type": "stream",
          "text": [
            "time: 4.88 ms\n"
          ],
          "name": "stdout"
        }
      ]
    },
    {
      "cell_type": "markdown",
      "metadata": {
        "id": "ba6Qj6VAiezi",
        "colab_type": "text"
      },
      "source": [
        "## Accuracy, Precision score, Recall, F1-socre"
      ]
    },
    {
      "cell_type": "code",
      "metadata": {
        "id": "eBkAiTEzikTv",
        "colab_type": "code",
        "outputId": "0ae34203-b7c5-421d-c613-319af5442045",
        "colab": {
          "base_uri": "https://localhost:8080/",
          "height": 34
        }
      },
      "source": [
        "# calculating metrics for a neural network model using sklearn\n",
        "from sklearn.metrics import accuracy_score\n",
        "from sklearn.metrics import precision_score\n",
        "from sklearn.metrics import recall_score\n",
        "from sklearn.metrics import f1_score\n",
        "from sklearn.metrics import cohen_kappa_score\n",
        "from sklearn.metrics import roc_auc_score\n",
        "\n",
        "def calculate_extra_metrices(y_true, yhat_classes):\n",
        "  # accuracy: (tp + tn) / (p + n)\n",
        "  accuracy = accuracy_score(y_true, yhat_classes)\n",
        "  print('Accuracy: %f' % accuracy)\n",
        "  # precision tp / (tp + fp)\n",
        "  precision = precision_score(y_true, yhat_classes, average=\"weighted\")\n",
        "  print('Precision: %f' % precision)\n",
        "  # recall: tp / (tp + fn)\n",
        "  recall = recall_score(y_true, yhat_classes, average=\"weighted\")\n",
        "  print('Recall: %f' % recall)\n",
        "  # f1: 2 tp / (2 tp + fp + fn)\n",
        "  f1 = f1_score(y_true, yhat_classes, average=\"micro\")\n",
        "  print('F1 score: %f' % f1)"
      ],
      "execution_count": 0,
      "outputs": [
        {
          "output_type": "stream",
          "text": [
            "time: 11 ms\n"
          ],
          "name": "stdout"
        }
      ]
    },
    {
      "cell_type": "markdown",
      "metadata": {
        "id": "8UIVIQlNqfFk",
        "colab_type": "text"
      },
      "source": [
        "## LSTM"
      ]
    },
    {
      "cell_type": "code",
      "metadata": {
        "id": "ai8Atg1JpHFZ",
        "colab_type": "code",
        "outputId": "046d172c-f9f8-454f-fe62-51b1a50fe43f",
        "colab": {
          "base_uri": "https://localhost:8080/",
          "height": 323
        }
      },
      "source": [
        "embed_dim = 256 # 64\n",
        "\n",
        "model_LSTM = Sequential()\n",
        "model_LSTM.add(Embedding(MAX_FEATURES, embed_dim, input_length=MAX_LENGTH,))\n",
        "model_LSTM.add(LSTM(embed_dim)) # or LSTM(100)\n",
        "model_LSTM.add(Dropout(0.2))\n",
        "model_LSTM.add(Dense(num_classes, activation='softmax'))\n",
        "model_LSTM.compile(loss = 'categorical_crossentropy', optimizer=Adam(lr = 0.001), metrics = ['acc'])\n",
        "model_LSTM.summary()"
      ],
      "execution_count": 0,
      "outputs": [
        {
          "output_type": "stream",
          "text": [
            "Model: \"sequential_1\"\n",
            "_________________________________________________________________\n",
            "Layer (type)                 Output Shape              Param #   \n",
            "=================================================================\n",
            "embedding_1 (Embedding)      (None, 67, 256)           3072000   \n",
            "_________________________________________________________________\n",
            "lstm_1 (LSTM)                (None, 256)               525312    \n",
            "_________________________________________________________________\n",
            "dropout_1 (Dropout)          (None, 256)               0         \n",
            "_________________________________________________________________\n",
            "dense_1 (Dense)              (None, 3)                 771       \n",
            "=================================================================\n",
            "Total params: 3,598,083\n",
            "Trainable params: 3,598,083\n",
            "Non-trainable params: 0\n",
            "_________________________________________________________________\n",
            "time: 9.19 s\n"
          ],
          "name": "stdout"
        }
      ]
    },
    {
      "cell_type": "markdown",
      "metadata": {
        "id": "eZDrXq41nOiL",
        "colab_type": "text"
      },
      "source": [
        "### Callbacks"
      ]
    },
    {
      "cell_type": "code",
      "metadata": {
        "id": "JJSp5-l4nQCX",
        "colab_type": "code",
        "outputId": "bdd189e2-5b56-4669-9251-9fd94954e31a",
        "colab": {
          "base_uri": "https://localhost:8080/",
          "height": 35
        }
      },
      "source": [
        "# Adding the callbacks\n",
        "from tensorflow.keras.callbacks import EarlyStopping, ModelCheckpoint\n",
        "\n",
        "checkpoint_path = \"lstm_model.best.hdf5\"\n",
        "\n",
        "# use early stopping to optimally terminate training through callbacks\n",
        "es = EarlyStopping(monitor='val_loss', mode='min', verbose=1, patience=2) # patience=3)\n",
        "\n",
        "# save best model automatically\n",
        "mc = ModelCheckpoint(\n",
        "    checkpoint_path, monitor='val_loss', \n",
        "    mode='min', verbose=1, save_best_only=True\n",
        ")\n",
        "cb_list = [es,mc]"
      ],
      "execution_count": 0,
      "outputs": [
        {
          "output_type": "stream",
          "text": [
            "time: 3.81 ms\n"
          ],
          "name": "stdout"
        }
      ]
    },
    {
      "cell_type": "markdown",
      "metadata": {
        "id": "2tzOuqNKnjEa",
        "colab_type": "text"
      },
      "source": [
        "### Train"
      ]
    },
    {
      "cell_type": "code",
      "metadata": {
        "id": "4nJJnP2MIr-E",
        "colab_type": "code",
        "outputId": "a6e44429-f515-428a-ede7-806b5176c1fc",
        "colab": {
          "base_uri": "https://localhost:8080/",
          "height": 1000
        }
      },
      "source": [
        "# Train model\n",
        "epochs = 25\n",
        "batch_size = 4096 # 64 # use more if gpu available - for faster processing \n",
        "history = model_LSTM.fit(\n",
        "    train_texts, train_y, \n",
        "    validation_data=(val_texts, val_y), \n",
        "    epochs=epochs, \n",
        "    batch_size=batch_size, \n",
        "    verbose=1, shuffle=True,\n",
        "    callbacks=cb_list,\n",
        ")"
      ],
      "execution_count": 0,
      "outputs": [
        {
          "output_type": "stream",
          "text": [
            "/usr/local/lib/python3.6/dist-packages/tensorflow/python/framework/indexed_slices.py:434: UserWarning: Converting sparse IndexedSlices to a dense Tensor of unknown shape. This may consume a large amount of memory.\n",
            "  \"Converting sparse IndexedSlices to a dense Tensor of unknown shape. \"\n"
          ],
          "name": "stderr"
        },
        {
          "output_type": "stream",
          "text": [
            "Train on 1070731 samples, validate on 267683 samples\n",
            "Epoch 1/25\n",
            "1070731/1070731 [==============================] - 245s 229us/step - loss: 0.6788 - acc: 0.7073 - val_loss: 0.5639 - val_acc: 0.7723\n",
            "\n",
            "Epoch 00001: val_loss improved from inf to 0.56393, saving model to lstm_model.best.hdf5\n",
            "Epoch 2/25\n",
            "1070731/1070731 [==============================] - 244s 228us/step - loss: 0.4984 - acc: 0.8034 - val_loss: 0.4551 - val_acc: 0.8239\n",
            "\n",
            "Epoch 00002: val_loss improved from 0.56393 to 0.45507, saving model to lstm_model.best.hdf5\n",
            "Epoch 3/25\n",
            "1070731/1070731 [==============================] - 243s 227us/step - loss: 0.3878 - acc: 0.8540 - val_loss: 0.3614 - val_acc: 0.8652\n",
            "\n",
            "Epoch 00003: val_loss improved from 0.45507 to 0.36139, saving model to lstm_model.best.hdf5\n",
            "Epoch 4/25\n",
            "1070731/1070731 [==============================] - 244s 228us/step - loss: 0.2971 - acc: 0.8926 - val_loss: 0.3190 - val_acc: 0.8862\n",
            "\n",
            "Epoch 00004: val_loss improved from 0.36139 to 0.31903, saving model to lstm_model.best.hdf5\n",
            "Epoch 5/25\n",
            "1070731/1070731 [==============================] - 243s 227us/step - loss: 0.2291 - acc: 0.9201 - val_loss: 0.2373 - val_acc: 0.9213\n",
            "\n",
            "Epoch 00005: val_loss improved from 0.31903 to 0.23732, saving model to lstm_model.best.hdf5\n",
            "Epoch 6/25\n",
            "1070731/1070731 [==============================] - 244s 228us/step - loss: 0.1768 - acc: 0.9403 - val_loss: 0.2120 - val_acc: 0.9308\n",
            "\n",
            "Epoch 00006: val_loss improved from 0.23732 to 0.21195, saving model to lstm_model.best.hdf5\n",
            "Epoch 7/25\n",
            "1070731/1070731 [==============================] - 243s 227us/step - loss: 0.1407 - acc: 0.9535 - val_loss: 0.1893 - val_acc: 0.9435\n",
            "\n",
            "Epoch 00007: val_loss improved from 0.21195 to 0.18933, saving model to lstm_model.best.hdf5\n",
            "Epoch 8/25\n",
            "1070731/1070731 [==============================] - 244s 228us/step - loss: 0.1142 - acc: 0.9631 - val_loss: 0.1674 - val_acc: 0.9519\n",
            "\n",
            "Epoch 00008: val_loss improved from 0.18933 to 0.16736, saving model to lstm_model.best.hdf5\n",
            "Epoch 9/25\n",
            "1070731/1070731 [==============================] - 243s 227us/step - loss: 0.0955 - acc: 0.9695 - val_loss: 0.1668 - val_acc: 0.9545\n",
            "\n",
            "Epoch 00009: val_loss improved from 0.16736 to 0.16682, saving model to lstm_model.best.hdf5\n",
            "Epoch 10/25\n",
            "1070731/1070731 [==============================] - 244s 228us/step - loss: 0.0798 - acc: 0.9749 - val_loss: 0.1631 - val_acc: 0.9585\n",
            "\n",
            "Epoch 00010: val_loss improved from 0.16682 to 0.16311, saving model to lstm_model.best.hdf5\n",
            "Epoch 11/25\n",
            "1070731/1070731 [==============================] - 243s 227us/step - loss: 0.0662 - acc: 0.9794 - val_loss: 0.1562 - val_acc: 0.9626\n",
            "\n",
            "Epoch 00011: val_loss improved from 0.16311 to 0.15618, saving model to lstm_model.best.hdf5\n",
            "Epoch 12/25\n",
            "1070731/1070731 [==============================] - 244s 228us/step - loss: 0.0579 - acc: 0.9822 - val_loss: 0.1660 - val_acc: 0.9624\n",
            "\n",
            "Epoch 00012: val_loss did not improve from 0.15618\n",
            "Epoch 13/25\n",
            "1070731/1070731 [==============================] - 244s 228us/step - loss: 0.0509 - acc: 0.9844 - val_loss: 0.1441 - val_acc: 0.9677\n",
            "\n",
            "Epoch 00013: val_loss improved from 0.15618 to 0.14413, saving model to lstm_model.best.hdf5\n",
            "Epoch 14/25\n",
            "1070731/1070731 [==============================] - 243s 227us/step - loss: 0.0417 - acc: 0.9875 - val_loss: 0.1639 - val_acc: 0.9679\n",
            "\n",
            "Epoch 00014: val_loss did not improve from 0.14413\n",
            "Epoch 15/25\n",
            "1070731/1070731 [==============================] - 243s 227us/step - loss: 0.0380 - acc: 0.9886 - val_loss: 0.1440 - val_acc: 0.9703\n",
            "\n",
            "Epoch 00015: val_loss improved from 0.14413 to 0.14401, saving model to lstm_model.best.hdf5\n",
            "Epoch 16/25\n",
            "1070731/1070731 [==============================] - 244s 228us/step - loss: 0.0342 - acc: 0.9898 - val_loss: 0.1595 - val_acc: 0.9700\n",
            "\n",
            "Epoch 00016: val_loss did not improve from 0.14401\n",
            "Epoch 17/25\n",
            "1070731/1070731 [==============================] - 244s 228us/step - loss: 0.0285 - acc: 0.9916 - val_loss: 0.1525 - val_acc: 0.9714\n",
            "\n",
            "Epoch 00017: val_loss did not improve from 0.14401\n",
            "Epoch 00017: early stopping\n",
            "time: 1h 9min 6s\n"
          ],
          "name": "stdout"
        }
      ]
    },
    {
      "cell_type": "code",
      "metadata": {
        "id": "n2SXKvR-0pn7",
        "colab_type": "code",
        "outputId": "67ffd225-9bb4-4539-c277-1926082aaed0",
        "colab": {
          "base_uri": "https://localhost:8080/",
          "height": 591
        }
      },
      "source": [
        "plot_accuracy_loss(history)"
      ],
      "execution_count": 0,
      "outputs": [
        {
          "output_type": "display_data",
          "data": {
            "image/png": "[encoded data removed]",
            "text/plain": [
              "<Figure size 432x288 with 1 Axes>"
            ]
          },
          "metadata": {
            "tags": [],
            "needs_background": "light"
          }
        },
        {
          "output_type": "display_data",
          "data": {
            "image/png": "[encoded data removed]",
            "text/plain": [
              "<Figure size 432x288 with 1 Axes>"
            ]
          },
          "metadata": {
            "tags": [],
            "needs_background": "light"
          }
        },
        {
          "output_type": "stream",
          "text": [
            "time: 378 ms\n"
          ],
          "name": "stdout"
        }
      ]
    },
    {
      "cell_type": "markdown",
      "metadata": {
        "id": "Ly3lsyfoxplY",
        "colab_type": "text"
      },
      "source": [
        "model metrices"
      ]
    },
    {
      "cell_type": "code",
      "metadata": {
        "id": "Y9ZACLjcw61D",
        "colab_type": "code",
        "outputId": "7fb5d818-1f7e-40e2-9ef7-6476544a2afb",
        "colab": {
          "base_uri": "https://localhost:8080/",
          "height": 550
        }
      },
      "source": [
        "y_pred = model_LSTM.predict_classes(val_texts)\n",
        "y_true = val_labels\n",
        "plot_confusion_matrix(y_true=y_true, yhat_classes=yhat_classes, classes=classes)\n",
        "print(\"\\n\\n\")\n",
        "calculate_extra_metrices(y_true=val_labels, yhat_classes=y_pred)"
      ],
      "execution_count": 0,
      "outputs": [
        {
          "output_type": "display_data",
          "data": {
            "image/png": "[encoded data removed]",
            "text/plain": [
              "<Figure size 576x432 with 2 Axes>"
            ]
          },
          "metadata": {
            "tags": [],
            "needs_background": "light"
          }
        },
        {
          "output_type": "stream",
          "text": [
            "\n",
            "\n",
            "\n",
            "Accuracy: 0.971418\n",
            "Precision: 0.971964\n",
            "Recall: 0.971418\n",
            "F1 score: 0.971418\n",
            "time: 2min 5s\n"
          ],
          "name": "stdout"
        }
      ]
    },
    {
      "cell_type": "markdown",
      "metadata": {
        "id": "yrtftuHM2xo2",
        "colab_type": "text"
      },
      "source": [
        "## Convolutional Neural Net Model"
      ]
    },
    {
      "cell_type": "code",
      "metadata": {
        "id": "60Lllyzk2zGv",
        "colab_type": "code",
        "outputId": "2a383213-7964-4413-da30-9d899460dcd8",
        "colab": {
          "base_uri": "https://localhost:8080/",
          "height": 521
        }
      },
      "source": [
        "# set parameters:\n",
        "filters = 250\n",
        "kernel_size = 3\n",
        "hidden_dims = 250\n",
        "\n",
        "model_cnn = Sequential()\n",
        "\n",
        "model_cnn.add(Embedding(MAX_FEATURES, embed_dim, input_length=MAX_LENGTH))\n",
        "model_cnn.add(Dropout(0.2))\n",
        "\n",
        "model_cnn.add(Conv1D(filters,\n",
        "                 kernel_size,\n",
        "                 padding='valid',\n",
        "                 activation='relu',\n",
        "                 strides=1))\n",
        "model_cnn.add(GlobalMaxPooling1D())\n",
        "\n",
        "model_cnn.add(Dense(hidden_dims))\n",
        "model_cnn.add(Dropout(0.2))\n",
        "model_cnn.add(Activation('relu'))\n",
        "\n",
        "model_cnn.add(Dense(num_classes))\n",
        "model_cnn.add(Activation('softmax'))\n",
        "\n",
        "model_cnn.compile(loss = 'categorical_crossentropy', optimizer=Adam(lr = 0.001), metrics = ['acc'])\n",
        "\n",
        "print(model_cnn.summary())"
      ],
      "execution_count": 0,
      "outputs": [
        {
          "output_type": "stream",
          "text": [
            "Model: \"sequential_2\"\n",
            "_________________________________________________________________\n",
            "Layer (type)                 Output Shape              Param #   \n",
            "=================================================================\n",
            "embedding_2 (Embedding)      (None, 67, 256)           3072000   \n",
            "_________________________________________________________________\n",
            "dropout_2 (Dropout)          (None, 67, 256)           0         \n",
            "_________________________________________________________________\n",
            "conv1d_1 (Conv1D)            (None, 65, 250)           192250    \n",
            "_________________________________________________________________\n",
            "global_max_pooling1d_1 (Glob (None, 250)               0         \n",
            "_________________________________________________________________\n",
            "dense_2 (Dense)              (None, 250)               62750     \n",
            "_________________________________________________________________\n",
            "dropout_3 (Dropout)          (None, 250)               0         \n",
            "_________________________________________________________________\n",
            "activation_1 (Activation)    (None, 250)               0         \n",
            "_________________________________________________________________\n",
            "dense_3 (Dense)              (None, 3)                 753       \n",
            "_________________________________________________________________\n",
            "activation_2 (Activation)    (None, 3)                 0         \n",
            "=================================================================\n",
            "Total params: 3,327,753\n",
            "Trainable params: 3,327,753\n",
            "Non-trainable params: 0\n",
            "_________________________________________________________________\n",
            "None\n",
            "time: 121 ms\n"
          ],
          "name": "stdout"
        }
      ]
    },
    {
      "cell_type": "markdown",
      "metadata": {
        "id": "Ln1z7Y0h690R",
        "colab_type": "text"
      },
      "source": [
        "### Avoid wasting resources with EarlyStopping and ModelCheckpoint in Keras\n",
        "\n",
        "Training a neural network can take a lot of time. In some cases, especially with \n",
        "very deep architectures trained on very large data sets, it can take weeks before one’s model \n",
        "is finally trained.\n",
        "\n",
        "Unfortunately, setting a fixed number of epochs is often a bad idea. Here’s why:\n",
        "\n",
        "1.   When you use too few epochs, your model will remain underfit. What I mean is that its predictive power can still be improved without a loss of generalization power (i.e., it improves without overfitting). You will end up with a model that does not perform at its maximum capability.\n",
        "\n",
        "2.   When you use too many epochs, depending on how you configure the training process, your final model will either be optimized or it will be overfit. In both cases, you will have wasted resources. Hey, but why are those resources wasted when the final model is optimal? Simple – most likely, this optimum was found in e.g. 20% of the epochs you configured the model for. 80% of the resources you used are then wasted. Especially with highly expensive tasks in computational terms, you’ll want to avoid waste as much as you can.\n",
        "\n",
        "\n",
        "\n"
      ]
    },
    {
      "cell_type": "code",
      "metadata": {
        "id": "8F9AWAJt5S6C",
        "colab_type": "code",
        "outputId": "5dbf3374-d871-4efd-b8b0-5dd554d4f460",
        "colab": {
          "base_uri": "https://localhost:8080/",
          "height": 35
        }
      },
      "source": [
        "# Adding the callbacks\n",
        "from tensorflow.keras.callbacks import EarlyStopping, ModelCheckpoint\n",
        "\n",
        "checkpoint_path = \"cnn_model.best.hdf5\"\n",
        "\n",
        "# use early stopping to optimally terminate training through callbacks\n",
        "es = EarlyStopping(monitor='val_loss', mode='min', verbose=1, patience=1) # patience=3)\n",
        "\n",
        "# save best model automatically\n",
        "mc = ModelCheckpoint(\n",
        "    checkpoint_path, monitor='val_loss', \n",
        "    mode='min', verbose=1, save_best_only=True\n",
        ")\n",
        "cb_list = [es,mc]"
      ],
      "execution_count": 0,
      "outputs": [
        {
          "output_type": "stream",
          "text": [
            "time: 6.51 ms\n"
          ],
          "name": "stdout"
        }
      ]
    },
    {
      "cell_type": "markdown",
      "metadata": {
        "id": "EovkzEzS7WsG",
        "colab_type": "text"
      },
      "source": [
        "### Start training"
      ]
    },
    {
      "cell_type": "code",
      "metadata": {
        "id": "lsyR8HNEJw0k",
        "colab_type": "code",
        "outputId": "caa33310-7288-4fb0-bc44-b809fd4f83f2",
        "colab": {
          "base_uri": "https://localhost:8080/",
          "height": 559
        }
      },
      "source": [
        "# Train model\n",
        "epochs = 25\n",
        "batch_size = 4096 # 64 # use more if gpu available - for faster processing \n",
        "history = model_cnn.fit(\n",
        "    train_texts, train_y,\n",
        "    validation_data=(val_texts, val_y), \n",
        "    epochs=epochs, \n",
        "    batch_size=batch_size,\n",
        "    verbose=1,shuffle=True,\n",
        "    callbacks=cb_list,\n",
        "    \n",
        ")"
      ],
      "execution_count": 0,
      "outputs": [
        {
          "output_type": "stream",
          "text": [
            "/usr/local/lib/python3.6/dist-packages/tensorflow/python/framework/indexed_slices.py:434: UserWarning: Converting sparse IndexedSlices to a dense Tensor of unknown shape. This may consume a large amount of memory.\n",
            "  \"Converting sparse IndexedSlices to a dense Tensor of unknown shape. \"\n"
          ],
          "name": "stderr"
        },
        {
          "output_type": "stream",
          "text": [
            "Train on 1070731 samples, validate on 267683 samples\n",
            "Epoch 1/25\n",
            "1070731/1070731 [==============================] - 92s 86us/step - loss: 0.5943 - acc: 0.7509 - val_loss: 0.3287 - val_acc: 0.8861\n",
            "\n",
            "Epoch 00001: val_loss improved from inf to 0.32866, saving model to cnn_model.best.hdf5\n",
            "Epoch 2/25\n",
            "1070731/1070731 [==============================] - 87s 81us/step - loss: 0.2314 - acc: 0.9220 - val_loss: 0.1402 - val_acc: 0.9549\n",
            "\n",
            "Epoch 00002: val_loss improved from 0.32866 to 0.14021, saving model to cnn_model.best.hdf5\n",
            "Epoch 3/25\n",
            "1070731/1070731 [==============================] - 87s 81us/step - loss: 0.1170 - acc: 0.9622 - val_loss: 0.0942 - val_acc: 0.9707\n",
            "\n",
            "Epoch 00003: val_loss improved from 0.14021 to 0.09421, saving model to cnn_model.best.hdf5\n",
            "Epoch 4/25\n",
            "1070731/1070731 [==============================] - 87s 81us/step - loss: 0.0807 - acc: 0.9736 - val_loss: 0.0888 - val_acc: 0.9732\n",
            "\n",
            "Epoch 00004: val_loss improved from 0.09421 to 0.08885, saving model to cnn_model.best.hdf5\n",
            "Epoch 5/25\n",
            "1070731/1070731 [==============================] - 87s 81us/step - loss: 0.0628 - acc: 0.9792 - val_loss: 0.0810 - val_acc: 0.9770\n",
            "\n",
            "Epoch 00005: val_loss improved from 0.08885 to 0.08101, saving model to cnn_model.best.hdf5\n",
            "Epoch 6/25\n",
            "1070731/1070731 [==============================] - 87s 81us/step - loss: 0.0535 - acc: 0.9821 - val_loss: 0.0935 - val_acc: 0.9746\n",
            "\n",
            "Epoch 00006: val_loss did not improve from 0.08101\n",
            "Epoch 00006: early stopping\n",
            "time: 8min 47s\n"
          ],
          "name": "stdout"
        }
      ]
    },
    {
      "cell_type": "code",
      "metadata": {
        "id": "-4GbFISA8m4Y",
        "colab_type": "code",
        "outputId": "72ee6951-9db0-41f4-b462-f1e2a451bbe6",
        "colab": {
          "base_uri": "https://localhost:8080/",
          "height": 591
        }
      },
      "source": [
        "plot_accuracy_loss(history)"
      ],
      "execution_count": 0,
      "outputs": [
        {
          "output_type": "display_data",
          "data": {
            "image/png": "[encoded data removed]",
            "text/plain": [
              "<Figure size 432x288 with 1 Axes>"
            ]
          },
          "metadata": {
            "tags": [],
            "needs_background": "light"
          }
        },
        {
          "output_type": "display_data",
          "data": {
            "image/png": "[encoded data removed]",
            "text/plain": [
              "<Figure size 432x288 with 1 Axes>"
            ]
          },
          "metadata": {
            "tags": [],
            "needs_background": "light"
          }
        },
        {
          "output_type": "stream",
          "text": [
            "time: 351 ms\n"
          ],
          "name": "stdout"
        }
      ]
    },
    {
      "cell_type": "code",
      "metadata": {
        "id": "zU18nI67lyGv",
        "colab_type": "code",
        "outputId": "1ad23410-a426-4183-8f43-b138b77c16dd",
        "colab": {
          "base_uri": "https://localhost:8080/",
          "height": 550
        }
      },
      "source": [
        "y_pred = model_cnn.predict_classes(val_texts)\n",
        "y_true = val_labels\n",
        "plot_confusion_matrix(y_true=y_true, yhat_classes=yhat_classes, classes=classes)\n",
        "print(\"\\n\\n\")\n",
        "calculate_extra_metrices(y_true=val_labels, yhat_classes=y_pred)"
      ],
      "execution_count": 0,
      "outputs": [
        {
          "output_type": "display_data",
          "data": {
            "image/png": "[encoded data removed]",
            "text/plain": [
              "<Figure size 576x432 with 2 Axes>"
            ]
          },
          "metadata": {
            "tags": [],
            "needs_background": "light"
          }
        },
        {
          "output_type": "stream",
          "text": [
            "\n",
            "\n",
            "\n",
            "Accuracy: 0.974597\n",
            "Precision: 0.975222\n",
            "Recall: 0.974597\n",
            "F1 score: 0.974597\n",
            "time: 16.5 s\n"
          ],
          "name": "stdout"
        }
      ]
    },
    {
      "cell_type": "markdown",
      "metadata": {
        "id": "5pvZMGLL-AAg",
        "colab_type": "text"
      },
      "source": [
        "## GRU"
      ]
    },
    {
      "cell_type": "code",
      "metadata": {
        "id": "oF9Yjw-V-Cfc",
        "colab_type": "code",
        "outputId": "af215f20-2e6c-43e2-a861-ccae09f48c4c",
        "colab": {
          "base_uri": "https://localhost:8080/",
          "height": 35
        }
      },
      "source": [
        "def build_gru_model():\n",
        "    sequences = layers.Input(shape=(MAX_LENGTH,))\n",
        "    embedded = layers.Embedding(MAX_FEATURES, 64)(sequences)\n",
        "    x = layers.CuDNNGRU(128, return_sequences=True)(embedded)\n",
        "    x = layers.CuDNNGRU(128)(x)\n",
        "    x = layers.Dense(32, activation='relu')(x)\n",
        "    x = layers.Dense(100, activation='relu')(x)\n",
        "    predictions = layers.Dense(num_classes, activation='softmax')(x)\n",
        "    model = models.Model(inputs=sequences, outputs=predictions)\n",
        "    model.compile(\n",
        "        loss='categorical_crossentropy',\n",
        "        optimizer='adam',\n",
        "        metrics=['acc']\n",
        "    )\n",
        "    return model\n",
        "    \n",
        "gru_model = build_gru_model()"
      ],
      "execution_count": 0,
      "outputs": [
        {
          "output_type": "stream",
          "text": [
            "time: 243 ms\n"
          ],
          "name": "stdout"
        }
      ]
    },
    {
      "cell_type": "markdown",
      "metadata": {
        "colab_type": "text",
        "id": "_KAXRWxcV7Vh"
      },
      "source": [
        "### Avoid wasting resources with EarlyStopping and ModelCheckpoint in Keras\n",
        "\n",
        "Training a neural network can take a lot of time. In some cases, especially with \n",
        "very deep architectures trained on very large data sets, it can take weeks before one’s model \n",
        "is finally trained.\n",
        "\n",
        "Unfortunately, setting a fixed number of epochs is often a bad idea. Here’s why:\n",
        "\n",
        "1.   When you use too few epochs, your model will remain underfit. What I mean is that its predictive power can still be improved without a loss of generalization power (i.e., it improves without overfitting). You will end up with a model that does not perform at its maximum capability.\n",
        "\n",
        "2.   When you use too many epochs, depending on how you configure the training process, your final model will either be optimized or it will be overfit. In both cases, you will have wasted resources. Hey, but why are those resources wasted when the final model is optimal? Simple – most likely, this optimum was found in e.g. 20% of the epochs you configured the model for. 80% of the resources you used are then wasted. Especially with highly expensive tasks in computational terms, you’ll want to avoid waste as much as you can.\n",
        "\n",
        "\n",
        "\n"
      ]
    },
    {
      "cell_type": "code",
      "metadata": {
        "colab_type": "code",
        "id": "cJ5KRlPRV7Vl",
        "outputId": "8ff5bdd0-82c4-48cb-ffb9-0d8add7d247f",
        "colab": {
          "base_uri": "https://localhost:8080/",
          "height": 35
        }
      },
      "source": [
        "# Adding the callbacks\n",
        "from tensorflow.keras.callbacks import EarlyStopping, ModelCheckpoint\n",
        "\n",
        "checkpoint_path = \"gru_model.best.hdf5\"\n",
        "\n",
        "# use early stopping to optimally terminate training through callbacks\n",
        "es = EarlyStopping(monitor='val_loss', mode='min', verbose=1, patience=1) # patience=3)\n",
        "\n",
        "# save best model automatically\n",
        "mc = ModelCheckpoint(\n",
        "    checkpoint_path, monitor='val_loss', \n",
        "    mode='min', verbose=1, save_best_only=True\n",
        ")\n",
        "cb_list = [es,mc]"
      ],
      "execution_count": 0,
      "outputs": [
        {
          "output_type": "stream",
          "text": [
            "time: 4.07 ms\n"
          ],
          "name": "stdout"
        }
      ]
    },
    {
      "cell_type": "markdown",
      "metadata": {
        "id": "3dYU3gYvV8rA",
        "colab_type": "text"
      },
      "source": [
        "### Train"
      ]
    },
    {
      "cell_type": "code",
      "metadata": {
        "id": "H0uCYxaK-Ibi",
        "colab_type": "code",
        "outputId": "d01bcb20-2ca9-4818-8d4c-e4152f0e52f8",
        "colab": {
          "base_uri": "https://localhost:8080/",
          "height": 1000
        }
      },
      "source": [
        "epochs = 250\n",
        "batch_size = 2048 # 128 # use more if gpu available - for faster processing \n",
        "\n",
        "history = gru_model.fit(\n",
        "    train_texts, \n",
        "    train_y, \n",
        "    validation_data=(val_texts, val_y),\n",
        "    batch_size=batch_size,\n",
        "    epochs=epochs,\n",
        "    callbacks=cb_list,\n",
        ")"
      ],
      "execution_count": 0,
      "outputs": [
        {
          "output_type": "stream",
          "text": [
            "Epoch 1/250\n",
            "523/523 [==============================] - ETA: 0s - loss: 0.6713 - acc: 0.7140\n",
            "Epoch 00001: val_loss improved from inf to 0.56291, saving model to gru_model.best.hdf5\n",
            "523/523 [==============================] - 102s 195ms/step - loss: 0.6713 - acc: 0.7140 - val_loss: 0.5629 - val_acc: 0.7801\n",
            "Epoch 2/250\n",
            "523/523 [==============================] - ETA: 0s - loss: 0.4994 - acc: 0.8111\n",
            "Epoch 00002: val_loss improved from 0.56291 to 0.45513, saving model to gru_model.best.hdf5\n",
            "523/523 [==============================] - 101s 193ms/step - loss: 0.4994 - acc: 0.8111 - val_loss: 0.4551 - val_acc: 0.8297\n",
            "Epoch 3/250\n",
            "523/523 [==============================] - ETA: 0s - loss: 0.3993 - acc: 0.8539\n",
            "Epoch 00003: val_loss improved from 0.45513 to 0.38349, saving model to gru_model.best.hdf5\n",
            "523/523 [==============================] - 101s 192ms/step - loss: 0.3993 - acc: 0.8539 - val_loss: 0.3835 - val_acc: 0.8602\n",
            "Epoch 4/250\n",
            "523/523 [==============================] - ETA: 0s - loss: 0.3305 - acc: 0.8817\n",
            "Epoch 00004: val_loss improved from 0.38349 to 0.34157, saving model to gru_model.best.hdf5\n",
            "523/523 [==============================] - 101s 193ms/step - loss: 0.3305 - acc: 0.8817 - val_loss: 0.3416 - val_acc: 0.8778\n",
            "Epoch 5/250\n",
            "523/523 [==============================] - ETA: 0s - loss: 0.2763 - acc: 0.9028\n",
            "Epoch 00005: val_loss improved from 0.34157 to 0.28989, saving model to gru_model.best.hdf5\n",
            "523/523 [==============================] - 101s 193ms/step - loss: 0.2763 - acc: 0.9028 - val_loss: 0.2899 - val_acc: 0.8991\n",
            "Epoch 6/250\n",
            "523/523 [==============================] - ETA: 0s - loss: 0.2303 - acc: 0.9210\n",
            "Epoch 00006: val_loss improved from 0.28989 to 0.25611, saving model to gru_model.best.hdf5\n",
            "523/523 [==============================] - 101s 193ms/step - loss: 0.2303 - acc: 0.9210 - val_loss: 0.2561 - val_acc: 0.9141\n",
            "Epoch 7/250\n",
            "523/523 [==============================] - ETA: 0s - loss: 0.1952 - acc: 0.9344\n",
            "Epoch 00007: val_loss improved from 0.25611 to 0.23122, saving model to gru_model.best.hdf5\n",
            "523/523 [==============================] - 101s 193ms/step - loss: 0.1952 - acc: 0.9344 - val_loss: 0.2312 - val_acc: 0.9244\n",
            "Epoch 8/250\n",
            "523/523 [==============================] - ETA: 0s - loss: 0.1642 - acc: 0.9458\n",
            "Epoch 00008: val_loss improved from 0.23122 to 0.20947, saving model to gru_model.best.hdf5\n",
            "523/523 [==============================] - 101s 192ms/step - loss: 0.1642 - acc: 0.9458 - val_loss: 0.2095 - val_acc: 0.9335\n",
            "Epoch 9/250\n",
            "523/523 [==============================] - ETA: 0s - loss: 0.1404 - acc: 0.9544\n",
            "Epoch 00009: val_loss improved from 0.20947 to 0.19480, saving model to gru_model.best.hdf5\n",
            "523/523 [==============================] - 101s 193ms/step - loss: 0.1404 - acc: 0.9544 - val_loss: 0.1948 - val_acc: 0.9408\n",
            "Epoch 10/250\n",
            "523/523 [==============================] - ETA: 0s - loss: 0.1198 - acc: 0.9617\n",
            "Epoch 00010: val_loss improved from 0.19480 to 0.18345, saving model to gru_model.best.hdf5\n",
            "523/523 [==============================] - 101s 193ms/step - loss: 0.1198 - acc: 0.9617 - val_loss: 0.1835 - val_acc: 0.9469\n",
            "Epoch 11/250\n",
            "523/523 [==============================] - ETA: 0s - loss: 0.1040 - acc: 0.9675\n",
            "Epoch 00011: val_loss improved from 0.18345 to 0.16992, saving model to gru_model.best.hdf5\n",
            "523/523 [==============================] - 101s 193ms/step - loss: 0.1040 - acc: 0.9675 - val_loss: 0.1699 - val_acc: 0.9512\n",
            "Epoch 12/250\n",
            "523/523 [==============================] - ETA: 0s - loss: 0.0914 - acc: 0.9715\n",
            "Epoch 00012: val_loss improved from 0.16992 to 0.16554, saving model to gru_model.best.hdf5\n",
            "523/523 [==============================] - 101s 193ms/step - loss: 0.0914 - acc: 0.9715 - val_loss: 0.1655 - val_acc: 0.9551\n",
            "Epoch 13/250\n",
            "523/523 [==============================] - ETA: 0s - loss: 0.0806 - acc: 0.9752\n",
            "Epoch 00013: val_loss improved from 0.16554 to 0.16079, saving model to gru_model.best.hdf5\n",
            "523/523 [==============================] - 101s 193ms/step - loss: 0.0806 - acc: 0.9752 - val_loss: 0.1608 - val_acc: 0.9576\n",
            "Epoch 14/250\n",
            "523/523 [==============================] - ETA: 0s - loss: 0.0698 - acc: 0.9788\n",
            "Epoch 00014: val_loss did not improve from 0.16079\n",
            "523/523 [==============================] - 101s 193ms/step - loss: 0.0698 - acc: 0.9788 - val_loss: 0.1678 - val_acc: 0.9586\n",
            "Epoch 00014: early stopping\n",
            "time: 23min 37s\n"
          ],
          "name": "stdout"
        }
      ]
    },
    {
      "cell_type": "code",
      "metadata": {
        "id": "_CkStWUgCrOF",
        "colab_type": "code",
        "outputId": "8b96d888-f26f-47cb-ddba-775aae77e5e4",
        "colab": {
          "base_uri": "https://localhost:8080/",
          "height": 591
        }
      },
      "source": [
        "plot_accuracy_loss(history)"
      ],
      "execution_count": 0,
      "outputs": [
        {
          "output_type": "display_data",
          "data": {
            "image/png": "[encoded data removed]",
            "text/plain": [
              "<Figure size 432x288 with 1 Axes>"
            ]
          },
          "metadata": {
            "tags": [],
            "needs_background": "light"
          }
        },
        {
          "output_type": "display_data",
          "data": {
            "image/png": "[encoded data removed]",
            "text/plain": [
              "<Figure size 432x288 with 1 Axes>"
            ]
          },
          "metadata": {
            "tags": [],
            "needs_background": "light"
          }
        },
        {
          "output_type": "stream",
          "text": [
            "time: 357 ms\n"
          ],
          "name": "stdout"
        }
      ]
    },
    {
      "cell_type": "markdown",
      "metadata": {
        "id": "v40BIR1CU9s-",
        "colab_type": "text"
      },
      "source": [
        "## Bidirectional-GRU"
      ]
    },
    {
      "cell_type": "code",
      "metadata": {
        "id": "wLRyUjNKaXDD",
        "colab_type": "code",
        "outputId": "eb2d33f9-c959-4687-80da-27627d7ab178",
        "colab": {
          "base_uri": "https://localhost:8080/",
          "height": 35
        }
      },
      "source": [
        "embed_dim = 64\n",
        "\n",
        "def build_bidirectional_gru():\n",
        "\tmodel = Sequential()\n",
        "\tmodel.add(Embedding(MAX_FEATURES, embed_dim, input_length=MAX_LENGTH))\n",
        "\tmodel.add(SpatialDropout1D(0.25))\n",
        "\tmodel.add(Bidirectional(GRU(64,dropout=0.4, return_sequences = True)))\n",
        "\tmodel.add(Bidirectional(GRU(32,dropout=0.5, return_sequences = False)))\n",
        "\tmodel.add(Dense(num_classes, activation='softmax'))\n",
        "\tmodel.compile(\n",
        "\t\tloss = 'categorical_crossentropy', optimizer=Adam(lr = 0.001), \n",
        "\t\tmetrics = ['acc']\n",
        "\t)\n",
        "\treturn model\n",
        "\t\n",
        "bidirectional_gru_model = build_bidirectional_gru()"
      ],
      "execution_count": 0,
      "outputs": [
        {
          "output_type": "stream",
          "text": [
            "time: 683 ms\n"
          ],
          "name": "stdout"
        }
      ]
    },
    {
      "cell_type": "markdown",
      "metadata": {
        "colab_type": "text",
        "id": "c-LAR4JzWPGv"
      },
      "source": [
        "### Avoid wasting resources with EarlyStopping and ModelCheckpoint in Keras\n",
        "\n",
        "Training a neural network can take a lot of time. In some cases, especially with \n",
        "very deep architectures trained on very large data sets, it can take weeks before one’s model \n",
        "is finally trained.\n",
        "\n",
        "Unfortunately, setting a fixed number of epochs is often a bad idea. Here’s why:\n",
        "\n",
        "1.   When you use too few epochs, your model will remain underfit. What I mean is that its predictive power can still be improved without a loss of generalization power (i.e., it improves without overfitting). You will end up with a model that does not perform at its maximum capability.\n",
        "\n",
        "2.   When you use too many epochs, depending on how you configure the training process, your final model will either be optimized or it will be overfit. In both cases, you will have wasted resources. Hey, but why are those resources wasted when the final model is optimal? Simple – most likely, this optimum was found in e.g. 20% of the epochs you configured the model for. 80% of the resources you used are then wasted. Especially with highly expensive tasks in computational terms, you’ll want to avoid waste as much as you can.\n",
        "\n",
        "\n",
        "\n"
      ]
    },
    {
      "cell_type": "code",
      "metadata": {
        "colab_type": "code",
        "id": "GdA4sWYcWPGy",
        "outputId": "ae511597-3b14-46a8-8dad-fb0afa2afe92",
        "colab": {
          "base_uri": "https://localhost:8080/",
          "height": 35
        }
      },
      "source": [
        "# Adding the callbacks\n",
        "from tensorflow.keras.callbacks import EarlyStopping\n",
        "from keras.callbacks import ModelCheckpoint\n",
        "\n",
        "checkpoint_path = \"bidirectional_gru_model.best.hdf5\"\n",
        "\n",
        "# use early stopping to optimally terminate training through callbacks\n",
        "es = EarlyStopping(monitor='val_loss', mode='min', verbose=1, patience=2) # patience=3)\n",
        "\n",
        "# save best model automatically\n",
        "mc = ModelCheckpoint(\n",
        "    checkpoint_path, monitor='val_loss', \n",
        "    mode='min', verbose=1, save_best_only=True\n",
        ")\n",
        "cb_list = [es,mc]"
      ],
      "execution_count": 0,
      "outputs": [
        {
          "output_type": "stream",
          "text": [
            "time: 7.34 ms\n"
          ],
          "name": "stdout"
        }
      ]
    },
    {
      "cell_type": "markdown",
      "metadata": {
        "id": "f463iCS5WYRG",
        "colab_type": "text"
      },
      "source": [
        "### Train"
      ]
    },
    {
      "cell_type": "code",
      "metadata": {
        "id": "HXwIB0XTakpj",
        "colab_type": "code",
        "outputId": "f6d6a1ca-913b-43a0-f9c8-bf832f8ca9d1",
        "colab": {
          "base_uri": "https://localhost:8080/",
          "height": 1000
        }
      },
      "source": [
        "epochs = 250\n",
        "batch_size = 8192 # 128 # use more if gpu available - for faster processing \n",
        "\n",
        "history = bidirectional_gru_model.fit(\n",
        "    train_texts, \n",
        "    train_y, \n",
        "    batch_size=batch_size,\n",
        "    epochs=epochs,\n",
        "    validation_data=(val_texts, val_y),\n",
        "    callbacks=cb_list,\n",
        ")"
      ],
      "execution_count": 0,
      "outputs": [
        {
          "output_type": "stream",
          "text": [
            "Train on 1070731 samples, validate on 267683 samples\n",
            "Epoch 1/25\n",
            "1070731/1070731 [==============================] - 173s 161us/step - loss: 0.5934 - acc: 0.7647 - val_loss: 0.5643 - val_acc: 0.7816\n",
            "\n",
            "Epoch 00001: val_loss improved from inf to 0.56429, saving model to bidirectional_gru_model.best.hdf5\n",
            "Epoch 2/25\n",
            "1070731/1070731 [==============================] - 173s 162us/step - loss: 0.5696 - acc: 0.7778 - val_loss: 0.5437 - val_acc: 0.7927\n",
            "\n",
            "Epoch 00002: val_loss improved from 0.56429 to 0.54374, saving model to bidirectional_gru_model.best.hdf5\n",
            "Epoch 3/25\n",
            "1070731/1070731 [==============================] - 173s 161us/step - loss: 0.5477 - acc: 0.7895 - val_loss: 0.5219 - val_acc: 0.8042\n",
            "\n",
            "Epoch 00003: val_loss improved from 0.54374 to 0.52188, saving model to bidirectional_gru_model.best.hdf5\n",
            "Epoch 4/25\n",
            "1070731/1070731 [==============================] - 172s 161us/step - loss: 0.5275 - acc: 0.7993 - val_loss: 0.5008 - val_acc: 0.8145\n",
            "\n",
            "Epoch 00004: val_loss improved from 0.52188 to 0.50079, saving model to bidirectional_gru_model.best.hdf5\n",
            "Epoch 5/25\n",
            "1070731/1070731 [==============================] - 172s 161us/step - loss: 0.5091 - acc: 0.8090 - val_loss: 0.4854 - val_acc: 0.8225\n",
            "\n",
            "Epoch 00005: val_loss improved from 0.50079 to 0.48538, saving model to bidirectional_gru_model.best.hdf5\n",
            "Epoch 6/25\n",
            "1070731/1070731 [==============================] - 172s 161us/step - loss: 0.4938 - acc: 0.8162 - val_loss: 0.4686 - val_acc: 0.8307\n",
            "\n",
            "Epoch 00006: val_loss improved from 0.48538 to 0.46864, saving model to bidirectional_gru_model.best.hdf5\n",
            "Epoch 7/25\n",
            "1070731/1070731 [==============================] - 173s 161us/step - loss: 0.4788 - acc: 0.8225 - val_loss: 0.4527 - val_acc: 0.8376\n",
            "\n",
            "Epoch 00007: val_loss improved from 0.46864 to 0.45270, saving model to bidirectional_gru_model.best.hdf5\n",
            "Epoch 8/25\n",
            "1070731/1070731 [==============================] - 172s 161us/step - loss: 0.4667 - acc: 0.8284 - val_loss: 0.4399 - val_acc: 0.8430\n",
            "\n",
            "Epoch 00008: val_loss improved from 0.45270 to 0.43991, saving model to bidirectional_gru_model.best.hdf5\n",
            "Epoch 9/25\n",
            "1070731/1070731 [==============================] - 173s 161us/step - loss: 0.4556 - acc: 0.8327 - val_loss: 0.4277 - val_acc: 0.8485\n",
            "\n",
            "Epoch 00009: val_loss improved from 0.43991 to 0.42771, saving model to bidirectional_gru_model.best.hdf5\n",
            "Epoch 10/25\n",
            "1070731/1070731 [==============================] - 173s 161us/step - loss: 0.4446 - acc: 0.8376 - val_loss: 0.4185 - val_acc: 0.8513\n",
            "\n",
            "Epoch 00010: val_loss improved from 0.42771 to 0.41848, saving model to bidirectional_gru_model.best.hdf5\n",
            "Epoch 11/25\n",
            "1070731/1070731 [==============================] - 172s 161us/step - loss: 0.4346 - acc: 0.8414 - val_loss: 0.4077 - val_acc: 0.8563\n",
            "\n",
            "Epoch 00011: val_loss improved from 0.41848 to 0.40769, saving model to bidirectional_gru_model.best.hdf5\n",
            "Epoch 12/25\n",
            "1070731/1070731 [==============================] - 172s 161us/step - loss: 0.4250 - acc: 0.8451 - val_loss: 0.3961 - val_acc: 0.8606\n",
            "\n",
            "Epoch 00012: val_loss improved from 0.40769 to 0.39608, saving model to bidirectional_gru_model.best.hdf5\n",
            "Epoch 13/25\n",
            "1070731/1070731 [==============================] - 173s 161us/step - loss: 0.4165 - acc: 0.8483 - val_loss: 0.3845 - val_acc: 0.8660\n",
            "\n",
            "Epoch 00013: val_loss improved from 0.39608 to 0.38446, saving model to bidirectional_gru_model.best.hdf5\n",
            "Epoch 14/25\n",
            "1070731/1070731 [==============================] - 173s 161us/step - loss: 0.4076 - acc: 0.8521 - val_loss: 0.3764 - val_acc: 0.8684\n",
            "\n",
            "Epoch 00014: val_loss improved from 0.38446 to 0.37643, saving model to bidirectional_gru_model.best.hdf5\n",
            "Epoch 15/25\n",
            "1070731/1070731 [==============================] - 172s 161us/step - loss: 0.3993 - acc: 0.8552 - val_loss: 0.3685 - val_acc: 0.8716\n",
            "\n",
            "Epoch 00015: val_loss improved from 0.37643 to 0.36853, saving model to bidirectional_gru_model.best.hdf5\n",
            "Epoch 16/25\n",
            "1070731/1070731 [==============================] - 172s 161us/step - loss: 0.3922 - acc: 0.8579 - val_loss: 0.3583 - val_acc: 0.8762\n",
            "\n",
            "Epoch 00016: val_loss improved from 0.36853 to 0.35833, saving model to bidirectional_gru_model.best.hdf5\n",
            "Epoch 17/25\n",
            "1070731/1070731 [==============================] - 172s 161us/step - loss: 0.3852 - acc: 0.8605 - val_loss: 0.3533 - val_acc: 0.8780\n",
            "\n",
            "Epoch 00017: val_loss improved from 0.35833 to 0.35327, saving model to bidirectional_gru_model.best.hdf5\n",
            "Epoch 18/25\n",
            "1070731/1070731 [==============================] - 173s 161us/step - loss: 0.3781 - acc: 0.8633 - val_loss: 0.3469 - val_acc: 0.8802\n",
            "\n",
            "Epoch 00018: val_loss improved from 0.35327 to 0.34690, saving model to bidirectional_gru_model.best.hdf5\n",
            "Epoch 19/25\n",
            "1070731/1070731 [==============================] - 172s 161us/step - loss: 0.3722 - acc: 0.8656 - val_loss: 0.3382 - val_acc: 0.8842\n",
            "\n",
            "Epoch 00019: val_loss improved from 0.34690 to 0.33823, saving model to bidirectional_gru_model.best.hdf5\n",
            "Epoch 20/25\n",
            "1070731/1070731 [==============================] - 173s 162us/step - loss: 0.3680 - acc: 0.8671 - val_loss: 0.3314 - val_acc: 0.8872\n",
            "\n",
            "Epoch 00020: val_loss improved from 0.33823 to 0.33138, saving model to bidirectional_gru_model.best.hdf5\n",
            "Epoch 21/25\n",
            "1070731/1070731 [==============================] - 172s 161us/step - loss: 0.3615 - acc: 0.8695 - val_loss: 0.3311 - val_acc: 0.8868\n",
            "\n",
            "Epoch 00021: val_loss improved from 0.33138 to 0.33109, saving model to bidirectional_gru_model.best.hdf5\n",
            "Epoch 22/25\n",
            "1070731/1070731 [==============================] - 173s 161us/step - loss: 0.3563 - acc: 0.8720 - val_loss: 0.3223 - val_acc: 0.8906\n",
            "\n",
            "Epoch 00022: val_loss improved from 0.33109 to 0.32232, saving model to bidirectional_gru_model.best.hdf5\n",
            "Epoch 23/25\n",
            "1070731/1070731 [==============================] - 173s 161us/step - loss: 0.3510 - acc: 0.8738 - val_loss: 0.3155 - val_acc: 0.8930\n",
            "\n",
            "Epoch 00023: val_loss improved from 0.32232 to 0.31545, saving model to bidirectional_gru_model.best.hdf5\n",
            "Epoch 24/25\n",
            "1070731/1070731 [==============================] - 172s 161us/step - loss: 0.3477 - acc: 0.8750 - val_loss: 0.3131 - val_acc: 0.8933\n",
            "\n",
            "Epoch 00024: val_loss improved from 0.31545 to 0.31314, saving model to bidirectional_gru_model.best.hdf5\n",
            "Epoch 25/25\n",
            "1070731/1070731 [==============================] - 173s 161us/step - loss: 0.3426 - acc: 0.8768 - val_loss: 0.3058 - val_acc: 0.8963\n",
            "\n",
            "Epoch 00025: val_loss improved from 0.31314 to 0.30582, saving model to bidirectional_gru_model.best.hdf5\n",
            "time: 1h 11min 54s\n"
          ],
          "name": "stdout"
        }
      ]
    },
    {
      "cell_type": "markdown",
      "metadata": {
        "id": "00A5lNTUWaPF",
        "colab_type": "text"
      },
      "source": [
        "### Visualize"
      ]
    },
    {
      "cell_type": "code",
      "metadata": {
        "id": "ULfHZEkMazVX",
        "colab_type": "code",
        "outputId": "477a361b-0baa-4843-db7d-bbe735c30c79",
        "colab": {
          "base_uri": "https://localhost:8080/",
          "height": 591
        }
      },
      "source": [
        "plot_accuracy_loss(history)"
      ],
      "execution_count": 0,
      "outputs": [
        {
          "output_type": "display_data",
          "data": {
            "image/png": "[encoded data removed]",
            "text/plain": [
              "<Figure size 432x288 with 1 Axes>"
            ]
          },
          "metadata": {
            "tags": [],
            "needs_background": "light"
          }
        },
        {
          "output_type": "display_data",
          "data": {
            "image/png": "[encoded data removed]",
            "text/plain": [
              "<Figure size 432x288 with 1 Axes>"
            ]
          },
          "metadata": {
            "tags": [],
            "needs_background": "light"
          }
        },
        {
          "output_type": "stream",
          "text": [
            "time: 362 ms\n"
          ],
          "name": "stdout"
        }
      ]
    },
    {
      "cell_type": "markdown",
      "metadata": {
        "id": "B8djdnd7flNn",
        "colab_type": "text"
      },
      "source": [
        "Model metrices\n",
        "\n",
        "---\n",
        "\n"
      ]
    },
    {
      "cell_type": "code",
      "metadata": {
        "id": "ewJetRjRd0Us",
        "colab_type": "code",
        "outputId": "e839f720-cb78-4716-a983-48f3eeaac7c1",
        "colab": {
          "base_uri": "https://localhost:8080/",
          "height": 423
        }
      },
      "source": [
        "y_pred = bidirectional_gru_model.predict_classes(val_texts)\n",
        "plot_confusion_matrix(val_labels, y_pred, classes)"
      ],
      "execution_count": 0,
      "outputs": [
        {
          "output_type": "display_data",
          "data": {
            "image/png": "[encoded data removed]",
            "text/plain": [
              "<Figure size 576x432 with 2 Axes>"
            ]
          },
          "metadata": {
            "tags": [],
            "needs_background": "light"
          }
        },
        {
          "output_type": "stream",
          "text": [
            "time: 462 ms\n"
          ],
          "name": "stdout"
        }
      ]
    },
    {
      "cell_type": "code",
      "metadata": {
        "id": "9D-2AZN8f088",
        "colab_type": "code",
        "outputId": "924b963e-7c35-47b1-f861-2ca6c6467d37",
        "colab": {
          "base_uri": "https://localhost:8080/",
          "height": 102
        }
      },
      "source": [
        "calculate_extra_metrices(y_true=val_labels, yhat_classes=y_pred)"
      ],
      "execution_count": 0,
      "outputs": [
        {
          "output_type": "stream",
          "text": [
            "Accuracy: 0.896329\n",
            "Precision: 0.897770\n",
            "Recall: 0.896329\n",
            "F1 score: 0.896329\n",
            "time: 277 ms\n"
          ],
          "name": "stdout"
        }
      ]
    },
    {
      "cell_type": "markdown",
      "metadata": {
        "id": "tFginadrQtrH",
        "colab_type": "text"
      },
      "source": [
        "## Save models to drive"
      ]
    },
    {
      "cell_type": "code",
      "metadata": {
        "id": "NstwpxL4Q4BH",
        "colab_type": "code",
        "outputId": "8d7bb5f4-b354-40ff-c737-05aaed7db291",
        "colab": {
          "base_uri": "https://localhost:8080/",
          "height": 35
        }
      },
      "source": [
        "BASE_OUTPUT_DIR = os.path.join(\n",
        "    DRIVE_PROJECT_BASE_DIR , \"output\"\n",
        ")\n",
        "os.makedirs(BASE_OUTPUT_DIR, exist_ok=True)\n"
      ],
      "execution_count": 0,
      "outputs": [
        {
          "output_type": "stream",
          "text": [
            "time: 5.05 ms\n"
          ],
          "name": "stdout"
        }
      ]
    },
    {
      "cell_type": "code",
      "metadata": {
        "id": "7usG9PN5Q-sx",
        "colab_type": "code",
        "outputId": "065360f8-f311-4987-b89f-09cb8cf97a2d",
        "colab": {
          "base_uri": "https://localhost:8080/",
          "height": 35
        }
      },
      "source": [
        "!cp \"lstm_model.best.hdf5\" \"$BASE_OUTPUT_DIR\" \n",
        "!cp \"cnn_model.best.hdf5\" \"$BASE_OUTPUT_DIR\"\n",
        "!cp \"gru_model.best.hdf5\" \"$BASE_OUTPUT_DIR\"\n",
        "\n",
        "!cp \"tokenizer_info.pickle\" \"$BASE_OUTPUT_DIR\"\n",
        "!cp \"$le_filename\" \"$BASE_OUTPUT_DIR\""
      ],
      "execution_count": 0,
      "outputs": [
        {
          "output_type": "stream",
          "text": [
            "time: 2.58 s\n"
          ],
          "name": "stdout"
        }
      ]
    },
    {
      "cell_type": "markdown",
      "metadata": {
        "id": "f1ym7xASq6sa",
        "colab_type": "text"
      },
      "source": [
        "# Machine learning"
      ]
    },
    {
      "cell_type": "code",
      "metadata": {
        "id": "bzyR7HPwMnI2",
        "colab_type": "code",
        "colab": {}
      },
      "source": [
        "# add over sampled data\n",
        "X = X_ros\n",
        "y = y_ros"
      ],
      "execution_count": 0,
      "outputs": []
    },
    {
      "cell_type": "code",
      "metadata": {
        "id": "szuYneMis597",
        "colab_type": "code",
        "outputId": "695b4dfe-78be-4dfd-eb83-8299fb978f99",
        "colab": {
          "base_uri": "https://localhost:8080/",
          "height": 53
        }
      },
      "source": [
        "from sklearn.preprocessing import LabelEncoder  \n",
        "\n",
        "le = LabelEncoder()\n",
        "# convert not-integer labels to int\n",
        "encoded_y = le.fit_transform(y)\n",
        "print(encoded_y)"
      ],
      "execution_count": 0,
      "outputs": [
        {
          "output_type": "stream",
          "text": [
            "[1 2 1 ... 2 2 2]\n",
            "time: 112 ms\n"
          ],
          "name": "stdout"
        }
      ]
    },
    {
      "cell_type": "code",
      "metadata": {
        "id": "zF9ruaeutdXa",
        "colab_type": "code",
        "outputId": "709c6097-93ce-46b9-8eb8-9cb69c67a960",
        "colab": {
          "base_uri": "https://localhost:8080/",
          "height": 53
        }
      },
      "source": [
        "classes = le.classes_\n",
        "\n",
        "print(f'classes: {classes}')"
      ],
      "execution_count": 0,
      "outputs": [
        {
          "output_type": "stream",
          "text": [
            "classes: ['negative' 'neutral' 'positive']\n",
            "time: 1.2 ms\n"
          ],
          "name": "stdout"
        }
      ]
    },
    {
      "cell_type": "code",
      "metadata": {
        "id": "N_5sCs32rsaX",
        "colab_type": "code",
        "outputId": "af18dbf6-708e-4267-a636-1add18ec6e88",
        "colab": {
          "base_uri": "https://localhost:8080/",
          "height": 107
        }
      },
      "source": [
        "from sklearn.model_selection import train_test_split\n",
        "X_train, X_test, y_train, y_test = train_test_split(X, encoded_y, test_size = 0.20, random_state = 0)\n",
        "\n",
        "print(f\"X_train shape: {X_train.shape}\")\n",
        "print(f\"X_test shape: {X_test.shape}\")\n",
        "\n",
        "print(f\"y_train shape: {y_train.shape}\")\n",
        "print(f\"y_test shape: {y_test.shape}\")"
      ],
      "execution_count": 0,
      "outputs": [
        {
          "output_type": "stream",
          "text": [
            "X_train shape: (466457,)\n",
            "X_test shape: (116615,)\n",
            "y_train shape: (466457,)\n",
            "y_test shape: (116615,)\n",
            "time: 68 ms\n"
          ],
          "name": "stdout"
        }
      ]
    },
    {
      "cell_type": "code",
      "metadata": {
        "id": "T8Sy0hSxq5WY",
        "colab_type": "code",
        "outputId": "4f6ea893-a936-4b50-9abd-6f9bc73d01c8",
        "colab": {
          "base_uri": "https://localhost:8080/",
          "height": 35
        }
      },
      "source": [
        "\n",
        "from sklearn.model_selection import train_test_split\n",
        "from sklearn.feature_extraction.text import CountVectorizer\n",
        "from sklearn.feature_extraction.text import TfidfTransformer\n",
        "\n",
        "# Tokenize - Convert a collection of text documents to a matrix of token counts\n",
        "count_vect = CountVectorizer()\n",
        "X_train_counts = count_vect.fit_transform(X_train)\n",
        "\n",
        "\n",
        "# Transform a count matrix to a normalized tf or tf-idf representation\n",
        "tfidf_transformer = TfidfTransformer()\n",
        "X_train_tfidf = tfidf_transformer.fit_transform(X_train_counts)\n",
        "\n",
        "# test data\n",
        "X_test_counts = count_vect.transform(X_test)\n",
        "X_test_tfidf = tfidf_transformer.transform(X_test_counts)"
      ],
      "execution_count": 0,
      "outputs": [
        {
          "output_type": "stream",
          "text": [
            "time: 15.8 s\n"
          ],
          "name": "stdout"
        }
      ]
    },
    {
      "cell_type": "markdown",
      "metadata": {
        "id": "TOJRBwFytjVh",
        "colab_type": "text"
      },
      "source": [
        "## MultinomialNB"
      ]
    },
    {
      "cell_type": "code",
      "metadata": {
        "id": "bZcmBBp8tFrN",
        "colab_type": "code",
        "outputId": "47925efc-4334-445c-b014-083c7a644cd3",
        "colab": {
          "base_uri": "https://localhost:8080/",
          "height": 35
        }
      },
      "source": [
        "from sklearn.naive_bayes import MultinomialNB\n",
        "\n",
        "clf = MultinomialNB()\n",
        "clf.fit(X_train_tfidf, y_train)"
      ],
      "execution_count": 0,
      "outputs": [
        {
          "output_type": "execute_result",
          "data": {
            "text/plain": [
              "MultinomialNB(alpha=1.0, class_prior=None, fit_prior=True)"
            ]
          },
          "metadata": {
            "tags": []
          },
          "execution_count": 123
        },
        {
          "output_type": "stream",
          "text": [
            "time: 188 ms\n"
          ],
          "name": "stdout"
        }
      ]
    },
    {
      "cell_type": "code",
      "metadata": {
        "id": "VaiXHuf4tIuT",
        "colab_type": "code",
        "outputId": "e770eb50-1df7-48ac-e714-6517abf3ddaa",
        "colab": {
          "base_uri": "https://localhost:8080/",
          "height": 35
        }
      },
      "source": [
        "y_hat = clf.predict(X_test_tfidf)\n",
        "# print(y_hat) # 'satisfied'"
      ],
      "execution_count": 0,
      "outputs": [
        {
          "output_type": "stream",
          "text": [
            "time: 31.6 ms\n"
          ],
          "name": "stdout"
        }
      ]
    },
    {
      "cell_type": "code",
      "metadata": {
        "id": "0dY6PN8ntLon",
        "colab_type": "code",
        "outputId": "9dd8dc95-9cfd-4795-dde7-9b0bf4488132",
        "colab": {
          "base_uri": "https://localhost:8080/",
          "height": 35
        }
      },
      "source": [
        "from sklearn.metrics import accuracy_score\n",
        "\n",
        "accuracy_score(y_test, y_hat)"
      ],
      "execution_count": 0,
      "outputs": [
        {
          "output_type": "execute_result",
          "data": {
            "text/plain": [
              "0.7984564592891138"
            ]
          },
          "metadata": {
            "tags": []
          },
          "execution_count": 127
        },
        {
          "output_type": "stream",
          "text": [
            "time: 7.81 ms\n"
          ],
          "name": "stdout"
        }
      ]
    },
    {
      "cell_type": "code",
      "metadata": {
        "id": "qV9yimRetSGS",
        "colab_type": "code",
        "outputId": "367f00f3-1332-43f9-b5b5-dfc6e87a3783",
        "colab": {
          "base_uri": "https://localhost:8080/",
          "height": 215
        }
      },
      "source": [
        "from sklearn.metrics import classification_report, confusion_matrix\n",
        "print(classification_report(y_test, y_hat))"
      ],
      "execution_count": 0,
      "outputs": [
        {
          "output_type": "stream",
          "text": [
            "              precision    recall  f1-score   support\n",
            "\n",
            "           0       0.83      0.22      0.34     18149\n",
            "           1       0.63      0.01      0.01      8985\n",
            "           2       0.80      1.00      0.89     89481\n",
            "\n",
            "    accuracy                           0.80    116615\n",
            "   macro avg       0.75      0.41      0.41    116615\n",
            "weighted avg       0.79      0.80      0.73    116615\n",
            "\n",
            "time: 130 ms\n"
          ],
          "name": "stdout"
        }
      ]
    },
    {
      "cell_type": "code",
      "metadata": {
        "id": "6mLjcVjktUTp",
        "colab_type": "code",
        "outputId": "6712c5d3-5c41-4e60-efd1-149a5cf479f5",
        "colab": {
          "base_uri": "https://localhost:8080/",
          "height": 91
        }
      },
      "source": [
        "from sklearn.metrics import confusion_matrix\n",
        "import seaborn as sns"
      ],
      "execution_count": 0,
      "outputs": [
        {
          "output_type": "stream",
          "text": [
            "time: 34.1 ms\n"
          ],
          "name": "stdout"
        },
        {
          "output_type": "stream",
          "text": [
            "/usr/local/lib/python3.6/dist-packages/statsmodels/tools/_testing.py:19: FutureWarning: pandas.util.testing is deprecated. Use the functions in the public API at pandas.testing instead.\n",
            "  import pandas.util.testing as tm\n"
          ],
          "name": "stderr"
        }
      ]
    },
    {
      "cell_type": "code",
      "metadata": {
        "id": "SpjVE4IZtWpS",
        "colab_type": "code",
        "outputId": "9658ec01-8e11-4fd2-ad58-f3bb80c9d56e",
        "colab": {
          "base_uri": "https://localhost:8080/",
          "height": 319
        }
      },
      "source": [
        "sns.heatmap(confusion_matrix(y_test, y_hat),annot=True, fmt='3.0f', cmap=\"summer\", xticklabels=classes, yticklabels=classes)\n",
        "plt.title('Confusion_matrix', y=1.05, size=15)"
      ],
      "execution_count": 0,
      "outputs": [
        {
          "output_type": "execute_result",
          "data": {
            "text/plain": [
              "Text(0.5, 1.05, 'Confusion_matrix')"
            ]
          },
          "metadata": {
            "tags": []
          },
          "execution_count": 245
        },
        {
          "output_type": "display_data",
          "data": {
            "image/png": "[encoded data removed]",
            "text/plain": [
              "<Figure size 432x288 with 2 Axes>"
            ]
          },
          "metadata": {
            "tags": [],
            "needs_background": "light"
          }
        },
        {
          "output_type": "stream",
          "text": [
            "time: 338 ms\n"
          ],
          "name": "stdout"
        }
      ]
    },
    {
      "cell_type": "markdown",
      "metadata": {
        "id": "Uc_zkJaotqJ7",
        "colab_type": "text"
      },
      "source": [
        "## LinearSVC"
      ]
    },
    {
      "cell_type": "code",
      "metadata": {
        "id": "sPLCy8detu2u",
        "colab_type": "code",
        "outputId": "13cd82ac-0efa-40c3-8d8d-f2fd6b36ef69",
        "colab": {
          "base_uri": "https://localhost:8080/",
          "height": 442
        }
      },
      "source": [
        "from sklearn.svm import LinearSVC\n",
        "\n",
        "model = LinearSVC()\n",
        "model.fit(X_train_tfidf, y_train)\n",
        "y_pred = model.predict(X_test_tfidf)\n",
        "\n",
        "print(f\"Accuracy : {accuracy_score(y_test, y_pred)}\")\n",
        "\n",
        "conf_mat = confusion_matrix(y_test, y_pred)\n",
        "fig, ax = plt.subplots(figsize=(8,6))\n",
        "sns.heatmap(conf_mat, annot=True, fmt='3.0f', cmap=\"summer\", xticklabels=classes, yticklabels=classes)\n",
        "plt.title('Confusion_matrix', y=1.05, size=15)\n",
        "plt.ylabel('Actual')\n",
        "plt.xlabel('Predicted')\n",
        "plt.show()"
      ],
      "execution_count": 0,
      "outputs": [
        {
          "output_type": "stream",
          "text": [
            "Accuracy : 0.86492303734511\n"
          ],
          "name": "stdout"
        },
        {
          "output_type": "display_data",
          "data": {
            "image/png": "[encoded data removed]",
            "text/plain": [
              "<Figure size 576x432 with 2 Axes>"
            ]
          },
          "metadata": {
            "tags": [],
            "needs_background": "light"
          }
        },
        {
          "output_type": "stream",
          "text": [
            "time: 24.6 s\n"
          ],
          "name": "stdout"
        }
      ]
    },
    {
      "cell_type": "markdown",
      "metadata": {
        "id": "rSU4VB-iublR",
        "colab_type": "text"
      },
      "source": [
        "## LogisticRegression"
      ]
    },
    {
      "cell_type": "code",
      "metadata": {
        "id": "wcCKEi28ug3Z",
        "colab_type": "code",
        "outputId": "4e2740bc-720a-4af8-efd8-598223d30eb7",
        "colab": {
          "base_uri": "https://localhost:8080/",
          "height": 370
        }
      },
      "source": [
        "from sklearn.linear_model import LogisticRegression\n",
        "\n",
        "model = LogisticRegression(max_iter=1000)\n",
        "model.fit(X_train_tfidf, y_train)\n",
        "y_pred = model.predict(X_test_tfidf)\n",
        "\n",
        "print(f\"Accuracy : {accuracy_score(y_test, y_pred)}\")\n",
        "\n",
        "conf_mat = confusion_matrix(y_test, y_pred)\n",
        "fig, ax = plt.subplots(figsize=(8,5))\n",
        "sns.heatmap(conf_mat, annot=True, fmt='d', cmap=\"summer\", xticklabels=classes, yticklabels=classes)\n",
        "plt.ylabel('Actual')\n",
        "plt.xlabel('Predicted')\n",
        "plt.show()"
      ],
      "execution_count": 0,
      "outputs": [
        {
          "output_type": "stream",
          "text": [
            "Accuracy : 0.8598036273206706\n"
          ],
          "name": "stdout"
        },
        {
          "output_type": "display_data",
          "data": {
            "image/png": "[encoded data removed]",
            "text/plain": [
              "<Figure size 576x360 with 2 Axes>"
            ]
          },
          "metadata": {
            "tags": [],
            "needs_background": "light"
          }
        },
        {
          "output_type": "stream",
          "text": [
            "time: 4min 8s\n"
          ],
          "name": "stdout"
        }
      ]
    }
  ]
}